{
 "cells": [
  {
   "cell_type": "code",
   "execution_count": null,
   "metadata": {},
   "outputs": [],
   "source": [
    "# default_exp pyivp"
   ]
  },
  {
   "cell_type": "markdown",
   "metadata": {},
   "source": [
    "# pyivp.XYSegList"
   ]
  },
  {
   "cell_type": "code",
   "execution_count": null,
   "metadata": {},
   "outputs": [],
   "source": [
    "#hide\n",
    "from nbdev.showdoc import *"
   ]
  },
  {
   "cell_type": "markdown",
   "metadata": {},
   "source": [
    "## Compile and Install lib_pyivp (partially)"
   ]
  },
  {
   "cell_type": "code",
   "execution_count": null,
   "metadata": {},
   "outputs": [
    {
     "name": "stdout",
     "output_type": "stream",
     "text": [
      "make -C src\n",
      "make[1]: Entering directory '/home/arg/pyivp/src'\n",
      "mkdir build; cd build; cmake ..; make\n",
      "mkdir: cannot create directory ‘build’: File exists\n",
      "-------------------------------------------------------Use UTM:ON\n",
      "+++++++++++++++++++++++++++++++++++++++++\n",
      "IVP_GUI_CODE will be built......         \n",
      "+++++++++++++++++++++++++++++++++++++++++\n",
      "USING UTM\n",
      "+++++++++++++++++++++++++++++++++++++++++\n",
      "IVP_LIB_DIRECTORY:/usr/local/lib/\n",
      "+++++++++++++++++++++++++++++++++++++++++\n",
      "Bin directory: /home/arg/bin\n",
      "Include directory: /usr/local/include\n",
      "Lib directory: /usr/local/lib/\n",
      "-- Configuring done\n",
      "-- Generating done\n",
      "-- Build files have been written to: /home/arg/pyivp/src/build\n",
      "make[2]: Entering directory '/home/arg/pyivp/src/build'\n",
      "make[3]: Entering directory '/home/arg/pyivp/src/build'\n",
      "make[4]: Entering directory '/home/arg/pyivp/src/build'\n",
      "make[4]: Leaving directory '/home/arg/pyivp/src/build'\n",
      "[ 23%] Built target mbutil\n",
      "make[4]: Entering directory '/home/arg/pyivp/src/build'\n",
      "make[4]: Leaving directory '/home/arg/pyivp/src/build'\n",
      "[100%] Built target geometry\n",
      "make[3]: Leaving directory '/home/arg/pyivp/src/build'\n",
      "make[2]: Leaving directory '/home/arg/pyivp/src/build'\n",
      "make[1]: Leaving directory '/home/arg/pyivp/src'\n",
      "make -C src_unit_tests \n",
      "make[1]: Entering directory '/home/arg/pyivp/src_unit_tests'\n",
      "mkdir build; cd build; cmake ..; make; \n",
      "mkdir: cannot create directory ‘build’: File exists\n",
      " Apps to be built: utest;testConvexHull;testLeftTurn;testIncIntString;testLineCircleIntPts;testSegCircleIntPts;testArcSegCross;testArcSegCrossPts;testDistPointOnArc;testDistPointToArc;testDistPointToArcPt;testDistPtsOnArc;testDistSegToArc;testAngleDiff;testAngleInArc;testSegRayCPA;testPolyRayCPA;testBearingMinMaxToPoly;testDistPointToRay;testCpasRaySegl;testCpasArcSegl\n",
      "-- Configuring done\n",
      "-- Generating done\n",
      "-- Build files have been written to: /home/arg/pyivp/src_unit_tests/build\n",
      "make[2]: Entering directory '/home/arg/pyivp/src_unit_tests/build'\n",
      "make[3]: Entering directory '/home/arg/pyivp/src_unit_tests/build'\n",
      "make[4]: Entering directory '/home/arg/pyivp/src_unit_tests/build'\n",
      "make[4]: Leaving directory '/home/arg/pyivp/src_unit_tests/build'\n",
      "[  6%] Built target utest\n",
      "make[4]: Entering directory '/home/arg/pyivp/src_unit_tests/build'\n",
      "make[4]: Leaving directory '/home/arg/pyivp/src_unit_tests/build'\n",
      "[ 11%] Built target testConvexHull\n",
      "make[4]: Entering directory '/home/arg/pyivp/src_unit_tests/build'\n",
      "make[4]: Leaving directory '/home/arg/pyivp/src_unit_tests/build'\n",
      "[ 16%] Built target testLeftTurn\n",
      "make[4]: Entering directory '/home/arg/pyivp/src_unit_tests/build'\n",
      "make[4]: Leaving directory '/home/arg/pyivp/src_unit_tests/build'\n",
      "[ 20%] Built target testIncIntString\n",
      "make[4]: Entering directory '/home/arg/pyivp/src_unit_tests/build'\n",
      "make[4]: Leaving directory '/home/arg/pyivp/src_unit_tests/build'\n",
      "[ 25%] Built target testLineCircleIntPts\n",
      "make[4]: Entering directory '/home/arg/pyivp/src_unit_tests/build'\n",
      "make[4]: Leaving directory '/home/arg/pyivp/src_unit_tests/build'\n",
      "[ 30%] Built target testSegCircleIntPts\n",
      "make[4]: Entering directory '/home/arg/pyivp/src_unit_tests/build'\n",
      "make[4]: Leaving directory '/home/arg/pyivp/src_unit_tests/build'\n",
      "[ 34%] Built target testArcSegCross\n",
      "make[4]: Entering directory '/home/arg/pyivp/src_unit_tests/build'\n",
      "make[4]: Leaving directory '/home/arg/pyivp/src_unit_tests/build'\n",
      "[ 39%] Built target testArcSegCrossPts\n",
      "make[4]: Entering directory '/home/arg/pyivp/src_unit_tests/build'\n",
      "make[4]: Leaving directory '/home/arg/pyivp/src_unit_tests/build'\n",
      "[ 44%] Built target testDistPointOnArc\n",
      "make[4]: Entering directory '/home/arg/pyivp/src_unit_tests/build'\n",
      "make[4]: Leaving directory '/home/arg/pyivp/src_unit_tests/build'\n",
      "[ 48%] Built target testDistPointToArc\n",
      "make[4]: Entering directory '/home/arg/pyivp/src_unit_tests/build'\n",
      "make[4]: Leaving directory '/home/arg/pyivp/src_unit_tests/build'\n",
      "[ 53%] Built target testDistPointToArcPt\n",
      "make[4]: Entering directory '/home/arg/pyivp/src_unit_tests/build'\n",
      "make[4]: Leaving directory '/home/arg/pyivp/src_unit_tests/build'\n",
      "[ 58%] Built target testDistPtsOnArc\n",
      "make[4]: Entering directory '/home/arg/pyivp/src_unit_tests/build'\n",
      "make[4]: Leaving directory '/home/arg/pyivp/src_unit_tests/build'\n",
      "[ 62%] Built target testDistSegToArc\n",
      "make[4]: Entering directory '/home/arg/pyivp/src_unit_tests/build'\n",
      "make[4]: Leaving directory '/home/arg/pyivp/src_unit_tests/build'\n",
      "[ 67%] Built target testAngleDiff\n",
      "make[4]: Entering directory '/home/arg/pyivp/src_unit_tests/build'\n",
      "make[4]: Leaving directory '/home/arg/pyivp/src_unit_tests/build'\n",
      "[ 72%] Built target testAngleInArc\n",
      "make[4]: Entering directory '/home/arg/pyivp/src_unit_tests/build'\n",
      "make[4]: Leaving directory '/home/arg/pyivp/src_unit_tests/build'\n",
      "[ 76%] Built target testSegRayCPA\n",
      "make[4]: Entering directory '/home/arg/pyivp/src_unit_tests/build'\n",
      "make[4]: Leaving directory '/home/arg/pyivp/src_unit_tests/build'\n",
      "[ 81%] Built target testPolyRayCPA\n",
      "make[4]: Entering directory '/home/arg/pyivp/src_unit_tests/build'\n",
      "make[4]: Leaving directory '/home/arg/pyivp/src_unit_tests/build'\n",
      "[ 86%] Built target testBearingMinMaxToPoly\n",
      "make[4]: Entering directory '/home/arg/pyivp/src_unit_tests/build'\n",
      "make[4]: Leaving directory '/home/arg/pyivp/src_unit_tests/build'\n",
      "[ 90%] Built target testDistPointToRay\n",
      "make[4]: Entering directory '/home/arg/pyivp/src_unit_tests/build'\n",
      "make[4]: Leaving directory '/home/arg/pyivp/src_unit_tests/build'\n",
      "[ 95%] Built target testCpasRaySegl\n",
      "make[4]: Entering directory '/home/arg/pyivp/src_unit_tests/build'\n",
      "make[4]: Leaving directory '/home/arg/pyivp/src_unit_tests/build'\n",
      "[100%] Built target testCpasArcSegl\n",
      "make[3]: Leaving directory '/home/arg/pyivp/src_unit_tests/build'\n",
      "make[2]: Leaving directory '/home/arg/pyivp/src_unit_tests/build'\n",
      "make[1]: Leaving directory '/home/arg/pyivp/src_unit_tests'\n",
      "make -C src/pybind11 \n",
      "make[1]: Entering directory '/home/arg/pyivp/src/pybind11'\n",
      "mkdir build; cd build; cmake ..; make; make install\n",
      "mkdir: cannot create directory ‘build’: File exists\n",
      "-- Configuring done\n",
      "-- Generating done\n",
      "-- Build files have been written to: /home/arg/pyivp/src/pybind11/build\n",
      "make[2]: Entering directory '/home/arg/pyivp/src/pybind11/build'\n",
      "make[3]: Entering directory '/home/arg/pyivp/src/pybind11/build'\n",
      "make[4]: Entering directory '/home/arg/pyivp/src/pybind11/build'\n",
      "\u001b[35m\u001b[1mScanning dependencies of target pyivp\u001b[0m\n",
      "make[4]: Leaving directory '/home/arg/pyivp/src/pybind11/build'\n",
      "make[4]: Entering directory '/home/arg/pyivp/src/pybind11/build'\n",
      "[  1%] \u001b[32mBuilding CXX object CMakeFiles/pyivp.dir/XYSegList.cpp.o\u001b[0m\n",
      "[  2%] \u001b[32m\u001b[1mLinking CXX shared module pyivp.cpython-38-x86_64-linux-gnu.so\u001b[0m\n",
      "make[4]: Leaving directory '/home/arg/pyivp/src/pybind11/build'\n",
      "[100%] Built target pyivp\n",
      "make[3]: Leaving directory '/home/arg/pyivp/src/pybind11/build'\n",
      "make[2]: Leaving directory '/home/arg/pyivp/src/pybind11/build'\n",
      "make[2]: Entering directory '/home/arg/pyivp/src/pybind11/build'\n",
      "make[3]: Entering directory '/home/arg/pyivp/src/pybind11/build'\n",
      "make[4]: Entering directory '/home/arg/pyivp/src/pybind11/build'\n",
      "make[4]: Leaving directory '/home/arg/pyivp/src/pybind11/build'\n",
      "[100%] Built target pyivp\n",
      "make[3]: Leaving directory '/home/arg/pyivp/src/pybind11/build'\n",
      "\u001b[36mInstall the project...\u001b[0m\n",
      "-- Install configuration: \"Release\"\n",
      "-- Installing: /usr/lib/python3/dist-packages/pyivp.cpython-38-x86_64-linux-gnu.so\n",
      "make[2]: Leaving directory '/home/arg/pyivp/src/pybind11/build'\n",
      "make[1]: Leaving directory '/home/arg/pyivp/src/pybind11'\n",
      "nbdev_clean_nbs\n",
      "cd src_unit_tests; ./alltest.sh\n",
      "===========================================\n",
      "NOTE: build  has no cases.utf file to check\n",
      "===========================================\n",
      "===========================================\n",
      "Checking: testAngleDiff/cases.utf\n",
      "===========================================\n",
      "Testing file: cases.utf\n",
      " Line 2 OK \n",
      " Line 3 OK \n",
      " Line 4 OK \n",
      " Line 6 OK \n",
      " Line 8 OK \n",
      " Line 9 OK \n",
      " Line 10 OK \n",
      " Line 11 OK \n",
      " Line 12 OK \n",
      " Line 13 OK \n",
      " Line 14 OK \n",
      " Line 15 OK \n",
      " Line 16 OK \n",
      " Line 17 OK \n",
      " Line 18 OK \n",
      " Line 19 OK \n",
      " Line 20 OK \n",
      " Line 21 OK \n",
      " Line 22 OK \n",
      " Line 23 OK \n",
      " Line 24 OK \n",
      "===========================================\n",
      "Checking: testAngleInArc/cases.utf\n",
      "===========================================\n",
      "Testing file: cases.utf\n",
      " Line 2 OK \n",
      " Line 3 OK \n",
      " Line 4 OK \n",
      " Line 5 OK \n",
      " Line 6 OK \n",
      " Line 7 OK \n",
      " Line 8 OK \n",
      " Line 10 OK \n",
      " Line 11 OK \n",
      " Line 13 OK \n",
      " Line 14 OK \n",
      " Line 16 OK \n",
      " Line 17 OK \n",
      " Line 21 OK \n",
      "===========================================\n",
      "Checking: testArcSegCross/cases.utf\n",
      "===========================================\n",
      "Testing file: cases.utf\n",
      " Line 2 OK \n",
      " Line 3 OK \n",
      " Line 4 OK \n",
      "===========================================\n",
      "Checking: testArcSegCrossPts/cases.utf\n",
      "===========================================\n",
      "Testing file: cases.utf\n",
      " Line 2 OK \n",
      " Line 3 OK \n",
      " Line 6 OK \n",
      "===========================================\n",
      "Checking: testBearingMinMaxToPoly/cases.utf\n",
      "===========================================\n",
      "Testing file: cases.utf\n",
      " Line 3 FAIL \n",
      "sys_cmd: [testBearingMinMaxToPoly poly=250,-50:275,-50:275,-25:250,-25  px=15 py=5]\n",
      "results: [bmin=96.58,bmax=103.17]\n",
      "expected:[bmin=96.58,bmax=97.28]\n",
      " Line 4 FAIL \n",
      "sys_cmd: [testBearingMinMaxToPoly poly=250,-50:275,-50:275,-25:250,-25  px=15 py=-40]\n",
      "results: [bmin=86.35,bmax=92.44]\n",
      "expected:[bmin=86.35,bmax=92.44]\n",
      "Failed on test file: cases.utf\n",
      "===========================================\n",
      "Checking: testConvexHull/cases.utf\n",
      "===========================================\n",
      "Testing file: cases.utf\n",
      " Line 3 FAIL \n",
      "sys_cmd: [testSegRayCPA pts={107.5,-53.5:112,-43.8:112,-46.1:111.7,-49.3:108.3,-52.7:107.7,-53.3}]\n",
      "results: [Error:arg[pts={107.5,-53.5:112,-43.8:112,-46.1:111.7,-49.3:108.3,-52.7:107.7,-53.3}]Exiting.]\n",
      "expected:[]\n",
      "Failed on test file: cases.utf\n",
      "===========================================\n",
      "Checking: testCpasArcSegl/cases.utf\n",
      "===========================================\n",
      "Testing file: cases.utf\n",
      " Line 4 OK \n",
      " Line 9 OK \n",
      " Line 13 OK \n",
      "===========================================\n",
      "Checking: testCpasRaySegl/cases.utf\n",
      "===========================================\n",
      "Testing file: cases.utf\n",
      " Line 3 OK \n",
      " Line 6 OK \n",
      " Line 9 OK \n",
      " Line 14 OK \n",
      "===========================================\n",
      "Checking: testDistPointOnArc/cases.utf\n",
      "===========================================\n",
      "Testing file: cases.utf\n",
      " Line 3 OK \n"
     ]
    },
    {
     "name": "stdout",
     "output_type": "stream",
     "text": [
      " Line 4 OK \n",
      " Line 6 OK \n",
      " Line 7 OK \n",
      "===========================================\n",
      "Checking: testDistPointToArc/cases.utf\n",
      "===========================================\n",
      "Testing file: cases.utf\n",
      " Line 3 OK \n",
      " Line 4 OK \n",
      " Line 5 OK \n",
      " Line 6 OK \n",
      " Line 8 OK \n",
      " Line 9 OK \n",
      " Line 10 OK \n",
      "===========================================\n",
      "Checking: testDistPointToArcPt/cases.utf\n",
      "===========================================\n",
      "Testing file: cases.utf\n",
      " Line 5 OK \n",
      " Line 9 OK \n",
      " Line 13 OK \n",
      " Line 17 OK \n",
      " Line 21 OK \n",
      " Line 26 OK \n",
      "===========================================\n",
      "Checking: testDistPointToRay/cases.utf\n",
      "===========================================\n",
      "Testing file: cases.utf\n",
      " Line 3 OK \n",
      " Line 5 OK \n",
      " Line 6 OK \n",
      " Line 7 OK \n",
      " Line 9 OK \n",
      "===========================================\n",
      "Checking: testDistPtsOnArc/cases.utf\n",
      "===========================================\n",
      "Testing file: cases.utf\n",
      "===========================================\n",
      "Checking: testDistSegListToArc/cases.utf\n",
      "===========================================\n",
      "Testing file: cases.utf\n",
      " Line 3 OK \n",
      " Line 4 OK \n",
      " Line 6 OK \n",
      " Line 7 OK \n",
      " Line 8 OK \n",
      " Line 10 OK \n",
      " Line 13 OK \n",
      " Line 14 OK \n",
      "===========================================\n",
      "Checking: testDistSegToArc/cases.utf\n",
      "===========================================\n",
      "Testing file: cases.utf\n",
      " Line 3 OK \n",
      " Line 4 OK \n",
      " Line 6 OK \n",
      " Line 7 OK \n",
      " Line 8 OK \n",
      " Line 10 OK \n",
      " Line 13 OK \n",
      " Line 14 OK \n",
      " Line 16 OK \n",
      "===========================================\n",
      "Checking: testIncIntString/cases.utf\n",
      "===========================================\n",
      "Testing file: cases.utf\n",
      " Line 2 FAIL \n",
      "sys_cmd: [testIncIntString str=foo23       amt=1  keep=true]\n",
      "results: [new_str=24]\n",
      "expected:[new_str=foo24]\n",
      " Line 3 FAIL \n",
      "sys_cmd: [testIncIntString str=foo23bar    amt=3  keep=true]\n",
      "results: [new_str=26]\n",
      "expected:[new_str=foo26]\n",
      " Line 4 FAIL \n",
      "sys_cmd: [testIncIntString str=foo23bar34  amt=1  keep=true]\n",
      "results: [new_str=2335]\n",
      "expected:[new_str=foo2335]\n",
      " Line 7 OK \n",
      " Line 8 OK \n",
      "Failed on test file: cases.utf\n",
      "===========================================\n",
      "Checking: testLeftTurn/cases.utf\n",
      "===========================================\n",
      "Testing file: cases.utf\n",
      " Line 2 FAIL \n",
      "sys_cmd: [testLeftTurn x1=0 y1=0 x2=0 y2=40 x3=50 y3=40]\n",
      "results: [left_turn=false]\n",
      "expected:[left_turn=true]\n",
      " Line 3 OK \n",
      "Failed on test file: cases.utf\n",
      "===========================================\n",
      "NOTE: testLineCircleIntPts  has no cases.utf file to check\n",
      "===========================================\n",
      "===========================================\n",
      "Checking: testPolyRayCPA/cases.utf\n",
      "===========================================\n",
      "Testing file: cases.utf\n",
      " Line 3 OK \n",
      " Line 4 OK \n",
      " Line 5 OK \n",
      " Line 6 OK \n",
      "===========================================\n",
      "Checking: testSegCircleIntPts/cases.utf\n",
      "===========================================\n",
      "Testing file: cases.utf\n",
      " Line 2 OK \n",
      " Line 3 OK \n",
      " Line 5 OK \n",
      " Line 6 OK \n",
      " Line 8 OK \n",
      "===========================================\n",
      "Checking: testSegRayCPA/cases.utf\n",
      "===========================================\n",
      "Testing file: cases.utf\n",
      " Line 3 OK \n",
      " Line 4 OK \n",
      "===========================================\n",
      "Checking: utest/cases.utf\n",
      "===========================================\n",
      "Testing file: cases.utf\n",
      " Line 3 OK \n",
      " Line 4 OK \n",
      " Line 5 OK \n",
      " Line 6 OK \n",
      " Line 7 OK \n",
      " Line 8 OK \n",
      " Line 10 OK \n",
      "===========================================\n",
      "Checking: utgen/cases.utf\n",
      "===========================================\n",
      "Testing file: cases.utf\n",
      " Line 3 OK \n",
      " Line 4 OK \n",
      " Line 5 OK \n",
      " Line 6 OK \n",
      " Line 7 OK \n",
      " Line 8 OK \n",
      " Line 10 OK \n",
      "cd src/pytest; python3 test_pattern_block.py\n",
      "== Test package and local function. ==\n",
      "C++ result x plus y is: 3\n",
      "Python result x plus y is:  3\n",
      "== Test XYPoint ==\n",
      "x=0,y=0\n",
      "x=10,y=15\n"
     ]
    }
   ],
   "source": [
    "! cd ~/pyivp && make"
   ]
  },
  {
   "cell_type": "markdown",
   "metadata": {},
   "source": [
    "### Run python library in Jupyter Notebook"
   ]
  },
  {
   "cell_type": "code",
   "execution_count": null,
   "metadata": {},
   "outputs": [],
   "source": [
    "import pyivp"
   ]
  },
  {
   "cell_type": "code",
   "execution_count": null,
   "metadata": {},
   "outputs": [
    {
     "name": "stdout",
     "output_type": "stream",
     "text": [
      "pybind11 for cpp labs\n"
     ]
    }
   ],
   "source": [
    "print(pyivp.__doc__)"
   ]
  },
  {
   "cell_type": "markdown",
   "metadata": {},
   "source": [
    "## XYPoint\n",
    "#### create a XYPoint object py_v1 and initialize it as given value"
   ]
  },
  {
   "cell_type": "code",
   "execution_count": null,
   "metadata": {},
   "outputs": [],
   "source": [
    "py_v1 = pyivp.XYPoint(5, 10)"
   ]
  },
  {
   "cell_type": "markdown",
   "metadata": {},
   "source": [
    "## XYSegList\n",
    "#### create a XYSegList object py_v2 and add vertex"
   ]
  },
  {
   "cell_type": "code",
   "execution_count": null,
   "metadata": {},
   "outputs": [],
   "source": [
    "py_v2 = pyivp.XYSegList()"
   ]
  },
  {
   "cell_type": "code",
   "execution_count": null,
   "metadata": {},
   "outputs": [
    {
     "name": "stdout",
     "output_type": "stream",
     "text": [
      "add_vertex(*args, **kwargs)\n",
      "Overloaded function.\n",
      "\n",
      "1. add_vertex(self: pyivp.XYSegList, arg0: pyivp.XYPoint, arg1: str) -> None\n",
      "\n",
      "add vertex with a vertex\n",
      "Input: XYPoint&, vprop\n",
      "\n",
      "2. add_vertex(self: pyivp.XYSegList, arg0: float, arg1: float, arg2: float, arg3: str) -> None\n",
      "\n",
      "add vertex with x y\n",
      "Input: x, y, z, vprop\n",
      "\n"
     ]
    }
   ],
   "source": [
    "print(py_v2.add_vertex.__doc__)"
   ]
  },
  {
   "cell_type": "code",
   "execution_count": null,
   "metadata": {},
   "outputs": [],
   "source": [
    "py_v2.add_vertex(py_v1, \"v1\")\n",
    "py_v2.add_vertex(1, 1, 1, \"v0\")\n",
    "py_v2.add_vertex(3, 3, 3, \"v3\")\n",
    "py_v2.add_vertex(4, 4, 4, \"v4\")"
   ]
  },
  {
   "cell_type": "code",
   "execution_count": null,
   "metadata": {},
   "outputs": [
    {
     "name": "stdout",
     "output_type": "stream",
     "text": [
      "get_spec(*args, **kwargs)\n",
      "Overloaded function.\n",
      "\n",
      "1. get_spec(self: pyivp.XYSegList, arg0: int) -> str\n",
      "\n",
      "you can see SegList with this function\n",
      "We set the vertex precision to be at the integer by default.\n",
      "Input: precision\n",
      "Return: content of XYSegList\n",
      "\n",
      "2. get_spec(self: pyivp.XYSegList, arg0: str) -> str\n",
      "\n",
      "you can see SegList with this function\n",
      "Input: param\n",
      "Return: content of XYSegList\n",
      "\n",
      "3. get_spec(self: pyivp.XYSegList, arg0: int, arg1: str) -> str\n",
      "\n",
      "you can see SegList with this function\n",
      "We set the vertex precision to be at the integer by default.\n",
      "Input: precision,param\n",
      "Return: content of XYSegList\n",
      "\n"
     ]
    }
   ],
   "source": [
    "print(py_v2.get_spec.__doc__)"
   ]
  },
  {
   "cell_type": "code",
   "execution_count": null,
   "metadata": {},
   "outputs": [
    {
     "name": "stdout",
     "output_type": "stream",
     "text": [
      "get_spec_result: pts={5,10,0,v1:1,1,1,v0:3,3,3,v3:4,4,4,v4}\n",
      "get_spec_result pts={5,10,0,v1:1,1,1,v0:3,3,3,v3:4,4,4,v4}\n",
      "get_spec_result pts={5,10,0,v1:1,1,1,v0:3,3,3,v3:4,4,4,v4}\n"
     ]
    }
   ],
   "source": [
    "print(\"get_spec_result:\", py_v2.get_spec(2))\n",
    "print(\"get_spec_result\", py_v2.get_spec(\"py_v2\"))\n",
    "print(\"get_spec_result\", py_v2.get_spec(4, \"py_v2\"))"
   ]
  },
  {
   "cell_type": "code",
   "execution_count": null,
   "metadata": {},
   "outputs": [
    {
     "name": "stdout",
     "output_type": "stream",
     "text": [
      "get_spec_pts(self: pyivp.XYSegList, vertex_prec: int = 1) -> str\n",
      "\n",
      "We set the vertex precision to be at the integer by default.\n",
      "Input: precision\n",
      "Return: content of XYSegList\n",
      "\n"
     ]
    }
   ],
   "source": [
    "print(py_v2.get_spec_pts.__doc__) "
   ]
  },
  {
   "cell_type": "code",
   "execution_count": null,
   "metadata": {},
   "outputs": [
    {
     "name": "stdout",
     "output_type": "stream",
     "text": [
      "get_spec_pts_result pts={5,10,0,v1:1,1,1,v0:3,3,3,v3:4,4,4,v4}\n"
     ]
    }
   ],
   "source": [
    "print(\"get_spec_pts_result\", py_v2.get_spec_pts(1))"
   ]
  },
  {
   "cell_type": "code",
   "execution_count": null,
   "metadata": {},
   "outputs": [
    {
     "name": "stdout",
     "output_type": "stream",
     "text": [
      "size(self: pyivp.XYSegList) -> int\n",
      "\n",
      "return the size of the SegLsit\n",
      "Return: size of the SegLsit\n",
      "\n"
     ]
    }
   ],
   "source": [
    "print(py_v2.size.__doc__) "
   ]
  },
  {
   "cell_type": "code",
   "execution_count": null,
   "metadata": {},
   "outputs": [
    {
     "name": "stdout",
     "output_type": "stream",
     "text": [
      "size_result: 4\n"
     ]
    }
   ],
   "source": [
    "print(\"size_result:\", py_v2.size())"
   ]
  },
  {
   "cell_type": "code",
   "execution_count": null,
   "metadata": {},
   "outputs": [
    {
     "name": "stdout",
     "output_type": "stream",
     "text": [
      "closest_segment(self: pyivp.XYSegList, arg0: float, arg1: float, arg2: bool) -> int\n",
      "\n",
      "Find the existing segment that is closest to the given point. it will the 'leading' index of the segment.\n",
      "Input: x, y, check_implied_seg\n",
      "Return: index of closest segement -1 \n",
      "\n"
     ]
    }
   ],
   "source": [
    "print(py_v2.closest_segment.__doc__) "
   ]
  },
  {
   "cell_type": "code",
   "execution_count": null,
   "metadata": {},
   "outputs": [
    {
     "name": "stdout",
     "output_type": "stream",
     "text": [
      "closest_segement_result: 2\n"
     ]
    }
   ],
   "source": [
    "print(\"closest_segement_result:\", py_v2.closest_segment(4, 4, True))"
   ]
  },
  {
   "cell_type": "code",
   "execution_count": null,
   "metadata": {},
   "outputs": [
    {
     "name": "stdout",
     "output_type": "stream",
     "text": [
      "mod_vertex(self: pyivp.XYSegList, arg0: int, arg1: float, arg2: float, arg3: float, arg4: str) -> None\n",
      "\n",
      "modify the vertex\n",
      "Input: ix, x, y, z, vprop\n",
      "\n"
     ]
    }
   ],
   "source": [
    "print(py_v2.mod_vertex.__doc__) "
   ]
  },
  {
   "cell_type": "code",
   "execution_count": null,
   "metadata": {},
   "outputs": [
    {
     "name": "stdout",
     "output_type": "stream",
     "text": [
      "mod_result: pts={0,0,0,v0:1,1,1,v1:3,3,3,v3:4,4,4,v4}\n"
     ]
    }
   ],
   "source": [
    "py_v2.mod_vertex(0, 0, 0, 0, \"v0\")\n",
    "py_v2.mod_vertex(1, 1, 1, 1, \"v1\")\n",
    "print(\"mod_result:\", py_v2.get_spec(2))"
   ]
  },
  {
   "cell_type": "code",
   "execution_count": null,
   "metadata": {},
   "outputs": [
    {
     "name": "stdout",
     "output_type": "stream",
     "text": [
      "alter_vertex(self: pyivp.XYSegList, arg0: float, arg1: float, arg2: float, arg3: str) -> None\n",
      "\n",
      "fing the existing vertex that is closest ,and replace it.\n",
      "Input: x, y, z, s\n",
      "\n"
     ]
    }
   ],
   "source": [
    "print(py_v2.alter_vertex.__doc__) "
   ]
  },
  {
   "cell_type": "code",
   "execution_count": null,
   "metadata": {},
   "outputs": [
    {
     "name": "stdout",
     "output_type": "stream",
     "text": [
      "alter_result: pts={0,0,0,v0:2,2,2,v2:3,3,3,v3:4,4,4,v4}\n"
     ]
    }
   ],
   "source": [
    "py_v2.alter_vertex(2, 2, 2, \"v2\")\n",
    "print(\"alter_result:\", py_v2.get_spec(2))"
   ]
  },
  {
   "cell_type": "code",
   "execution_count": null,
   "metadata": {},
   "outputs": [
    {
     "name": "stdout",
     "output_type": "stream",
     "text": [
      "delete_vertex(*args, **kwargs)\n",
      "Overloaded function.\n",
      "\n",
      "1. delete_vertex(self: pyivp.XYSegList, arg0: float, arg1: float) -> None\n",
      "\n",
      "given a new vertex .find the existing vertex that is closet,and delete it\n",
      "Input: x, y\n",
      "\n",
      "2. delete_vertex(self: pyivp.XYSegList, arg0: int) -> None\n",
      "\n",
      "given a valid vertex index,delete that vertex from the SegList.\n",
      "Input: ix\n",
      "\n"
     ]
    }
   ],
   "source": [
    "print(py_v2.delete_vertex.__doc__) "
   ]
  },
  {
   "cell_type": "code",
   "execution_count": null,
   "metadata": {},
   "outputs": [
    {
     "name": "stdout",
     "output_type": "stream",
     "text": [
      "delete_result: pts={0,0,0,v0:2,2,2,v2:4,4,4,v4}\n",
      "delete_result: pts={2,2,2,v2:4,4,4,v4}\n"
     ]
    }
   ],
   "source": [
    "py_v2.delete_vertex(3, 3)\n",
    "print(\"delete_result:\", py_v2.get_spec(2))\n",
    "py_v2.delete_vertex(0)\n",
    "print(\"delete_result:\", py_v2.get_spec(2))"
   ]
  },
  {
   "cell_type": "code",
   "execution_count": null,
   "metadata": {},
   "outputs": [
    {
     "name": "stdout",
     "output_type": "stream",
     "text": [
      "insert_vertex(self: pyivp.XYSegList, arg0: float, arg1: float, arg2: float, arg3: str) -> None\n",
      "\n",
      "Given a new vertex, find the existing segment that is closest, and add the vertex between points\n",
      "Input: x, y, z, s\n",
      "\n"
     ]
    }
   ],
   "source": [
    "print(py_v2.insert_vertex.__doc__) "
   ]
  },
  {
   "cell_type": "code",
   "execution_count": null,
   "metadata": {},
   "outputs": [
    {
     "name": "stdout",
     "output_type": "stream",
     "text": [
      "insert_result: pts={2,2,2,v2:3,3,3,v3:4,4,4,v4}\n"
     ]
    }
   ],
   "source": [
    "py_v2.insert_vertex(3, 3, 3, \"v3\")\n",
    "print(\"insert_result:\", py_v2.get_spec(2))"
   ]
  },
  {
   "cell_type": "code",
   "execution_count": null,
   "metadata": {},
   "outputs": [
    {
     "name": "stdout",
     "output_type": "stream",
     "text": [
      "pop_last_vertex(self: pyivp.XYSegList) -> None\n",
      "\n",
      "Remove the last vertex\n",
      "\n"
     ]
    }
   ],
   "source": [
    "print(py_v2.pop_last_vertex.__doc__) "
   ]
  },
  {
   "cell_type": "code",
   "execution_count": null,
   "metadata": {},
   "outputs": [
    {
     "name": "stdout",
     "output_type": "stream",
     "text": [
      "pop_last_vertex_result: pts={2,2,2,v2:3,3,3,v3}\n"
     ]
    }
   ],
   "source": [
    "py_v2.pop_last_vertex()\n",
    "print(\"pop_last_vertex_result:\", py_v2.get_spec(2))"
   ]
  },
  {
   "cell_type": "code",
   "execution_count": null,
   "metadata": {},
   "outputs": [
    {
     "name": "stdout",
     "output_type": "stream",
     "text": [
      "shift_horz(self: pyivp.XYSegList, val: float) -> None\n",
      "\n",
      "shift x(horz) as give value\n",
      "Input: shift value\n",
      "\n",
      "shift_vert(self: pyivp.XYSegList, val: float) -> None\n",
      "\n",
      "shift y(vert) as give value\n",
      "Input: shift value\n",
      "\n"
     ]
    }
   ],
   "source": [
    "print(py_v2.shift_horz.__doc__) \n",
    "print(py_v2.shift_vert.__doc__) "
   ]
  },
  {
   "cell_type": "code",
   "execution_count": null,
   "metadata": {},
   "outputs": [
    {
     "name": "stdout",
     "output_type": "stream",
     "text": [
      "shift_horz_result: pts={1,2,2,v2:2,3,3,v3}\n",
      "shift_vert_result: pts={1,1,2,v2:2,2,3,v3}\n"
     ]
    }
   ],
   "source": [
    "py_v2.shift_horz(-1)\n",
    "print(\"shift_horz_result:\", py_v2.get_spec(2))\n",
    "py_v2.shift_vert(-1)\n",
    "print(\"shift_vert_result:\", py_v2.get_spec(2))"
   ]
  },
  {
   "cell_type": "code",
   "execution_count": null,
   "metadata": {},
   "outputs": [
    {
     "name": "stdout",
     "output_type": "stream",
     "text": [
      "pts={1,1,2,v2:2,2,3,v3}\n",
      "1.5\n",
      "1.5\n"
     ]
    }
   ],
   "source": [
    "print(py_v2.get_spec(2))\n",
    "print(py_v2.get_centroid_x())\n",
    "print(py_v2.get_centroid_y())"
   ]
  },
  {
   "cell_type": "code",
   "execution_count": null,
   "metadata": {},
   "outputs": [
    {
     "name": "stdout",
     "output_type": "stream",
     "text": [
      "grow_by_pct_result pts={0.5,0.5,2,v2:2.5,2.5,3,v3}\n"
     ]
    }
   ],
   "source": [
    "py_v2.grow_by_pct(1)\n",
    "print(\"grow_by_pct_result\", py_v2.get_spec(2))"
   ]
  },
  {
   "cell_type": "code",
   "execution_count": null,
   "metadata": {},
   "outputs": [
    {
     "name": "stdout",
     "output_type": "stream",
     "text": [
      "grow_by_pct(self: pyivp.XYSegList, pct: float) -> None\n",
      "\n",
      "grow_by_pct\n",
      "Input: pct\n",
      "Return:\n",
      " new_x=(x-centroid_x)*pct\n",
      " new_y=(y-centroid_y)*pct\n",
      " \n",
      "\n",
      "grow_by_amt(self: pyivp.XYSegList, amt: float) -> None\n",
      "\n",
      "grow_by_amt\n",
      "Return:\n",
      " degval=angle between x, y & centroid_x, centroid_y\n",
      " radang=degToRadians(degval)\n",
      " telta_x=sin(radang)*amt,telta_y=cos(radang)*amt\n",
      " new_x=centroid_x+telta_x,new_x=y=centroid_y+telta_y\n",
      " \n",
      "\n",
      "apply_snap(self: pyivp.XYSegList, snapval: float) -> None\n",
      "\n",
      "use function snapToStep on x, y\n",
      "Return:\n",
      "if snapval<=0\n",
      "  original_x, y\n",
      "else\n",
      "  new_val = orig_value /snapval\n",
      "  if new_val<0\n",
      "    itemp=new_val-0.5 \n",
      "  else\n",
      "    itemp=new_val+0.5\n",
      "  new_val_x, y= (double)itemp * step\n",
      "\n"
     ]
    }
   ],
   "source": [
    "print(py_v2.grow_by_pct.__doc__,'\\n')\n",
    "print(py_v2.grow_by_amt.__doc__,'\\n')\n",
    "print(py_v2.apply_snap.__doc__) "
   ]
  },
  {
   "cell_type": "code",
   "execution_count": null,
   "metadata": {},
   "outputs": [
    {
     "name": "stdout",
     "output_type": "stream",
     "text": [
      "pts={0.5,0.5,2,v2:2.5,2.5,3,v3}\n"
     ]
    }
   ],
   "source": [
    "print(py_v2.get_spec(3))\n"
   ]
  },
  {
   "cell_type": "code",
   "execution_count": null,
   "metadata": {},
   "outputs": [
    {
     "name": "stdout",
     "output_type": "stream",
     "text": [
      "apply_snap_result pts={0,0,2,v2:5,5,3,v3}\n"
     ]
    }
   ],
   "source": [
    "py_v2.apply_snap(5)\n",
    "print(\"apply_snap_result\", py_v2.get_spec(5))"
   ]
  },
  {
   "cell_type": "code",
   "execution_count": null,
   "metadata": {},
   "outputs": [
    {
     "name": "stdout",
     "output_type": "stream",
     "text": [
      "grow_by_pct_result pts={-2.5,-2.5,2,v2:7.5,7.5,3,v3}\n",
      "grow_by_amt_result pts={-7.5,-7.5,2,v2:12.5,12.5,3,v3}\n",
      "apply_snap_result pts={-8,-8,2,v2:12,12,3,v3}\n"
     ]
    }
   ],
   "source": [
    "py_v2.grow_by_pct(1)\n",
    "print(\"grow_by_pct_result\", py_v2.get_spec(2))\n",
    "py_v2.grow_by_amt(1)\n",
    "print(\"grow_by_amt_result\", py_v2.get_spec(2))\n",
    "py_v2.apply_snap(2)\n",
    "print(\"apply_snap_result\", py_v2.get_spec(2))"
   ]
  },
  {
   "cell_type": "code",
   "execution_count": null,
   "metadata": {},
   "outputs": [
    {
     "name": "stdout",
     "output_type": "stream",
     "text": [
      "apply_snap_result pts={-8,-8,2,v2:12,12,3,v3}\n"
     ]
    }
   ],
   "source": [
    "py_v2.apply_snap(1)\n",
    "print(\"apply_snap_result\", py_v2.get_spec(1))"
   ]
  },
  {
   "cell_type": "code",
   "execution_count": null,
   "metadata": {},
   "outputs": [
    {
     "name": "stdout",
     "output_type": "stream",
     "text": [
      "apply_snap_result pts={-9,-9,2,v2:12,12,3,v3}\n"
     ]
    }
   ],
   "source": [
    "py_v2.apply_snap(3)\n",
    "print(\"apply_snap_result\", py_v2.get_spec(2))"
   ]
  },
  {
   "cell_type": "code",
   "execution_count": null,
   "metadata": {},
   "outputs": [
    {
     "name": "stdout",
     "output_type": "stream",
     "text": [
      "apply_snap_result pts={-8,-8,2,v2:12,12,3,v3}\n"
     ]
    }
   ],
   "source": [
    "py_v2.apply_snap(4)\n",
    "print(\"apply_snap_result\", py_v2.get_spec(2))"
   ]
  },
  {
   "cell_type": "code",
   "execution_count": null,
   "metadata": {},
   "outputs": [
    {
     "name": "stdout",
     "output_type": "stream",
     "text": [
      "get_avg_x(self: pyivp.XYSegList) -> float\n",
      "\n",
      "Return the avg of the x values\n",
      "Return: average value of x\n",
      "\n",
      "get_avg_y(self: pyivp.XYSegList) -> float\n",
      "\n",
      "Return the avg of the y values\n",
      "Return: average value of y\n",
      "\n"
     ]
    }
   ],
   "source": [
    "print(py_v2.get_avg_x.__doc__) \n",
    "print(py_v2.get_avg_y.__doc__) "
   ]
  },
  {
   "cell_type": "code",
   "execution_count": null,
   "metadata": {},
   "outputs": [
    {
     "name": "stdout",
     "output_type": "stream",
     "text": [
      "get_avg_x_result 2.0\n",
      "get_avg_y_result 2.0\n"
     ]
    }
   ],
   "source": [
    "print(\"get_avg_x_result\", py_v2.get_avg_x())\n",
    "print(\"get_avg_y_result\", py_v2.get_avg_y())"
   ]
  },
  {
   "cell_type": "code",
   "execution_count": null,
   "metadata": {},
   "outputs": [
    {
     "name": "stdout",
     "output_type": "stream",
     "text": [
      "get_center_x(self: pyivp.XYSegList) -> float\n",
      "\n",
      "Return the mid point between the extreme x low, high\n",
      "Return: mid point of x\n",
      "\n",
      "get_center_y(self: pyivp.XYSegList) -> float\n",
      "\n",
      "Return the mid point between the extreme y low, high\n",
      "Return: mid point of y\n",
      "\n"
     ]
    }
   ],
   "source": [
    "print(py_v2.get_center_x.__doc__) \n",
    "print(py_v2.get_center_y.__doc__) "
   ]
  },
  {
   "cell_type": "code",
   "execution_count": null,
   "metadata": {},
   "outputs": [
    {
     "name": "stdout",
     "output_type": "stream",
     "text": [
      "get_center_x_result 2.0\n",
      "get_center_y_result 2.0\n"
     ]
    }
   ],
   "source": [
    "print(\"get_center_x_result\", py_v2.get_center_x())\n",
    "print(\"get_center_y_result\", py_v2.get_center_y())"
   ]
  },
  {
   "cell_type": "code",
   "execution_count": null,
   "metadata": {},
   "outputs": [
    {
     "name": "stdout",
     "output_type": "stream",
     "text": [
      "get_max_x(self: pyivp.XYSegList) -> float\n",
      "\n",
      "Return the max of the x values\n",
      "Return: max point of x\n",
      "\n",
      "get_max_y(self: pyivp.XYSegList) -> float\n",
      "\n",
      "Return the max of the y values\n",
      "Return: max point of y\n",
      "\n",
      "get_min_x(self: pyivp.XYSegList) -> float\n",
      "\n",
      "Return the min of the x values\n",
      "Return: min point of x\n",
      "\n",
      "get_min_y(self: pyivp.XYSegList) -> float\n",
      "\n",
      "Return the min of the y values\n",
      "Return: min point of y\n",
      "\n"
     ]
    }
   ],
   "source": [
    "print(py_v2.get_max_x.__doc__) \n",
    "print(py_v2.get_max_y.__doc__) \n",
    "print(py_v2.get_min_x.__doc__) \n",
    "print(py_v2.get_min_y.__doc__) "
   ]
  },
  {
   "cell_type": "code",
   "execution_count": null,
   "metadata": {},
   "outputs": [
    {
     "name": "stdout",
     "output_type": "stream",
     "text": [
      "get_max_x_result 12.0\n",
      "get_max_y_result 12.0\n",
      "get_min_x_result -8.0\n",
      "get_min_y_result -8.0\n"
     ]
    }
   ],
   "source": [
    "print(\"get_max_x_result\", py_v2.get_max_x())\n",
    "print(\"get_max_y_result\", py_v2.get_max_y())\n",
    "print(\"get_min_x_result\", py_v2.get_min_x())\n",
    "print(\"get_min_y_result\", py_v2.get_min_y())"
   ]
  },
  {
   "cell_type": "code",
   "execution_count": null,
   "metadata": {},
   "outputs": [
    {
     "name": "stdout",
     "output_type": "stream",
     "text": [
      "get_centroid_x(self: pyivp.XYSegList) -> float\n",
      "\n",
      "Return the x center of mass of all points\n",
      "Return: x center of mass\n",
      "\n",
      "get_centroid_y(self: pyivp.XYSegList) -> float\n",
      "\n",
      "Return the y center of mass of all points\n",
      "Return: y center of mass\n",
      "\n"
     ]
    }
   ],
   "source": [
    "print(py_v2.get_centroid_x.__doc__)\n",
    "print(py_v2.get_centroid_y.__doc__)"
   ]
  },
  {
   "cell_type": "code",
   "execution_count": null,
   "metadata": {},
   "outputs": [
    {
     "name": "stdout",
     "output_type": "stream",
     "text": [
      "get_centroid_x_result 2.0\n",
      "get_centroid_y_result 2.0\n"
     ]
    }
   ],
   "source": [
    "print(\"get_centroid_x_result\", py_v2.get_centroid_x())\n",
    "print(\"get_centroid_y_result\", py_v2.get_centroid_y())"
   ]
  },
  {
   "cell_type": "code",
   "execution_count": null,
   "metadata": {},
   "outputs": [
    {
     "name": "stdout",
     "output_type": "stream",
     "text": [
      "new_center(self: pyivp.XYSegList, x: float, y: float) -> None\n",
      "\n",
      "Setting new  center as given points\n",
      "Input: new_cx, new_cy\n",
      " \n",
      "\n",
      "new_centroid(self: pyivp.XYSegList, x: float, y: float) -> None\n",
      "\n",
      "Setting new  centroid as given points\n",
      "Input: new_cx, new_cy\n",
      "\n"
     ]
    }
   ],
   "source": [
    "print(py_v2.new_center.__doc__,'\\n')\n",
    "print(py_v2.new_centroid.__doc__)"
   ]
  },
  {
   "cell_type": "code",
   "execution_count": null,
   "metadata": {},
   "outputs": [
    {
     "name": "stdout",
     "output_type": "stream",
     "text": [
      "new_center_result pts={-5,-4,2,v2:15,16,3,v3}\n",
      "new_centroid_result pts={-7,-7,2,v2:13,13,3,v3}\n"
     ]
    }
   ],
   "source": [
    "py_v2.new_center(x=5, y=6)\n",
    "print(\"new_center_result\", py_v2.get_spec(2))\n",
    "py_v2.new_centroid(x=3, y=3)\n",
    "print(\"new_centroid_result\", py_v2.get_spec(2))"
   ]
  },
  {
   "cell_type": "code",
   "execution_count": null,
   "metadata": {},
   "outputs": [
    {
     "name": "stdout",
     "output_type": "stream",
     "text": [
      "reverse(self: pyivp.XYSegList) -> None\n",
      "\n",
      "reverse the result ( head-->tail ,tail-->head )\n",
      "\n"
     ]
    }
   ],
   "source": [
    "print(py_v2.reverse.__doc__)"
   ]
  },
  {
   "cell_type": "code",
   "execution_count": null,
   "metadata": {},
   "outputs": [
    {
     "name": "stdout",
     "output_type": "stream",
     "text": [
      "reverse_result pts={13,13,3,v3:-7,-7,2,v2}\n"
     ]
    }
   ],
   "source": [
    "py_v2.reverse()\n",
    "print(\"reverse_result\", py_v2.get_spec(2))"
   ]
  },
  {
   "cell_type": "code",
   "execution_count": null,
   "metadata": {},
   "outputs": [
    {
     "name": "stdout",
     "output_type": "stream",
     "text": [
      "rotate(*args, **kwargs)\n",
      "Overloaded function.\n",
      "\n",
      "1. rotate(self: pyivp.XYSegList, degree: float) -> None\n",
      "\n",
      "depends on the value of degrees and cx, cy , caculate it and produce new XYSegList\n",
      "Input: degrees\n",
      "\n",
      "2. rotate(self: pyivp.XYSegList, degrees: float, cx: float, cy: float) -> None\n",
      "\n",
      "depends on the value of degrees and cx, cy , caculate it and produce new XYSegList\n",
      "Input: degrees, cx, cy\n",
      "\n"
     ]
    }
   ],
   "source": [
    "print(py_v2.rotate.__doc__)"
   ]
  },
  {
   "cell_type": "code",
   "execution_count": null,
   "metadata": {},
   "outputs": [
    {
     "name": "stdout",
     "output_type": "stream",
     "text": [
      "rotate_result pts={13.45,12.54,3,v3:-7.24,-6.75,2,v2}\n",
      "rotate_result pts={13.94,11.98,3,v3:-7.73,-6.2,2,v2}\n"
     ]
    }
   ],
   "source": [
    "py_v2.rotate(degrees=2, cx=0, cy=0)\n",
    "print(\"rotate_result\", py_v2.get_spec(2))\n",
    "py_v2.rotate(3)\n",
    "print(\"rotate_result\", py_v2.get_spec(2))"
   ]
  },
  {
   "cell_type": "code",
   "execution_count": null,
   "metadata": {},
   "outputs": [
    {
     "name": "stdout",
     "output_type": "stream",
     "text": [
      "closest_vertex(self: pyivp.XYSegList, arg0: float, arg1: float) -> int\n",
      "\n",
      "Find the existing vertex that is closest to the given point.\n",
      "Input: x, y\n",
      "Return: The index of the vertex that is closest. A return of zero indicates either vertex index=0, or the SegList is empty. This can be discerned by the caller by checking the size() of the SegList.\n",
      "\n",
      "length(self: pyivp.XYSegList) -> float\n",
      "\n",
      "Determine the overall length between the first and the last point-distance in the X-Y Plane only\n",
      "Return: all length between the first point and last point\n",
      "\n"
     ]
    }
   ],
   "source": [
    "print(py_v2.closest_vertex.__doc__)\n",
    "print(py_v2.length.__doc__)"
   ]
  },
  {
   "cell_type": "code",
   "execution_count": null,
   "metadata": {},
   "outputs": [
    {
     "name": "stdout",
     "output_type": "stream",
     "text": [
      "closest_vertex_result: 1\n",
      "length_result: 28.284271247461902\n"
     ]
    }
   ],
   "source": [
    "print(\"closest_vertex_result:\", py_v2.closest_vertex(1, 3))\n",
    "print(\"length_result:\", py_v2.length())"
   ]
  },
  {
   "cell_type": "code",
   "execution_count": null,
   "metadata": {},
   "outputs": [
    {
     "name": "stdout",
     "output_type": "stream",
     "text": [
      "get_vprop(self: pyivp.XYSegList, arg0: int) -> str\n",
      "\n",
      "get the vprop of index given from SegList\n",
      "Input: i\n",
      "Return: vprop\n",
      "\n"
     ]
    }
   ],
   "source": [
    "print(py_v2.get_vprop.__doc__)"
   ]
  },
  {
   "cell_type": "code",
   "execution_count": null,
   "metadata": {},
   "outputs": [
    {
     "name": "stdout",
     "output_type": "stream",
     "text": [
      "get_vprop_result: v2\n"
     ]
    }
   ],
   "source": [
    "print(\"get_vprop_result:\", py_v2.get_vprop(1))"
   ]
  },
  {
   "cell_type": "code",
   "execution_count": null,
   "metadata": {},
   "outputs": [
    {
     "name": "stdout",
     "output_type": "stream",
     "text": [
      "dist_to_point(self: pyivp.XYSegList, x: float, y: float) -> float\n",
      "\n",
      "find the closest distance from the given point to any point on any segment.\n",
      "Input: x, y\n",
      "Return: the closest distance value\n",
      "\n",
      "dist_to_ctr(self: pyivp.XYSegList, x: float, y: float) -> float\n",
      "\n",
      "find the distance between the given point and center\n",
      "Input: x, y\n",
      "Return: distance\n",
      "\n",
      "max_dist_to_ctr(self: pyivp.XYSegList) -> float\n",
      "\n",
      "Return the maximum distance between the center and any one of the vertices in the SegList.\n",
      "Return: maximum distance between center and others\n",
      "\n"
     ]
    }
   ],
   "source": [
    "print(py_v2.dist_to_point.__doc__)\n",
    "print(py_v2.dist_to_ctr.__doc__)\n",
    "print(py_v2.max_dist_to_ctr.__doc__)"
   ]
  },
  {
   "cell_type": "code",
   "execution_count": null,
   "metadata": {},
   "outputs": [
    {
     "name": "stdout",
     "output_type": "stream",
     "text": [
      "dist_to_point_result: 1.4333030623147889\n",
      "dist_to_ctr_result: 5.107562071851377\n",
      "max_dist_to_ctr_result: 14.142135623730951\n"
     ]
    }
   ],
   "source": [
    "print(\"dist_to_point_result:\", py_v2.dist_to_point(x=1, y=3))\n",
    "print(\"dist_to_ctr_result:\", py_v2.dist_to_ctr(x=3, y=8))\n",
    "print(\"max_dist_to_ctr_result:\", py_v2.max_dist_to_ctr())"
   ]
  },
  {
   "cell_type": "code",
   "execution_count": null,
   "metadata": {},
   "outputs": [
    {
     "name": "stdout",
     "output_type": "stream",
     "text": [
      "get_spec_pts_label(self: pyivp.XYSegList, vertex_prec: int = 1) -> str\n",
      "\n",
      "Get a string specification of just the points and label.\n",
      "Input: precision\n",
      "Return: result of XYSegList\n",
      "\n"
     ]
    }
   ],
   "source": [
    "print(py_v2.get_spec_pts_label.__doc__)"
   ]
  },
  {
   "cell_type": "code",
   "execution_count": null,
   "metadata": {},
   "outputs": [
    {
     "name": "stdout",
     "output_type": "stream",
     "text": [
      "pts={13.94,11.98,3,v3:-7.73,-6.2,2,v2}\n"
     ]
    }
   ],
   "source": [
    "print(py_v2.get_spec_pts_label(2))"
   ]
  },
  {
   "cell_type": "code",
   "execution_count": null,
   "metadata": {},
   "outputs": [
    {
     "name": "stdout",
     "output_type": "stream",
     "text": [
      "get_vx(self: pyivp.XYSegList, arg0: int) -> float\n",
      "\n",
      "get_vx\n",
      "Input: i\n",
      "Return: x value\n",
      "\n",
      "get_vy(self: pyivp.XYSegList, arg0: int) -> float\n",
      "\n",
      "get_vy\n",
      "Input: i\n",
      "Return: y value\n",
      "\n",
      "get_vz(self: pyivp.XYSegList, arg0: int) -> float\n",
      "\n",
      "get_vz\n",
      "Input: i\n",
      "Return: z value\n",
      "\n"
     ]
    }
   ],
   "source": [
    "print(py_v2.get_vx.__doc__)\n",
    "print(py_v2.get_vy.__doc__)\n",
    "print(py_v2.get_vz.__doc__)"
   ]
  },
  {
   "cell_type": "code",
   "execution_count": null,
   "metadata": {},
   "outputs": [
    {
     "name": "stdout",
     "output_type": "stream",
     "text": [
      "get_vx_result: -7.730633437229247\n",
      "get_vy_result: -6.1969155624910925\n",
      "get_vz_result: 2.0\n"
     ]
    }
   ],
   "source": [
    "print(\"get_vx_result:\",py_v2.get_vx(1))\n",
    "print(\"get_vy_result:\",py_v2.get_vy(1))\n",
    "print(\"get_vz_result:\",py_v2.get_vz(1))"
   ]
  },
  {
   "cell_type": "markdown",
   "metadata": {},
   "source": [
    "#### create a XYSegList object py_v3 and add vertex"
   ]
  },
  {
   "cell_type": "code",
   "execution_count": null,
   "metadata": {},
   "outputs": [
    {
     "name": "stdout",
     "output_type": "stream",
     "text": [
      "valid(self: pyivp.XYSegList) -> bool\n",
      "\n",
      "testing the SegList is valid or not \n",
      "Return: return false if it is empty,else return true\n",
      "\n"
     ]
    }
   ],
   "source": [
    "print(py_v2.valid.__doc__)"
   ]
  },
  {
   "cell_type": "code",
   "execution_count": null,
   "metadata": {},
   "outputs": [
    {
     "name": "stdout",
     "output_type": "stream",
     "text": [
      "valid_result: False\n",
      "add_result: pts={3,2,0,v3:1,0,0,v1:0,0,0,v0:4,0,0,v4:4,-5,0,v2}\n",
      "valid_result: True\n"
     ]
    }
   ],
   "source": [
    "py_v3 = pyivp.XYSegList()\n",
    "print(\"valid_result:\", py_v3.valid())\n",
    "py_v3.add_vertex(3, 2, 0, \"v3\")\n",
    "py_v3.add_vertex(1, 0, 0, \"v1\")\n",
    "py_v3.add_vertex(0, 0, 0, \"v0\")\n",
    "py_v3.add_vertex(4, 0, 0, \"v4\")\n",
    "py_v3.add_vertex(4, -5, 0, \"v2\")\n",
    "print(\"add_result:\", py_v3.get_spec(2))\n",
    "print(\"valid_result:\", py_v3.valid())"
   ]
  },
  {
   "cell_type": "code",
   "execution_count": null,
   "metadata": {},
   "outputs": [
    {
     "name": "stdout",
     "output_type": "stream",
     "text": [
      "is_clockwise(self: pyivp.XYSegList) -> bool\n",
      "\n",
      "Determine if the ordering of points in the internal vector of stored points constitutes a clockwise walk  around the center.\n",
      "Return: true if all points  can be a clockwise walk, else return false \n",
      " \n",
      "\n",
      "segs_cross(self: pyivp.XYSegList, loop: bool = True) -> bool\n",
      "\n",
      "Determine if any two segments intersect one another We exclude from consideration any two segments that share a vertex. If the result is false, then this set of line segments should form a polygon, although not necessarily a convex polygon\n",
      "Return: false if size<=3 or form a polygon\n",
      " \n",
      "\n",
      "get_spec_inactive(self: pyivp.XYSegList) -> str\n",
      "\n",
      "In cases where we know the polygon spec is created simply to 'erase' a previous poly with the same label, just generate a concise spec with a trivial convext poly.\n",
      "Return: pts={0,0:9,0:0,9},active=false\n",
      "\n"
     ]
    }
   ],
   "source": [
    "print(py_v2.is_clockwise.__doc__,'\\n')\n",
    "print(py_v2.segs_cross.__doc__,'\\n')\n",
    "print(py_v2.get_spec_inactive.__doc__)"
   ]
  },
  {
   "cell_type": "code",
   "execution_count": null,
   "metadata": {},
   "outputs": [
    {
     "name": "stdout",
     "output_type": "stream",
     "text": [
      "is_clockwixe_result: False\n",
      "segs_cross_result: True\n",
      "pts={0,0:9,0:0,9},active=false\n"
     ]
    }
   ],
   "source": [
    "print(\"is_clockwixe_result:\", py_v3.is_clockwise())\n",
    "print(\"segs_cross_result:\", py_v3.segs_cross(True))\n",
    "print(py_v3.get_spec_inactive())"
   ]
  },
  {
   "cell_type": "markdown",
   "metadata": {},
   "source": [
    "## EdgeTagSet , EdgeTag\n",
    "#### create a  EdgeTagSet object py_1 and initialize it with value from EdgeTag"
   ]
  },
  {
   "cell_type": "code",
   "execution_count": null,
   "metadata": {},
   "outputs": [],
   "source": [
    "py_1=pyivp.EdgeTagSet()"
   ]
  },
  {
   "cell_type": "code",
   "execution_count": null,
   "metadata": {},
   "outputs": [
    {
     "name": "stdout",
     "output_type": "stream",
     "text": [
      "addEdgeTag(self: pyivp.EdgeTagSet, arg0: pyivp.EdgeTag) -> bool\n",
      "\n",
      "add vertex using EdgeTag\n",
      "Input: EdgeTag\n",
      "Return: true if success else return false\n",
      "\n"
     ]
    }
   ],
   "source": [
    "print(py_1.addEdgeTag.__doc__)"
   ]
  },
  {
   "cell_type": "code",
   "execution_count": null,
   "metadata": {},
   "outputs": [
    {
     "data": {
      "text/plain": [
       "True"
      ]
     },
     "execution_count": null,
     "metadata": {},
     "output_type": "execute_result"
    }
   ],
   "source": [
    "py_2=pyivp.EdgeTag(1, 2, 'v')\n",
    "py_1.addEdgeTag(py_2)"
   ]
  },
  {
   "cell_type": "code",
   "execution_count": null,
   "metadata": {},
   "outputs": [
    {
     "name": "stdout",
     "output_type": "stream",
     "text": [
      "EdgeTagSet: 1 tags\n",
      "1, 2, v\n"
     ]
    }
   ],
   "source": [
    "py_1.print()"
   ]
  },
  {
   "cell_type": "code",
   "execution_count": null,
   "metadata": {},
   "outputs": [
    {
     "name": "stdout",
     "output_type": "stream",
     "text": [
      "set_edge_tags(self: pyivp.XYSegList, arg0: EdgeTagSet) -> None\n",
      "\n",
      "set edgetags using EdgeTagSet function\n",
      "Input: input: (EdgeTagSet) v\n",
      "\n"
     ]
    }
   ],
   "source": [
    "print(py_v2.set_edge_tags.__doc__)"
   ]
  },
  {
   "cell_type": "code",
   "execution_count": null,
   "metadata": {},
   "outputs": [
    {
     "data": {
      "text/plain": [
       "'tags={1:2:v}'"
      ]
     },
     "execution_count": null,
     "metadata": {},
     "output_type": "execute_result"
    }
   ],
   "source": [
    "py_v2.set_edge_tags(py_1)\n",
    "a = py_v2.get_edge_tags()\n",
    "a.getSpec()"
   ]
  },
  {
   "cell_type": "code",
   "execution_count": null,
   "metadata": {},
   "outputs": [
    {
     "name": "stdout",
     "output_type": "stream",
     "text": [
      "clear(self: pyivp.XYSegList) -> None\n",
      "\n",
      "clear it\n",
      "\n"
     ]
    }
   ],
   "source": [
    "print(py_v3.clear.__doc__)"
   ]
  },
  {
   "cell_type": "code",
   "execution_count": null,
   "metadata": {},
   "outputs": [
    {
     "name": "stdout",
     "output_type": "stream",
     "text": [
      "py_v3: \n"
     ]
    }
   ],
   "source": [
    "py_v3.clear()\n",
    "print(\"py_v3:\",py_v3.get_spec(2))"
   ]
  }
 ],
 "metadata": {
  "kernelspec": {
   "display_name": "Python 3 (ipykernel)",
   "language": "python",
   "name": "python3"
  }
 },
 "nbformat": 4,
 "nbformat_minor": 2
}
