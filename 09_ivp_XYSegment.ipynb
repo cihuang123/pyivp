{
 "cells": [
  {
   "cell_type": "markdown",
   "id": "f6521481",
   "metadata": {},
   "source": [
    "# pyivp.XYSegment"
   ]
  },
  {
   "cell_type": "markdown",
   "id": "fe4d868d",
   "metadata": {},
   "source": [
    "> API details."
   ]
  },
  {
   "cell_type": "code",
   "execution_count": null,
   "id": "e00cbfb2",
   "metadata": {},
   "outputs": [],
   "source": [
    "from nbdev.showdoc import *"
   ]
  },
  {
   "cell_type": "markdown",
   "id": "24438346",
   "metadata": {},
   "source": [
    "### Compile and Install lib_pyivp (partially)"
   ]
  },
  {
   "cell_type": "code",
   "execution_count": null,
   "id": "81121fee",
   "metadata": {},
   "outputs": [
    {
     "name": "stdout",
     "output_type": "stream",
     "text": [
      "make -C src\n",
      "make[1]: Entering directory '/home/arg/pyivp/src'\n",
      "mkdir build; cd build; cmake ..; make\n",
      "mkdir: cannot create directory ‘build’: File exists\n",
      "-------------------------------------------------------Use UTM:ON\n",
      "+++++++++++++++++++++++++++++++++++++++++\n",
      "IVP_GUI_CODE will be built......         \n",
      "+++++++++++++++++++++++++++++++++++++++++\n",
      "USING UTM\n",
      "+++++++++++++++++++++++++++++++++++++++++\n",
      "IVP_LIB_DIRECTORY:/usr/local/lib/\n",
      "+++++++++++++++++++++++++++++++++++++++++\n",
      "Bin directory: /home/arg/bin\n",
      "Include directory: /usr/local/include\n",
      "Lib directory: /usr/local/lib/\n",
      "-- Configuring done\n",
      "-- Generating done\n",
      "-- Build files have been written to: /home/arg/pyivp/src/build\n",
      "make[2]: Entering directory '/home/arg/pyivp/src/build'\n",
      "make[3]: Entering directory '/home/arg/pyivp/src/build'\n",
      "make[4]: Entering directory '/home/arg/pyivp/src/build'\n",
      "make[4]: Leaving directory '/home/arg/pyivp/src/build'\n",
      "[ 23%] Built target mbutil\n",
      "make[4]: Entering directory '/home/arg/pyivp/src/build'\n",
      "make[4]: Leaving directory '/home/arg/pyivp/src/build'\n",
      "[100%] Built target geometry\n",
      "make[3]: Leaving directory '/home/arg/pyivp/src/build'\n",
      "make[2]: Leaving directory '/home/arg/pyivp/src/build'\n",
      "make[1]: Leaving directory '/home/arg/pyivp/src'\n",
      "make -C src_unit_tests \n",
      "make[1]: Entering directory '/home/arg/pyivp/src_unit_tests'\n",
      "mkdir build; cd build; cmake ..; make; \n",
      "mkdir: cannot create directory ‘build’: File exists\n",
      " Apps to be built: utest;testConvexHull;testLeftTurn;testIncIntString;testLineCircleIntPts;testSegCircleIntPts;testArcSegCross;testArcSegCrossPts;testDistPointOnArc;testDistPointToArc;testDistPointToArcPt;testDistPtsOnArc;testDistSegToArc;testAngleDiff;testAngleInArc;testSegRayCPA;testPolyRayCPA;testBearingMinMaxToPoly;testDistPointToRay;testCpasRaySegl;testCpasArcSegl\n",
      "-- Configuring done\n",
      "-- Generating done\n",
      "-- Build files have been written to: /home/arg/pyivp/src_unit_tests/build\n",
      "make[2]: Entering directory '/home/arg/pyivp/src_unit_tests/build'\n",
      "make[3]: Entering directory '/home/arg/pyivp/src_unit_tests/build'\n",
      "make[4]: Entering directory '/home/arg/pyivp/src_unit_tests/build'\n",
      "make[4]: Leaving directory '/home/arg/pyivp/src_unit_tests/build'\n",
      "[  6%] Built target utest\n",
      "make[4]: Entering directory '/home/arg/pyivp/src_unit_tests/build'\n",
      "make[4]: Leaving directory '/home/arg/pyivp/src_unit_tests/build'\n",
      "[ 11%] Built target testConvexHull\n",
      "make[4]: Entering directory '/home/arg/pyivp/src_unit_tests/build'\n",
      "make[4]: Leaving directory '/home/arg/pyivp/src_unit_tests/build'\n",
      "[ 16%] Built target testLeftTurn\n",
      "make[4]: Entering directory '/home/arg/pyivp/src_unit_tests/build'\n",
      "make[4]: Leaving directory '/home/arg/pyivp/src_unit_tests/build'\n",
      "[ 20%] Built target testIncIntString\n",
      "make[4]: Entering directory '/home/arg/pyivp/src_unit_tests/build'\n",
      "make[4]: Leaving directory '/home/arg/pyivp/src_unit_tests/build'\n",
      "[ 25%] Built target testLineCircleIntPts\n",
      "make[4]: Entering directory '/home/arg/pyivp/src_unit_tests/build'\n",
      "make[4]: Leaving directory '/home/arg/pyivp/src_unit_tests/build'\n",
      "[ 30%] Built target testSegCircleIntPts\n",
      "make[4]: Entering directory '/home/arg/pyivp/src_unit_tests/build'\n",
      "make[4]: Leaving directory '/home/arg/pyivp/src_unit_tests/build'\n",
      "[ 34%] Built target testArcSegCross\n",
      "make[4]: Entering directory '/home/arg/pyivp/src_unit_tests/build'\n",
      "make[4]: Leaving directory '/home/arg/pyivp/src_unit_tests/build'\n",
      "[ 39%] Built target testArcSegCrossPts\n",
      "make[4]: Entering directory '/home/arg/pyivp/src_unit_tests/build'\n",
      "make[4]: Leaving directory '/home/arg/pyivp/src_unit_tests/build'\n",
      "[ 44%] Built target testDistPointOnArc\n",
      "make[4]: Entering directory '/home/arg/pyivp/src_unit_tests/build'\n",
      "make[4]: Leaving directory '/home/arg/pyivp/src_unit_tests/build'\n",
      "[ 48%] Built target testDistPointToArc\n",
      "make[4]: Entering directory '/home/arg/pyivp/src_unit_tests/build'\n",
      "make[4]: Leaving directory '/home/arg/pyivp/src_unit_tests/build'\n",
      "[ 53%] Built target testDistPointToArcPt\n",
      "make[4]: Entering directory '/home/arg/pyivp/src_unit_tests/build'\n",
      "make[4]: Leaving directory '/home/arg/pyivp/src_unit_tests/build'\n",
      "[ 58%] Built target testDistPtsOnArc\n",
      "make[4]: Entering directory '/home/arg/pyivp/src_unit_tests/build'\n",
      "make[4]: Leaving directory '/home/arg/pyivp/src_unit_tests/build'\n",
      "[ 62%] Built target testDistSegToArc\n",
      "make[4]: Entering directory '/home/arg/pyivp/src_unit_tests/build'\n",
      "make[4]: Leaving directory '/home/arg/pyivp/src_unit_tests/build'\n",
      "[ 67%] Built target testAngleDiff\n",
      "make[4]: Entering directory '/home/arg/pyivp/src_unit_tests/build'\n",
      "make[4]: Leaving directory '/home/arg/pyivp/src_unit_tests/build'\n",
      "[ 72%] Built target testAngleInArc\n",
      "make[4]: Entering directory '/home/arg/pyivp/src_unit_tests/build'\n",
      "make[4]: Leaving directory '/home/arg/pyivp/src_unit_tests/build'\n",
      "[ 76%] Built target testSegRayCPA\n",
      "make[4]: Entering directory '/home/arg/pyivp/src_unit_tests/build'\n",
      "make[4]: Leaving directory '/home/arg/pyivp/src_unit_tests/build'\n",
      "[ 81%] Built target testPolyRayCPA\n",
      "make[4]: Entering directory '/home/arg/pyivp/src_unit_tests/build'\n",
      "make[4]: Leaving directory '/home/arg/pyivp/src_unit_tests/build'\n",
      "[ 86%] Built target testBearingMinMaxToPoly\n",
      "make[4]: Entering directory '/home/arg/pyivp/src_unit_tests/build'\n",
      "make[4]: Leaving directory '/home/arg/pyivp/src_unit_tests/build'\n",
      "[ 90%] Built target testDistPointToRay\n",
      "make[4]: Entering directory '/home/arg/pyivp/src_unit_tests/build'\n",
      "make[4]: Leaving directory '/home/arg/pyivp/src_unit_tests/build'\n",
      "[ 95%] Built target testCpasRaySegl\n",
      "make[4]: Entering directory '/home/arg/pyivp/src_unit_tests/build'\n",
      "make[4]: Leaving directory '/home/arg/pyivp/src_unit_tests/build'\n",
      "[100%] Built target testCpasArcSegl\n",
      "make[3]: Leaving directory '/home/arg/pyivp/src_unit_tests/build'\n",
      "make[2]: Leaving directory '/home/arg/pyivp/src_unit_tests/build'\n",
      "make[1]: Leaving directory '/home/arg/pyivp/src_unit_tests'\n",
      "make -C src/pybind11 \n",
      "make[1]: Entering directory '/home/arg/pyivp/src/pybind11'\n",
      "mkdir build; cd build; cmake ..; make; make install\n",
      "mkdir: cannot create directory ‘build’: File exists\n",
      "-- Configuring done\n",
      "-- Generating done\n",
      "-- Build files have been written to: /home/arg/pyivp/src/pybind11/build\n",
      "make[2]: Entering directory '/home/arg/pyivp/src/pybind11/build'\n",
      "make[3]: Entering directory '/home/arg/pyivp/src/pybind11/build'\n",
      "make[4]: Entering directory '/home/arg/pyivp/src/pybind11/build'\n",
      "make[4]: Leaving directory '/home/arg/pyivp/src/pybind11/build'\n",
      "[100%] Built target pyivp\n",
      "make[3]: Leaving directory '/home/arg/pyivp/src/pybind11/build'\n",
      "make[2]: Leaving directory '/home/arg/pyivp/src/pybind11/build'\n",
      "make[2]: Entering directory '/home/arg/pyivp/src/pybind11/build'\n",
      "make[3]: Entering directory '/home/arg/pyivp/src/pybind11/build'\n",
      "make[4]: Entering directory '/home/arg/pyivp/src/pybind11/build'\n",
      "make[4]: Leaving directory '/home/arg/pyivp/src/pybind11/build'\n",
      "[100%] Built target pyivp\n",
      "make[3]: Leaving directory '/home/arg/pyivp/src/pybind11/build'\n",
      "\u001b[36mInstall the project...\u001b[0m\n",
      "-- Install configuration: \"Release\"\n",
      "-- Up-to-date: /home/arg/miniconda3/envs/movingpandas/lib/python3.9/site-packages/pyivp.cpython-39-x86_64-linux-gnu.so\n",
      "make[2]: Leaving directory '/home/arg/pyivp/src/pybind11/build'\n",
      "make[1]: Leaving directory '/home/arg/pyivp/src/pybind11'\n",
      "nbdev_clean_nbs\n",
      "cd src_unit_tests; ./alltest.sh\n",
      "===========================================\n",
      "NOTE: build  has no cases.utf file to check\n",
      "===========================================\n",
      "===========================================\n",
      "Checking: testAngleDiff/cases.utf\n",
      "===========================================\n",
      "Testing file: cases.utf\n",
      " Line 2 OK \n",
      " Line 3 OK \n",
      " Line 4 OK \n",
      " Line 6 OK \n",
      " Line 8 OK \n",
      " Line 9 OK \n",
      " Line 10 OK \n",
      " Line 11 OK \n",
      " Line 12 OK \n",
      " Line 13 OK \n",
      " Line 14 OK \n",
      " Line 15 OK \n",
      " Line 16 OK \n",
      " Line 17 OK \n",
      " Line 18 OK \n",
      " Line 19 OK \n",
      " Line 20 OK \n",
      " Line 21 OK \n",
      " Line 22 OK \n",
      " Line 23 OK \n",
      " Line 24 OK \n",
      "===========================================\n",
      "Checking: testAngleInArc/cases.utf\n",
      "===========================================\n",
      "Testing file: cases.utf\n",
      " Line 2 OK \n",
      " Line 3 OK \n",
      " Line 4 OK \n",
      " Line 5 OK \n",
      " Line 6 OK \n",
      " Line 7 OK \n",
      " Line 8 OK \n",
      " Line 10 OK \n",
      " Line 11 OK \n",
      " Line 13 OK \n",
      " Line 14 OK \n",
      " Line 16 OK \n",
      " Line 17 OK \n",
      " Line 21 OK \n",
      "===========================================\n",
      "Checking: testArcSegCross/cases.utf\n",
      "===========================================\n",
      "Testing file: cases.utf\n",
      " Line 2 OK \n",
      " Line 3 OK \n",
      " Line 4 OK \n",
      "===========================================\n",
      "Checking: testArcSegCrossPts/cases.utf\n",
      "===========================================\n",
      "Testing file: cases.utf\n",
      " Line 2 OK \n",
      " Line 3 OK \n",
      " Line 6 OK \n",
      "===========================================\n",
      "Checking: testBearingMinMaxToPoly/cases.utf\n",
      "===========================================\n",
      "Testing file: cases.utf\n",
      " Line 3 FAIL \n",
      "sys_cmd: [testBearingMinMaxToPoly poly=250,-50:275,-50:275,-25:250,-25  px=15 py=5]\n",
      "results: [bmin=96.58,bmax=103.17]\n",
      "expected:[bmin=96.58,bmax=97.28]\n",
      " Line 4 FAIL \n",
      "sys_cmd: [testBearingMinMaxToPoly poly=250,-50:275,-50:275,-25:250,-25  px=15 py=-40]\n",
      "results: [bmin=86.35,bmax=92.44]\n",
      "expected:[bmin=86.35,bmax=92.44]\n",
      "Failed on test file: cases.utf\n",
      "===========================================\n",
      "Checking: testConvexHull/cases.utf\n",
      "===========================================\n",
      "Testing file: cases.utf\n",
      " Line 3 FAIL \n",
      "sys_cmd: [testSegRayCPA pts={107.5,-53.5:112,-43.8:112,-46.1:111.7,-49.3:108.3,-52.7:107.7,-53.3}]\n",
      "results: [Error:arg[pts={107.5,-53.5:112,-43.8:112,-46.1:111.7,-49.3:108.3,-52.7:107.7,-53.3}]Exiting.]\n",
      "expected:[]\n",
      "Failed on test file: cases.utf\n",
      "===========================================\n",
      "Checking: testCpasArcSegl/cases.utf\n",
      "===========================================\n",
      "Testing file: cases.utf\n",
      " Line 4 OK \n",
      " Line 9 OK \n"
     ]
    },
    {
     "name": "stdout",
     "output_type": "stream",
     "text": [
      " Line 13 OK \n",
      "===========================================\n",
      "Checking: testCpasRaySegl/cases.utf\n",
      "===========================================\n",
      "Testing file: cases.utf\n",
      " Line 3 OK \n",
      " Line 6 OK \n",
      " Line 9 OK \n",
      " Line 14 OK \n",
      "===========================================\n",
      "Checking: testDistPointOnArc/cases.utf\n",
      "===========================================\n",
      "Testing file: cases.utf\n",
      " Line 3 OK \n",
      " Line 4 OK \n",
      " Line 6 OK \n",
      " Line 7 OK \n",
      "===========================================\n",
      "Checking: testDistPointToArc/cases.utf\n",
      "===========================================\n",
      "Testing file: cases.utf\n",
      " Line 3 OK \n",
      " Line 4 OK \n",
      " Line 5 OK \n",
      " Line 6 OK \n",
      " Line 8 OK \n",
      " Line 9 OK \n",
      " Line 10 OK \n",
      "===========================================\n",
      "Checking: testDistPointToArcPt/cases.utf\n",
      "===========================================\n",
      "Testing file: cases.utf\n",
      " Line 5 OK \n",
      " Line 9 OK \n",
      " Line 13 OK \n",
      " Line 17 OK \n",
      " Line 21 OK \n",
      " Line 26 OK \n",
      "===========================================\n",
      "Checking: testDistPointToRay/cases.utf\n",
      "===========================================\n",
      "Testing file: cases.utf\n",
      " Line 3 OK \n",
      " Line 5 OK \n",
      " Line 6 OK \n",
      " Line 7 OK \n",
      " Line 9 OK \n",
      "===========================================\n",
      "Checking: testDistPtsOnArc/cases.utf\n",
      "===========================================\n",
      "Testing file: cases.utf\n",
      "===========================================\n",
      "Checking: testDistSegListToArc/cases.utf\n",
      "===========================================\n",
      "Testing file: cases.utf\n",
      " Line 3 OK \n",
      " Line 4 OK \n",
      " Line 6 OK \n",
      " Line 7 OK \n",
      " Line 8 OK \n",
      " Line 10 OK \n",
      " Line 13 OK \n",
      " Line 14 OK \n",
      "===========================================\n",
      "Checking: testDistSegToArc/cases.utf\n",
      "===========================================\n",
      "Testing file: cases.utf\n",
      " Line 3 OK \n",
      " Line 4 OK \n",
      " Line 6 OK \n",
      " Line 7 OK \n",
      " Line 8 OK \n",
      " Line 10 OK \n",
      " Line 13 OK \n",
      " Line 14 OK \n",
      " Line 16 OK \n",
      "===========================================\n",
      "Checking: testIncIntString/cases.utf\n",
      "===========================================\n",
      "Testing file: cases.utf\n",
      " Line 2 FAIL \n",
      "sys_cmd: [testIncIntString str=foo23       amt=1  keep=true]\n",
      "results: [new_str=24]\n",
      "expected:[new_str=foo24]\n",
      " Line 3 FAIL \n",
      "sys_cmd: [testIncIntString str=foo23bar    amt=3  keep=true]\n",
      "results: [new_str=26]\n",
      "expected:[new_str=foo26]\n",
      " Line 4 FAIL \n",
      "sys_cmd: [testIncIntString str=foo23bar34  amt=1  keep=true]\n",
      "results: [new_str=2335]\n",
      "expected:[new_str=foo2335]\n",
      " Line 7 OK \n",
      " Line 8 OK \n",
      "Failed on test file: cases.utf\n",
      "===========================================\n",
      "Checking: testLeftTurn/cases.utf\n",
      "===========================================\n",
      "Testing file: cases.utf\n",
      " Line 2 FAIL \n",
      "sys_cmd: [testLeftTurn x1=0 y1=0 x2=0 y2=40 x3=50 y3=40]\n",
      "results: [left_turn=false]\n",
      "expected:[left_turn=true]\n",
      " Line 3 OK \n",
      "Failed on test file: cases.utf\n",
      "===========================================\n",
      "NOTE: testLineCircleIntPts  has no cases.utf file to check\n",
      "===========================================\n",
      "===========================================\n",
      "Checking: testPolyRayCPA/cases.utf\n",
      "===========================================\n",
      "Testing file: cases.utf\n",
      " Line 3 OK \n",
      " Line 4 OK \n",
      " Line 5 OK \n",
      " Line 6 OK \n",
      "===========================================\n",
      "Checking: testSegCircleIntPts/cases.utf\n",
      "===========================================\n",
      "Testing file: cases.utf\n",
      " Line 2 OK \n",
      " Line 3 OK \n",
      " Line 5 OK \n",
      " Line 6 OK \n",
      " Line 8 OK \n",
      "===========================================\n",
      "Checking: testSegRayCPA/cases.utf\n",
      "===========================================\n",
      "Testing file: cases.utf\n",
      " Line 3 OK \n",
      " Line 4 OK \n",
      "===========================================\n",
      "Checking: utest/cases.utf\n",
      "===========================================\n",
      "Testing file: cases.utf\n",
      " Line 3 OK \n",
      " Line 4 OK \n",
      " Line 5 OK \n",
      " Line 6 OK \n",
      " Line 7 OK \n",
      " Line 8 OK \n",
      " Line 10 OK \n",
      "===========================================\n",
      "Checking: utgen/cases.utf\n",
      "===========================================\n",
      "Testing file: cases.utf\n",
      " Line 3 OK \n",
      " Line 4 OK \n",
      " Line 5 OK \n",
      " Line 6 OK \n",
      " Line 7 OK \n",
      " Line 8 OK \n",
      " Line 10 OK \n",
      "cd src/pytest; python3 test_pattern_block.py\n",
      "== Test package and local function. ==\n",
      "C++ result x plus y is: 3\n",
      "Python result x plus y is:  3\n",
      "== Test XYPoint ==\n",
      "x=0,y=0\n",
      "x=10,y=15\n"
     ]
    }
   ],
   "source": [
    "! cd ~/pyivp && make"
   ]
  },
  {
   "cell_type": "markdown",
   "id": "fe1d6d4d",
   "metadata": {},
   "source": [
    "### Run python library in Jupyter Notebook"
   ]
  },
  {
   "cell_type": "code",
   "execution_count": null,
   "id": "19996141",
   "metadata": {},
   "outputs": [],
   "source": [
    "import pyivp"
   ]
  },
  {
   "cell_type": "code",
   "execution_count": null,
   "id": "4a75f6ae",
   "metadata": {},
   "outputs": [
    {
     "name": "stdout",
     "output_type": "stream",
     "text": [
      "pybind11 for cpp labs\n"
     ]
    }
   ],
   "source": [
    "print(pyivp.__doc__)"
   ]
  },
  {
   "cell_type": "markdown",
   "id": "8012a32a",
   "metadata": {},
   "source": [
    "### XYSegment"
   ]
  },
  {
   "cell_type": "markdown",
   "id": "21e53443",
   "metadata": {},
   "source": [
    "create two XYSegment object o1,o2"
   ]
  },
  {
   "cell_type": "code",
   "execution_count": null,
   "id": "c00b5e30",
   "metadata": {},
   "outputs": [
    {
     "data": {
      "text/plain": [
       "'pts=0,0:0,0'"
      ]
     },
     "execution_count": null,
     "metadata": {},
     "output_type": "execute_result"
    }
   ],
   "source": [
    "o1 = pyivp.XYSegment()\n",
    "o1.get_spec()"
   ]
  },
  {
   "cell_type": "markdown",
   "id": "1cb66d83",
   "metadata": {},
   "source": [
    "use \"set\" function to set o1,then use \"get_\"function to get the value"
   ]
  },
  {
   "cell_type": "code",
   "execution_count": null,
   "id": "b5cc4648",
   "metadata": {},
   "outputs": [
    {
     "name": "stdout",
     "output_type": "stream",
     "text": [
      "pts=10,20:30,40\n",
      "x1 =  10.0\n",
      "y1 =  20.0\n",
      "x2 =  30.0\n",
      "y2 =  40.0\n"
     ]
    }
   ],
   "source": [
    "o1.set(10,20,30,40)\n",
    "print(o1.get_spec())\n",
    "print('x1 = ',o1.get_x1())\n",
    "print('y1 = ',o1.get_y1())\n",
    "print('x2 = ',o1.get_x2())\n",
    "print('y2 = ',o1.get_y2())"
   ]
  },
  {
   "cell_type": "markdown",
   "id": "5a93841f",
   "metadata": {},
   "source": [
    "use XYPoint to set o1"
   ]
  },
  {
   "cell_type": "code",
   "execution_count": null,
   "id": "d8f4b2d3",
   "metadata": {},
   "outputs": [
    {
     "data": {
      "text/plain": [
       "'pts=0,0:50,60'"
      ]
     },
     "execution_count": null,
     "metadata": {},
     "output_type": "execute_result"
    }
   ],
   "source": [
    "x1 = pyivp.XYPoint()\n",
    "x2 = pyivp.XYPoint(50,60)\n",
    "o1.set(x1,x2)\n",
    "o1.get_spec()"
   ]
  },
  {
   "cell_type": "markdown",
   "id": "1b1090ab",
   "metadata": {},
   "source": [
    "clear o1"
   ]
  },
  {
   "cell_type": "code",
   "execution_count": null,
   "id": "f805ad0b",
   "metadata": {},
   "outputs": [
    {
     "data": {
      "text/plain": [
       "'pts=0,0:0,0'"
      ]
     },
     "execution_count": null,
     "metadata": {},
     "output_type": "execute_result"
    }
   ],
   "source": [
    "o1.clear()\n",
    "o1.get_spec()"
   ]
  },
  {
   "cell_type": "markdown",
   "id": "f7631114",
   "metadata": {},
   "source": [
    "move o1 horizontally"
   ]
  },
  {
   "cell_type": "code",
   "execution_count": null,
   "id": "19250c17",
   "metadata": {},
   "outputs": [
    {
     "data": {
      "text/plain": [
       "'pts=10,0:10,0'"
      ]
     },
     "execution_count": null,
     "metadata": {},
     "output_type": "execute_result"
    }
   ],
   "source": [
    "o1.shift_horz(10)\n",
    "o1.get_spec()"
   ]
  },
  {
   "cell_type": "markdown",
   "id": "93896ad4",
   "metadata": {},
   "source": [
    "move o1 vertically"
   ]
  },
  {
   "cell_type": "code",
   "execution_count": null,
   "id": "f4939dea",
   "metadata": {},
   "outputs": [
    {
     "data": {
      "text/plain": [
       "'pts=10,20:10,20'"
      ]
     },
     "execution_count": null,
     "metadata": {},
     "output_type": "execute_result"
    }
   ],
   "source": [
    "o1.shift_vert(20)\n",
    "o1.get_spec()"
   ]
  },
  {
   "cell_type": "markdown",
   "id": "11c75da4",
   "metadata": {},
   "source": [
    "reverse two points of o1"
   ]
  },
  {
   "cell_type": "code",
   "execution_count": null,
   "id": "1945eff9",
   "metadata": {},
   "outputs": [
    {
     "data": {
      "text/plain": [
       "'pts=30,40:10,20'"
      ]
     },
     "execution_count": null,
     "metadata": {},
     "output_type": "execute_result"
    }
   ],
   "source": [
    "o1.set(10,20,30,40)\n",
    "o1.reverse()\n",
    "o1.get_spec()"
   ]
  },
  {
   "cell_type": "markdown",
   "id": "0af6b9ff",
   "metadata": {},
   "source": [
    "find the distance between two points of o1"
   ]
  },
  {
   "cell_type": "code",
   "execution_count": null,
   "id": "717fac25",
   "metadata": {},
   "outputs": [
    {
     "data": {
      "text/plain": [
       "5.0"
      ]
     },
     "execution_count": null,
     "metadata": {},
     "output_type": "execute_result"
    }
   ],
   "source": [
    "o1.set(0,0,3,4)\n",
    "o1.length()"
   ]
  },
  {
   "cell_type": "markdown",
   "id": "ab09d91d",
   "metadata": {},
   "source": [
    "find the angle between two points of o1"
   ]
  },
  {
   "cell_type": "code",
   "execution_count": null,
   "id": "0a56e663",
   "metadata": {},
   "outputs": [
    {
     "name": "stdout",
     "output_type": "stream",
     "text": [
      "pts=0,0:3,3\n",
      "45.0\n",
      "225.0\n"
     ]
    }
   ],
   "source": [
    "o1.set(0,0,3,3)\n",
    "print(o1.get_spec())\n",
    "print(o1.getRAng12())\n",
    "print(o1.getRAng21())"
   ]
  }
 ],
 "metadata": {
  "kernelspec": {
   "display_name": "Python 3 (ipykernel)",
   "language": "python",
   "name": "python3"
  }
 },
 "nbformat": 4,
 "nbformat_minor": 5
}
