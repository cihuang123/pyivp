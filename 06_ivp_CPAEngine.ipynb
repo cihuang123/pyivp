{
 "cells": [
  {
   "cell_type": "markdown",
   "id": "41557513",
   "metadata": {},
   "source": [
    "# pyivp.CPAEngine\n",
    "\n",
    "> API details."
   ]
  },
  {
   "cell_type": "code",
   "execution_count": null,
   "id": "bce6e727",
   "metadata": {},
   "outputs": [],
   "source": [
    "from nbdev.showdoc import *"
   ]
  },
  {
   "cell_type": "markdown",
   "id": "fef018af",
   "metadata": {},
   "source": [
    "### Compile and Install lib_pyivp (partially)"
   ]
  },
  {
   "cell_type": "code",
   "execution_count": null,
   "id": "7854dcf9",
   "metadata": {},
   "outputs": [
    {
     "name": "stdout",
     "output_type": "stream",
     "text": [
      "make -C src\n",
      "make[1]: Entering directory '/home/arg/pyivp/src'\n",
      "mkdir build; cd build; cmake ..; make\n",
      "mkdir: cannot create directory ‘build’: File exists\n",
      "-------------------------------------------------------Use UTM:ON\n",
      "+++++++++++++++++++++++++++++++++++++++++\n",
      "IVP_GUI_CODE will be built......         \n",
      "+++++++++++++++++++++++++++++++++++++++++\n",
      "USING UTM\n",
      "+++++++++++++++++++++++++++++++++++++++++\n",
      "IVP_LIB_DIRECTORY:/usr/local/lib/\n",
      "+++++++++++++++++++++++++++++++++++++++++\n",
      "Bin directory: /home/arg/bin\n",
      "Include directory: /usr/local/include\n",
      "Lib directory: /usr/local/lib/\n",
      "-- Configuring done\n",
      "-- Generating done\n",
      "-- Build files have been written to: /home/arg/pyivp/src/build\n",
      "make[2]: Entering directory '/home/arg/pyivp/src/build'\n",
      "make[3]: Entering directory '/home/arg/pyivp/src/build'\n",
      "make[4]: Entering directory '/home/arg/pyivp/src/build'\n",
      "make[4]: Leaving directory '/home/arg/pyivp/src/build'\n",
      "[ 23%] Built target mbutil\n",
      "make[4]: Entering directory '/home/arg/pyivp/src/build'\n",
      "make[4]: Leaving directory '/home/arg/pyivp/src/build'\n",
      "[100%] Built target geometry\n",
      "make[3]: Leaving directory '/home/arg/pyivp/src/build'\n",
      "make[2]: Leaving directory '/home/arg/pyivp/src/build'\n",
      "make[1]: Leaving directory '/home/arg/pyivp/src'\n",
      "make -C src_unit_tests \n",
      "make[1]: Entering directory '/home/arg/pyivp/src_unit_tests'\n",
      "mkdir build; cd build; cmake ..; make; \n",
      "mkdir: cannot create directory ‘build’: File exists\n",
      " Apps to be built: utest;testConvexHull;testLeftTurn;testIncIntString;testLineCircleIntPts;testSegCircleIntPts;testArcSegCross;testArcSegCrossPts;testDistPointOnArc;testDistPointToArc;testDistPointToArcPt;testDistPtsOnArc;testDistSegToArc;testAngleDiff;testAngleInArc;testSegRayCPA;testPolyRayCPA;testBearingMinMaxToPoly;testDistPointToRay;testCpasRaySegl;testCpasArcSegl\n",
      "-- Configuring done\n",
      "-- Generating done\n",
      "-- Build files have been written to: /home/arg/pyivp/src_unit_tests/build\n",
      "make[2]: Entering directory '/home/arg/pyivp/src_unit_tests/build'\n",
      "make[3]: Entering directory '/home/arg/pyivp/src_unit_tests/build'\n",
      "make[4]: Entering directory '/home/arg/pyivp/src_unit_tests/build'\n",
      "make[4]: Leaving directory '/home/arg/pyivp/src_unit_tests/build'\n",
      "[  6%] Built target utest\n",
      "make[4]: Entering directory '/home/arg/pyivp/src_unit_tests/build'\n",
      "make[4]: Leaving directory '/home/arg/pyivp/src_unit_tests/build'\n",
      "[ 11%] Built target testConvexHull\n",
      "make[4]: Entering directory '/home/arg/pyivp/src_unit_tests/build'\n",
      "make[4]: Leaving directory '/home/arg/pyivp/src_unit_tests/build'\n",
      "[ 16%] Built target testLeftTurn\n",
      "make[4]: Entering directory '/home/arg/pyivp/src_unit_tests/build'\n",
      "make[4]: Leaving directory '/home/arg/pyivp/src_unit_tests/build'\n",
      "[ 20%] Built target testIncIntString\n",
      "make[4]: Entering directory '/home/arg/pyivp/src_unit_tests/build'\n",
      "make[4]: Leaving directory '/home/arg/pyivp/src_unit_tests/build'\n",
      "[ 25%] Built target testLineCircleIntPts\n",
      "make[4]: Entering directory '/home/arg/pyivp/src_unit_tests/build'\n",
      "make[4]: Leaving directory '/home/arg/pyivp/src_unit_tests/build'\n",
      "[ 30%] Built target testSegCircleIntPts\n",
      "make[4]: Entering directory '/home/arg/pyivp/src_unit_tests/build'\n",
      "make[4]: Leaving directory '/home/arg/pyivp/src_unit_tests/build'\n",
      "[ 34%] Built target testArcSegCross\n",
      "make[4]: Entering directory '/home/arg/pyivp/src_unit_tests/build'\n",
      "make[4]: Leaving directory '/home/arg/pyivp/src_unit_tests/build'\n",
      "[ 39%] Built target testArcSegCrossPts\n",
      "make[4]: Entering directory '/home/arg/pyivp/src_unit_tests/build'\n",
      "make[4]: Leaving directory '/home/arg/pyivp/src_unit_tests/build'\n",
      "[ 44%] Built target testDistPointOnArc\n",
      "make[4]: Entering directory '/home/arg/pyivp/src_unit_tests/build'\n",
      "make[4]: Leaving directory '/home/arg/pyivp/src_unit_tests/build'\n",
      "[ 48%] Built target testDistPointToArc\n",
      "make[4]: Entering directory '/home/arg/pyivp/src_unit_tests/build'\n",
      "make[4]: Leaving directory '/home/arg/pyivp/src_unit_tests/build'\n",
      "[ 53%] Built target testDistPointToArcPt\n",
      "make[4]: Entering directory '/home/arg/pyivp/src_unit_tests/build'\n",
      "make[4]: Leaving directory '/home/arg/pyivp/src_unit_tests/build'\n",
      "[ 58%] Built target testDistPtsOnArc\n",
      "make[4]: Entering directory '/home/arg/pyivp/src_unit_tests/build'\n",
      "make[4]: Leaving directory '/home/arg/pyivp/src_unit_tests/build'\n",
      "[ 62%] Built target testDistSegToArc\n",
      "make[4]: Entering directory '/home/arg/pyivp/src_unit_tests/build'\n",
      "make[4]: Leaving directory '/home/arg/pyivp/src_unit_tests/build'\n",
      "[ 67%] Built target testAngleDiff\n",
      "make[4]: Entering directory '/home/arg/pyivp/src_unit_tests/build'\n",
      "make[4]: Leaving directory '/home/arg/pyivp/src_unit_tests/build'\n",
      "[ 72%] Built target testAngleInArc\n",
      "make[4]: Entering directory '/home/arg/pyivp/src_unit_tests/build'\n",
      "make[4]: Leaving directory '/home/arg/pyivp/src_unit_tests/build'\n",
      "[ 76%] Built target testSegRayCPA\n",
      "make[4]: Entering directory '/home/arg/pyivp/src_unit_tests/build'\n",
      "make[4]: Leaving directory '/home/arg/pyivp/src_unit_tests/build'\n",
      "[ 81%] Built target testPolyRayCPA\n",
      "make[4]: Entering directory '/home/arg/pyivp/src_unit_tests/build'\n",
      "make[4]: Leaving directory '/home/arg/pyivp/src_unit_tests/build'\n",
      "[ 86%] Built target testBearingMinMaxToPoly\n",
      "make[4]: Entering directory '/home/arg/pyivp/src_unit_tests/build'\n",
      "make[4]: Leaving directory '/home/arg/pyivp/src_unit_tests/build'\n",
      "[ 90%] Built target testDistPointToRay\n",
      "make[4]: Entering directory '/home/arg/pyivp/src_unit_tests/build'\n",
      "make[4]: Leaving directory '/home/arg/pyivp/src_unit_tests/build'\n",
      "[ 95%] Built target testCpasRaySegl\n",
      "make[4]: Entering directory '/home/arg/pyivp/src_unit_tests/build'\n",
      "make[4]: Leaving directory '/home/arg/pyivp/src_unit_tests/build'\n",
      "[100%] Built target testCpasArcSegl\n",
      "make[3]: Leaving directory '/home/arg/pyivp/src_unit_tests/build'\n",
      "make[2]: Leaving directory '/home/arg/pyivp/src_unit_tests/build'\n",
      "make[1]: Leaving directory '/home/arg/pyivp/src_unit_tests'\n",
      "make -C src/pybind11 \n",
      "make[1]: Entering directory '/home/arg/pyivp/src/pybind11'\n",
      "mkdir build; cd build; cmake ..; make; make install\n",
      "mkdir: cannot create directory ‘build’: File exists\n",
      "-- Configuring done\n",
      "-- Generating done\n",
      "-- Build files have been written to: /home/arg/pyivp/src/pybind11/build\n",
      "make[2]: Entering directory '/home/arg/pyivp/src/pybind11/build'\n",
      "make[3]: Entering directory '/home/arg/pyivp/src/pybind11/build'\n",
      "make[4]: Entering directory '/home/arg/pyivp/src/pybind11/build'\n",
      "make[4]: Leaving directory '/home/arg/pyivp/src/pybind11/build'\n",
      "[100%] Built target pyivp\n",
      "make[3]: Leaving directory '/home/arg/pyivp/src/pybind11/build'\n",
      "make[2]: Leaving directory '/home/arg/pyivp/src/pybind11/build'\n",
      "make[2]: Entering directory '/home/arg/pyivp/src/pybind11/build'\n",
      "make[3]: Entering directory '/home/arg/pyivp/src/pybind11/build'\n",
      "make[4]: Entering directory '/home/arg/pyivp/src/pybind11/build'\n",
      "make[4]: Leaving directory '/home/arg/pyivp/src/pybind11/build'\n",
      "[100%] Built target pyivp\n",
      "make[3]: Leaving directory '/home/arg/pyivp/src/pybind11/build'\n",
      "\u001b[36mInstall the project...\u001b[0m\n",
      "-- Install configuration: \"Release\"\n",
      "-- Up-to-date: /home/arg/miniconda3/envs/movingpandas/lib/python3.9/site-packages/pyivp.cpython-39-x86_64-linux-gnu.so\n",
      "make[2]: Leaving directory '/home/arg/pyivp/src/pybind11/build'\n",
      "make[1]: Leaving directory '/home/arg/pyivp/src/pybind11'\n",
      "cd src_unit_tests; ./alltest.sh\n",
      "===========================================\n",
      "NOTE: build  has no cases.utf file to check\n",
      "===========================================\n",
      "===========================================\n",
      "Checking: testAngleDiff/cases.utf\n",
      "===========================================\n",
      "Testing file: cases.utf\n",
      " Line 2 OK \n",
      " Line 3 OK \n",
      " Line 4 OK \n",
      " Line 6 OK \n",
      " Line 8 OK \n",
      " Line 9 OK \n",
      " Line 10 OK \n",
      " Line 11 OK \n",
      " Line 12 OK \n",
      " Line 13 OK \n",
      " Line 14 OK \n",
      " Line 15 OK \n",
      " Line 16 OK \n",
      " Line 17 OK \n",
      " Line 18 OK \n",
      " Line 19 OK \n",
      " Line 20 OK \n",
      " Line 21 OK \n",
      " Line 22 OK \n",
      " Line 23 OK \n",
      " Line 24 OK \n",
      "===========================================\n",
      "Checking: testAngleInArc/cases.utf\n",
      "===========================================\n",
      "Testing file: cases.utf\n",
      " Line 2 OK \n",
      " Line 3 OK \n",
      " Line 4 OK \n",
      " Line 5 OK \n",
      " Line 6 OK \n",
      " Line 7 OK \n",
      " Line 8 OK \n",
      " Line 10 OK \n",
      " Line 11 OK \n",
      " Line 13 OK \n",
      " Line 14 OK \n",
      " Line 16 OK \n",
      " Line 17 OK \n",
      " Line 21 OK \n",
      "===========================================\n",
      "Checking: testArcSegCross/cases.utf\n",
      "===========================================\n",
      "Testing file: cases.utf\n",
      " Line 2 OK \n",
      " Line 3 OK \n",
      " Line 4 OK \n",
      "===========================================\n",
      "Checking: testArcSegCrossPts/cases.utf\n",
      "===========================================\n",
      "Testing file: cases.utf\n",
      " Line 2 OK \n",
      " Line 3 OK \n",
      " Line 6 OK \n",
      "===========================================\n",
      "Checking: testBearingMinMaxToPoly/cases.utf\n",
      "===========================================\n",
      "Testing file: cases.utf\n",
      " Line 3 FAIL \n",
      "sys_cmd: [testBearingMinMaxToPoly poly=250,-50:275,-50:275,-25:250,-25  px=15 py=5]\n",
      "results: [bmin=96.58,bmax=103.17]\n",
      "expected:[bmin=96.58,bmax=97.28]\n",
      " Line 4 FAIL \n",
      "sys_cmd: [testBearingMinMaxToPoly poly=250,-50:275,-50:275,-25:250,-25  px=15 py=-40]\n",
      "results: [bmin=86.35,bmax=92.44]\n",
      "expected:[bmin=86.35,bmax=92.44]\n",
      "Failed on test file: cases.utf\n",
      "===========================================\n",
      "Checking: testConvexHull/cases.utf\n",
      "===========================================\n",
      "Testing file: cases.utf\n",
      " Line 3 FAIL \n",
      "sys_cmd: [testSegRayCPA pts={107.5,-53.5:112,-43.8:112,-46.1:111.7,-49.3:108.3,-52.7:107.7,-53.3}]\n",
      "results: [Error:arg[pts={107.5,-53.5:112,-43.8:112,-46.1:111.7,-49.3:108.3,-52.7:107.7,-53.3}]Exiting.]\n",
      "expected:[]\n",
      "Failed on test file: cases.utf\n",
      "===========================================\n",
      "Checking: testCpasArcSegl/cases.utf\n",
      "===========================================\n",
      "Testing file: cases.utf\n",
      " Line 4 OK \n",
      " Line 9 OK \n",
      " Line 13 OK \n",
      "===========================================\n",
      "Checking: testCpasRaySegl/cases.utf\n",
      "===========================================\n",
      "Testing file: cases.utf\n",
      " Line 3 OK \n"
     ]
    },
    {
     "name": "stdout",
     "output_type": "stream",
     "text": [
      " Line 6 OK \n",
      " Line 9 OK \n",
      " Line 14 OK \n",
      "===========================================\n",
      "Checking: testDistPointOnArc/cases.utf\n",
      "===========================================\n",
      "Testing file: cases.utf\n",
      " Line 3 OK \n",
      " Line 4 OK \n",
      " Line 6 OK \n",
      " Line 7 OK \n",
      "===========================================\n",
      "Checking: testDistPointToArc/cases.utf\n",
      "===========================================\n",
      "Testing file: cases.utf\n",
      " Line 3 OK \n",
      " Line 4 OK \n",
      " Line 5 OK \n",
      " Line 6 OK \n",
      " Line 8 OK \n",
      " Line 9 OK \n",
      " Line 10 OK \n",
      "===========================================\n",
      "Checking: testDistPointToArcPt/cases.utf\n",
      "===========================================\n",
      "Testing file: cases.utf\n",
      " Line 5 OK \n",
      " Line 9 OK \n",
      " Line 13 OK \n",
      " Line 17 OK \n",
      " Line 21 OK \n",
      " Line 26 OK \n",
      "===========================================\n",
      "Checking: testDistPointToRay/cases.utf\n",
      "===========================================\n",
      "Testing file: cases.utf\n",
      " Line 3 OK \n",
      " Line 5 OK \n",
      " Line 6 OK \n",
      " Line 7 OK \n",
      " Line 9 OK \n",
      "===========================================\n",
      "Checking: testDistPtsOnArc/cases.utf\n",
      "===========================================\n",
      "Testing file: cases.utf\n",
      "===========================================\n",
      "Checking: testDistSegListToArc/cases.utf\n",
      "===========================================\n",
      "Testing file: cases.utf\n",
      " Line 3 OK \n",
      " Line 4 OK \n",
      " Line 6 OK \n",
      " Line 7 OK \n",
      " Line 8 OK \n",
      " Line 10 OK \n",
      " Line 13 OK \n",
      " Line 14 OK \n",
      "===========================================\n",
      "Checking: testDistSegToArc/cases.utf\n",
      "===========================================\n",
      "Testing file: cases.utf\n",
      " Line 3 OK \n",
      " Line 4 OK \n",
      " Line 6 OK \n",
      " Line 7 OK \n",
      " Line 8 OK \n",
      " Line 10 OK \n",
      " Line 13 OK \n",
      " Line 14 OK \n",
      " Line 16 OK \n",
      "===========================================\n",
      "Checking: testIncIntString/cases.utf\n",
      "===========================================\n",
      "Testing file: cases.utf\n",
      " Line 2 FAIL \n",
      "sys_cmd: [testIncIntString str=foo23       amt=1  keep=true]\n",
      "results: [new_str=24]\n",
      "expected:[new_str=foo24]\n",
      " Line 3 FAIL \n",
      "sys_cmd: [testIncIntString str=foo23bar    amt=3  keep=true]\n",
      "results: [new_str=26]\n",
      "expected:[new_str=foo26]\n",
      " Line 4 FAIL \n",
      "sys_cmd: [testIncIntString str=foo23bar34  amt=1  keep=true]\n",
      "results: [new_str=2335]\n",
      "expected:[new_str=foo2335]\n",
      " Line 7 OK \n",
      " Line 8 OK \n",
      "Failed on test file: cases.utf\n",
      "===========================================\n",
      "Checking: testLeftTurn/cases.utf\n",
      "===========================================\n",
      "Testing file: cases.utf\n",
      " Line 2 FAIL \n",
      "sys_cmd: [testLeftTurn x1=0 y1=0 x2=0 y2=40 x3=50 y3=40]\n",
      "results: [left_turn=false]\n",
      "expected:[left_turn=true]\n",
      " Line 3 OK \n",
      "Failed on test file: cases.utf\n",
      "===========================================\n",
      "NOTE: testLineCircleIntPts  has no cases.utf file to check\n",
      "===========================================\n",
      "===========================================\n",
      "Checking: testPolyRayCPA/cases.utf\n",
      "===========================================\n",
      "Testing file: cases.utf\n",
      " Line 3 OK \n",
      " Line 4 OK \n",
      " Line 5 OK \n",
      " Line 6 OK \n",
      "===========================================\n",
      "Checking: testSegCircleIntPts/cases.utf\n",
      "===========================================\n",
      "Testing file: cases.utf\n",
      " Line 2 OK \n",
      " Line 3 OK \n",
      " Line 5 OK \n",
      " Line 6 OK \n",
      " Line 8 OK \n",
      "===========================================\n",
      "Checking: testSegRayCPA/cases.utf\n",
      "===========================================\n",
      "Testing file: cases.utf\n",
      " Line 3 OK \n",
      " Line 4 OK \n",
      "===========================================\n",
      "Checking: utest/cases.utf\n",
      "===========================================\n",
      "Testing file: cases.utf\n",
      " Line 3 OK \n",
      " Line 4 OK \n",
      " Line 5 OK \n",
      " Line 6 OK \n",
      " Line 7 OK \n",
      " Line 8 OK \n",
      " Line 10 OK \n",
      "===========================================\n",
      "Checking: utgen/cases.utf\n",
      "===========================================\n",
      "Testing file: cases.utf\n",
      " Line 3 OK \n",
      " Line 4 OK \n",
      " Line 5 OK \n",
      " Line 6 OK \n",
      " Line 7 OK \n",
      " Line 8 OK \n",
      " Line 10 OK \n",
      "cd src/pytest; python3 test_pattern_block.py\n",
      "== Test package and local function. ==\n",
      "C++ result x plus y is: 3\n",
      "Python result x plus y is:  3\n",
      "== Test XYPoint ==\n",
      "x=0,y=0\n",
      "x=10,y=15\n"
     ]
    }
   ],
   "source": [
    "! cd ~/pyivp && make"
   ]
  },
  {
   "cell_type": "markdown",
   "id": "7ae7c4db",
   "metadata": {},
   "source": [
    "### Run python library in Jupyter Notebook"
   ]
  },
  {
   "cell_type": "code",
   "execution_count": null,
   "id": "a0d806be",
   "metadata": {},
   "outputs": [],
   "source": [
    "import pyivp"
   ]
  },
  {
   "cell_type": "markdown",
   "id": "d02e3c07",
   "metadata": {},
   "source": [
    "### CPAEngine\n",
    "create a CPAEngine object, arguments below are necessary for cpa <br />\n",
    "CPAEngine(arg0, arg1, arg2, arg3, arg4, arg5): \n",
    "* arg0&lt;float&gt;: cny, Given Contact Latitude Position\n",
    "* arg1&lt;float&gt;: cnx, Given Contact Longitude Position\n",
    "* arg2&lt;float&gt;: cnh, Given Contact Course (degrees: 0-359)\n",
    "* arg3&lt;float&gt;: cnv, Given Contact Speed (Unit: knots per hour)\n",
    "* arg4&lt;float&gt;: osy, Given Ownship Latitude Position\n",
    "* arg5&lt;float&gt;: osx, Given Ownship Longitude Position"
   ]
  },
  {
   "cell_type": "code",
   "execution_count": null,
   "id": "02aa0030",
   "metadata": {},
   "outputs": [],
   "source": [
    "pybind_cpa = pyivp.CPAEngine(127, 31, 50, 6, 128, 32)"
   ]
  },
  {
   "cell_type": "code",
   "execution_count": null,
   "id": "847441f6",
   "metadata": {},
   "outputs": [
    {
     "name": "stdout",
     "output_type": "stream",
     "text": [
      "__init__(*args, **kwargs)\n",
      "Overloaded function.\n",
      "\n",
      "1. __init__(self: pyivp.CPAEngine) -> None\n",
      "\n",
      "CPAEngine(), no argument. Please use reset() to assign arguments.\n",
      "\n",
      "2. __init__(self: pyivp.CPAEngine, arg0: float, arg1: float, arg2: float, arg3: float, arg4: float, arg5: float) -> None\n",
      "\n",
      "CPAEngine(arg0, arg1, arg2, arg3, arg4, arg5): create a CPAEngine object, arguments below are necessary for cpa\n",
      "Args: \n",
      "  arg0 <float>: cny, Given Contact Latitude Position \n",
      "  arg1 <float>: cnx, Given Contact Longitude Position \n",
      "  arg2 <float>: cnh, Given Contact Course (degrees: 0-359) \n",
      "  arg3 <float>: cnv, Given Contact Speed (Unit: knots per hour) \n",
      "  arg4 <float>: osy, Given Ownship Latitude Position \n",
      "  arg5 <float>: osx, Given Ownship Longitude Position\n",
      "\n"
     ]
    }
   ],
   "source": [
    "print(pybind_cpa.__init__.__doc__)"
   ]
  },
  {
   "cell_type": "markdown",
   "id": "1e8c7868",
   "metadata": {},
   "source": [
    "you can also change arguments with function: reset(cny, cnx, cnh, cnv, osy, osx)"
   ]
  },
  {
   "cell_type": "code",
   "execution_count": null,
   "id": "392dfff3",
   "metadata": {},
   "outputs": [],
   "source": [
    "pybind_cpa.reset(127.63, 31.55, 50, 6, 127.69, 31.94)"
   ]
  },
  {
   "cell_type": "code",
   "execution_count": null,
   "id": "875f298c",
   "metadata": {},
   "outputs": [
    {
     "name": "stdout",
     "output_type": "stream",
     "text": [
      "reset(self: pyivp.CPAEngine, arg0: float, arg1: float, arg2: float, arg3: float, arg4: float, arg5: float) -> None\n",
      "\n",
      "reset(arg0, arg1, arg2, arg3, arg4, arg5): assign arguments to a existed CPAEngine object, arguments below are necessary for cpa\n",
      "Args: \n",
      "  arg0 <float>: cny, Given Contact Latitude Position \n",
      "  arg1 <float>: cnx, Given Contact Longitude Position \n",
      "  arg2 <float>: cnh, Given Contact Course (degrees: 0-359) \n",
      "  arg3 <float>: cnv, Given Contact Speed (Unit: knots per hour) \n",
      "  arg4 <float>: osy, Given Ownship Latitude Position \n",
      "  arg5 <float>: osx, Given Ownship Longitude Position\n",
      "\n"
     ]
    }
   ],
   "source": [
    "print(pybind_cpa.reset.__doc__)"
   ]
  },
  {
   "cell_type": "markdown",
   "id": "9bc8330d",
   "metadata": {},
   "source": [
    "### CPAEngine - evalCPA\n",
    "evalCPA(arg0, arg1, arg2): \n",
    "* arg0&lt;float&gt;: osh, Given Ownship Course (degrees: 0-359)\n",
    "* arg1&lt;float&gt;: osv, Given Ownship Speed (Unit: kts)\n",
    "* arg2&lt;float&gt;: ostol, Given Ownship Time-on-leg\n",
    "* return: Closest-Point-of-Approach (CPA)"
   ]
  },
  {
   "cell_type": "code",
   "execution_count": null,
   "id": "b7354479",
   "metadata": {},
   "outputs": [
    {
     "data": {
      "text/plain": [
       "0.3759416385598786"
      ]
     },
     "execution_count": null,
     "metadata": {},
     "output_type": "execute_result"
    }
   ],
   "source": [
    "pybind_cpa.evalCPA(30, 7, 24)"
   ]
  },
  {
   "cell_type": "code",
   "execution_count": null,
   "id": "895577d0",
   "metadata": {},
   "outputs": [
    {
     "name": "stdout",
     "output_type": "stream",
     "text": [
      "evalCPA(self: pyivp.CPAEngine, arg0: float, arg1: float, arg2: float) -> float\n",
      "\n",
      "evalCPA(arg0, arg1, arg2): \n",
      "Args: \n",
      "  arg0 <float>: osh, Given Ownship Course (degrees: 0-359) \n",
      "  arg1 <float>: osv, Given Ownship Speed (Unit: knots per hour) \n",
      "  arg2 <float>: ostol, Given Ownship Time-on-leg \n",
      "return: Closest-Point-of-Approach (CPA)\n",
      "\n"
     ]
    }
   ],
   "source": [
    "print(pybind_cpa.evalCPA.__doc__)"
   ]
  },
  {
   "cell_type": "markdown",
   "id": "77177a73",
   "metadata": {},
   "source": [
    "### Extra tool - visualizeCPA\n",
    "visualizeCPA(arg0, arg1, arg2, arg3, arg4, arg5, arg6, arg7): \n",
    "* arg0&lt;float&gt;: cny, Given Contact Latitude Position\n",
    "* arg1&lt;float&gt;: cnx, Given Contact Longitude Position\n",
    "* arg2&lt;float&gt;: cnh, Given Contact Course (degrees: 0-359)\n",
    "* arg3&lt;float&gt;: cnv, Given Contact Speed (Unit: knots per hour)\n",
    "* arg4&lt;float&gt;: osy, Given Ownship Latitude Position\n",
    "* arg5&lt;float&gt;: osx, Given Ownship Longitude Position\n",
    "* arg6&lt;float&gt;: osv, Given Ownship Speed (Unit: knots per hour)\n",
    "* arg7&lt;float&gt;: tol, Given Ownship Time-on-leg \n",
    "* return: A figure that visualize CPA according to assigned arguments"
   ]
  },
  {
   "cell_type": "code",
   "execution_count": null,
   "id": "7133e63d",
   "metadata": {},
   "outputs": [],
   "source": [
    "import pyivp\n",
    "import math\n",
    "import numpy as np\n",
    "import matplotlib as mpl\n",
    "import matplotlib.patches as mpatches\n",
    "import matplotlib.tri as tri\n",
    "import matplotlib.pyplot as plt\n",
    "\n",
    "def heading2coordinate(heading):\n",
    "    \"\"\"\n",
    "    Usage: Transfer heading in moos to coordinate in matplotlib\n",
    "    heading2coordinate(arg0): \n",
    "    Args: \n",
    "        arg0 <float>: heading degree (degrees: 0-359) \n",
    "    Returns: \n",
    "        coordinate degree <float> in matplotlib (degrees: 0-359) \n",
    "    \"\"\"\n",
    "    new_angle = -heading-270\n",
    "    while (new_angle < 0):\n",
    "        new_angle += 360\n",
    "    return new_angle\n",
    "\n",
    "def coordinate2heading(coordinate):\n",
    "    \"\"\"\n",
    "    Usage: Transfer coordinate in matplotlib to heading in moos\n",
    "    coordinate2heading(arg0): \n",
    "    Args: \n",
    "        arg0 <float>: coordinate degree (degrees: 0-359) \n",
    "    Returns: \n",
    "        heading degree <float> in moos (degrees: 0-359) \n",
    "    \"\"\"\n",
    "    new_heading = -coordinate-270\n",
    "    while (new_heading < 0):\n",
    "        new_heading += 360\n",
    "    return new_heading\n",
    "\n",
    "def gen_arrow_head_marker(rotation):\n",
    "    \"\"\"\n",
    "    Usage: generate a marker to plot with matplotlib scatter\n",
    "\n",
    "    gen_arrow_head_marker(arg0): \n",
    "    Args: \n",
    "        arg0 <float>: rotation, rotation in degree. 0 is positive x direction\n",
    "    Returns: \n",
    "        arrow_head_marker : path for marker argument of plt.scatter\n",
    "        scale <float> : multiply a argument of plt.scatter with this factor got get markers with the same size independent of their rotation. Paths are autoscaled to a box of size -1 <= x, y <= 1 by plt.scatter\n",
    "    \"\"\"\n",
    "    arr = np.array([[.1, .3], [.1, -.3], [1, 0]])  # arrow shape\n",
    "    angle = rotation / 180 * np.pi\n",
    "    rot_mat = np.array([\n",
    "        [np.cos(angle), np.sin(angle)],\n",
    "        [-np.sin(angle), np.cos(angle)]\n",
    "        ])\n",
    "    arr = np.matmul(arr, rot_mat)  # rotates the arrow\n",
    "\n",
    "    # scale\n",
    "    x0 = np.amin(arr[:, 0])\n",
    "    x1 = np.amax(arr[:, 0])\n",
    "    y0 = np.amin(arr[:, 1])\n",
    "    y1 = np.amax(arr[:, 1])\n",
    "    scale = np.amax(np.abs([x0, x1, y0, y1]))\n",
    "\n",
    "    arrow_head_marker = mpl.path.Path(arr)\n",
    "    return arrow_head_marker, scale\n",
    "\n",
    "def generateCPA(x, y, cny, cnx, cnh, cnv, osy, osx, osv, tol):\n",
    "    \"\"\"\n",
    "    Usage: generate CPA distance according to gridmesh of assigned area\n",
    "\n",
    "    generateCPA(arg0, arg1, arg2, arg3, arg4, arg5, arg6, arg7, arg8, arg9): \n",
    "    Args: \n",
    "        arg0 <np.2darray>: x, gridmesh of x-axis\n",
    "        arg1 <np.2darray>: y, gridmesh of y-axis\n",
    "        arg2 <float>: cny, Given Contact Latitude Position\n",
    "        arg3 <float>: cnx, Given Contact Longitude Position\n",
    "        arg4 <float>: cnh, Given Contact Course (degrees: 0-359)\n",
    "        arg5 <float>: cnv, Given Contact Speed (Unit: knots per hour)\n",
    "        arg6 <float>: osy, Given Ownship Latitude Position\n",
    "        arg7 <float>: osx, Given Ownship Longitude Position\n",
    "        arg8 <float>: osv, Given Ownship Speed (Unit: knots per hour)\n",
    "        arg9 <float>: tol, Given Ownship Time-on-leg \n",
    "    Returns: \n",
    "        cpa_array <np.2darray>: A gridmesh with calculated CPA distance\n",
    "    \"\"\"\n",
    "    if (x.shape != y.shape):\n",
    "        print(\"input size error\")\n",
    "        return\n",
    "    cpa_array = np.zeros((x.shape))\n",
    "    cpa = pyivp.CPAEngine(cny-osy, cnx-osx, cnh, cnv, 0, 0)\n",
    "    for i in range(x.shape[0]):\n",
    "        for j in range(x.shape[0]):\n",
    "            degree = math.degrees(math.atan2(y[i][j]-osy, x[i][j]-osx))\n",
    "            cpa_array[i][j] = cpa.evalCPA(coordinate2heading(degree), osv, tol)\n",
    "    \n",
    "    return cpa_array\n",
    "\n",
    "def visualizeCPA(cny, cnx, cnh, cnv, osy, osx, osv, tol):\n",
    "    \"\"\"\n",
    "    Usage: visualize CPA\n",
    "\n",
    "    visualizeCPA(arg0, arg1, arg2, arg3, arg4, arg5, arg6, arg7): \n",
    "    Args: \n",
    "        arg0 <float>: cny, Given Contact Latitude Position\n",
    "        arg1 <float>: cnx, Given Contact Longitude Position\n",
    "        arg2 <float>: cnh, Given Contact Course (degrees: 0-359)\n",
    "        arg3 <float>: cnv, Given Contact Speed (Unit: knots per hour)\n",
    "        arg4 <float>: osy, Given Ownship Latitude Position\n",
    "        arg5 <float>: osx, Given Ownship Longitude Position\n",
    "        arg6 <float>: osv, Given Ownship Speed (Unit: knots per hour)\n",
    "        arg7 <float>: tol, Given Ownship Time-on-leg \n",
    "    Returns: \n",
    "        A figure that visualize CPA according to assigned arguments\n",
    "    \"\"\"\n",
    "    graph_radius = math.sqrt(math.pow(cny-osy, 2) + math.pow(cnx-osx, 2)) * 1.2\n",
    "    graph_x = np.linspace(-graph_radius+osx, graph_radius+osx, 500)\n",
    "    graph_y = np.linspace(-graph_radius+osy, graph_radius+osy, 500)\n",
    "    mesh_x, mesh_y = np.meshgrid(graph_x, graph_y)\n",
    "\n",
    "    mesh_cpa = generateCPA(mesh_x, mesh_y, cny, cnx, cnh, cnv, osy, osx, osv, tol)\n",
    "\n",
    "    figure, ax = plt.subplots()\n",
    "    cx = plt.contourf(mesh_x, mesh_y, mesh_cpa, levels=100)\n",
    "    markersize = 40\n",
    "    marker_ownship, scale = gen_arrow_head_marker(90)\n",
    "    marker_contact, scale2 = gen_arrow_head_marker(heading2coordinate(cnh))\n",
    "    ax.scatter(osx, osy, marker=marker_ownship, s=(markersize*scale)**2, color='blue')\n",
    "    ax.scatter(cnx, cny, marker=marker_contact, s=(markersize*scale)**2, color='orange')\n",
    "    ownship_patch = mpatches.Patch(color='blue', label=\"ownship\")\n",
    "    contact_patch = mpatches.Patch(color='orange', label=\"contactship\")\n",
    "    ax.legend(bbox_to_anchor =(0.9, 1.15), ncol = 2, handles=[ownship_patch, contact_patch])\n",
    "    ax.set_aspect(1)\n",
    "    plt.colorbar(cx, label=\"cpa distance\")\n",
    "    plt.xlabel('Longitude')\n",
    "    plt.ylabel('Latitude')\n",
    "    plt.show()"
   ]
  },
  {
   "cell_type": "code",
   "execution_count": null,
   "id": "237388bc",
   "metadata": {},
   "outputs": [
    {
     "data": {
      "image/png": "[encoded data removed]",
      "text/plain": [
       "<Figure size 432x288 with 2 Axes>"
      ]
     },
     "metadata": {
      "needs_background": "light"
     },
     "output_type": "display_data"
    }
   ],
   "source": [
    "visualizeCPA(-40, 30, 316, 2, -20 ,-40, 4, 100)"
   ]
  },
  {
   "cell_type": "code",
   "execution_count": null,
   "id": "e412576f",
   "metadata": {},
   "outputs": [],
   "source": []
  },
  {
   "cell_type": "markdown",
   "id": "d6a660ce",
   "metadata": {},
   "source": [
    "### CPAEngine - evalTimeCPA\n",
    "evalTimeCPA(arg0, arg1, arg2): \n",
    "* arg0&lt;float&gt;: osh, Given Ownship Course (degrees: 0-359)\n",
    "* arg1&lt;float&gt;: osv, Given Ownship Speed (Unit: knots per hour)\n",
    "* arg2&lt;float&gt;: ostol, Given Ownship Time-on-leg\n",
    "* return: Time of Closest-Point-of-Approach (CPA)"
   ]
  },
  {
   "cell_type": "code",
   "execution_count": null,
   "id": "87ba9d1a",
   "metadata": {},
   "outputs": [
    {
     "data": {
      "text/plain": [
       "0.04866891432692041"
      ]
     },
     "execution_count": null,
     "metadata": {},
     "output_type": "execute_result"
    }
   ],
   "source": [
    "pybind_cpa.evalTimeCPA(30, 7, 24)"
   ]
  },
  {
   "cell_type": "code",
   "execution_count": null,
   "id": "cb9b74a0",
   "metadata": {},
   "outputs": [
    {
     "name": "stdout",
     "output_type": "stream",
     "text": [
      "evalTimeCPA(self: pyivp.CPAEngine, arg0: float, arg1: float, arg2: float) -> float\n",
      "\n",
      "evalTimeCPA(arg0, arg1, arg2): \n",
      "Args: \n",
      "  arg0 <float>: osh, Given Ownship Course (degrees: 0-359) \n",
      "  arg1 <float>: osv, Given Ownship Speed (Unit: knots per hour) \n",
      "  arg2 <float>: ostol, Given Ownship Time-on-leg \n",
      "return: Time of Closest-Point-of-Approach (CPA)\n",
      "\n"
     ]
    }
   ],
   "source": [
    "print(pybind_cpa.evalTimeCPA.__doc__)"
   ]
  },
  {
   "cell_type": "markdown",
   "id": "79cddf60",
   "metadata": {},
   "source": [
    "### CPAEngine - evalROC\n",
    "evalROC(arg0, arg1): \n",
    "* arg0&lt;float&gt;: osh, Given Ownship Course (degrees: 0-359)\n",
    "* arg1&lt;float&gt;: osv, Given Ownship Speed (Unit: knots per hour)\n",
    "* return: rate-of-closure for a given heading speed"
   ]
  },
  {
   "cell_type": "code",
   "execution_count": null,
   "id": "d5cc4f60",
   "metadata": {},
   "outputs": [
    {
     "data": {
      "text/plain": [
       "0.7481640918227548"
      ]
     },
     "execution_count": null,
     "metadata": {},
     "output_type": "execute_result"
    }
   ],
   "source": [
    "pybind_cpa.evalROC(30, 7)"
   ]
  },
  {
   "cell_type": "code",
   "execution_count": null,
   "id": "2d0ebc3a",
   "metadata": {},
   "outputs": [
    {
     "name": "stdout",
     "output_type": "stream",
     "text": [
      "evalROC(self: pyivp.CPAEngine, arg0: float, arg1: float) -> float\n",
      "\n",
      "evalROC(arg0, arg1): \n",
      "Args: \n",
      "  arg0 <float>: osh, Given Ownship Course (degrees: 0-359) \n",
      "  arg1 <float>: osv, Given Ownship Speed (Unit: knots per hour) \n",
      "return: rate-of-closure for a given heading speed\n",
      "\n"
     ]
    }
   ],
   "source": [
    "print(pybind_cpa.evalROC.__doc__)"
   ]
  },
  {
   "cell_type": "markdown",
   "id": "788217e3",
   "metadata": {},
   "source": [
    "### CPAEngine - crossesStern\n",
    "crossesStern(arg0, arg1): \n",
    "* arg0&lt;float&gt;: osh, Given Ownship Course (degrees: 0-359)\n",
    "* arg1&lt;float&gt;: osv, Given Ownship Speed (Unit: knots per hour)\n",
    "* return: Determine if for the given ownship course and speed whether it is on a path to cross the path of the contact on its stern."
   ]
  },
  {
   "cell_type": "code",
   "execution_count": null,
   "id": "6dd0508e",
   "metadata": {},
   "outputs": [
    {
     "data": {
      "text/plain": [
       "True"
      ]
     },
     "execution_count": null,
     "metadata": {},
     "output_type": "execute_result"
    }
   ],
   "source": [
    "pybind_cpa.crossesStern(30, 2)"
   ]
  },
  {
   "cell_type": "code",
   "execution_count": null,
   "id": "45a4583b",
   "metadata": {},
   "outputs": [
    {
     "name": "stdout",
     "output_type": "stream",
     "text": [
      "crossesStern(self: pyivp.CPAEngine, arg0: float, arg1: float) -> bool\n",
      "\n",
      "crossesStern(arg0, arg1): \n",
      "Args: \n",
      "  arg0 <float>: osh, Given Ownship Course (degrees: 0-359) \n",
      "  arg1 <float>: osv, Given Ownship Speed (Unit: knots per hour)\n",
      "return: Determine if for the given ownship course and speed whether it is on a path to cross the path of the contact on its stern\n",
      "\n"
     ]
    }
   ],
   "source": [
    "print(pybind_cpa.crossesStern.__doc__)"
   ]
  },
  {
   "cell_type": "markdown",
   "id": "625c39bf",
   "metadata": {},
   "source": [
    "### CPAEngine - crossesSternDist\n",
    "crossesSternDist(arg0, arg1): \n",
    "* arg0&lt;float&gt;: osh, Given Ownship Course (degrees: 0-359)\n",
    "* arg1&lt;float&gt;: osv, Given Ownship Speed (Unit: knots per hour)\n",
    "* return: Determine if for the given ownship course and speed whether it is on a path to cross the path of the contact on its stern. And if so, at what distance when it crosses?"
   ]
  },
  {
   "cell_type": "code",
   "execution_count": null,
   "id": "73c90993",
   "metadata": {},
   "outputs": [
    {
     "data": {
      "text/plain": [
       "0.8959226585821285"
      ]
     },
     "execution_count": null,
     "metadata": {},
     "output_type": "execute_result"
    }
   ],
   "source": [
    "pybind_cpa.crossesSternDist(30, 2)"
   ]
  },
  {
   "cell_type": "code",
   "execution_count": null,
   "id": "4a991b6f",
   "metadata": {},
   "outputs": [
    {
     "name": "stdout",
     "output_type": "stream",
     "text": [
      "crossesSternDist(self: pyivp.CPAEngine, arg0: float, arg1: float) -> float\n",
      "\n",
      "crossesSternDist(arg0, arg1): \n",
      "Args: \n",
      "  arg0 <float>: osh, Given Ownship Course (degrees: 0-359) \n",
      "  arg1 <float>: osv, Given Ownship Speed (Unit: knots per hour) \n",
      "return: Determine if for the given ownship course and speed whether it is on a path to cross the path of the contact on its stern. And if so, at what distance when it crosses?\n",
      "\n"
     ]
    }
   ],
   "source": [
    "print(pybind_cpa.crossesSternDist.__doc__)"
   ]
  },
  {
   "cell_type": "markdown",
   "id": "c0f54a26",
   "metadata": {},
   "source": [
    "### CPAEngine - crossesBow\n",
    "crossesBow(arg0, arg1): \n",
    "* arg0&lt;float&gt;: osCRS, Given Ownship Coordinate Reference System  (degrees: 0-359)\n",
    "* arg1&lt;float&gt;: osSPD, Given Ownship Speed (Unit: knots per hour)\n",
    "* return:  Determine if for the given ownship course and speed whether it is on a path to cross the path of the contact on its bow."
   ]
  },
  {
   "cell_type": "code",
   "execution_count": null,
   "id": "38ad409f",
   "metadata": {},
   "outputs": [
    {
     "data": {
      "text/plain": [
       "True"
      ]
     },
     "execution_count": null,
     "metadata": {},
     "output_type": "execute_result"
    }
   ],
   "source": [
    "pybind_cpa.crossesBow(30, 5)"
   ]
  },
  {
   "cell_type": "code",
   "execution_count": null,
   "id": "1f1fba4f",
   "metadata": {},
   "outputs": [
    {
     "name": "stdout",
     "output_type": "stream",
     "text": [
      "crossesBow(self: pyivp.CPAEngine, arg0: float, arg1: float) -> bool\n",
      "\n",
      "crossesBow(arg0, arg1): \n",
      "Args: \n",
      "  arg0 <float>: osCRS, Given Ownship Coordinate Reference System (degrees: 0-359) \n",
      "  arg1 <float>: osSPD, Given Ownship Speed (Unit: knots per hour) \n",
      "return: Determine if for the given ownship course and speed whether it is on a path to cross the path of the contact on its bow\n",
      "\n"
     ]
    }
   ],
   "source": [
    "print(pybind_cpa.crossesBow.__doc__)"
   ]
  },
  {
   "cell_type": "markdown",
   "id": "c07ba88d",
   "metadata": {},
   "source": [
    "### CPAEngine - crossesBowDist\n",
    "crossesBowDist(arg0, arg1): \n",
    "* arg0&lt;float&gt;: osh, Given Ownship Course (degrees: 0-359)\n",
    "* arg1&lt;float&gt;: osv, Given Ownship Speed (Unit: knots per hour)\n",
    "* return:  Determine if for the given ownship course and speed whether it is on a path to cross the path of the contact on its bow. And if so, at what distance when it crosses?"
   ]
  },
  {
   "cell_type": "code",
   "execution_count": null,
   "id": "83a57ac6",
   "metadata": {},
   "outputs": [
    {
     "data": {
      "text/plain": [
       "0.18151125674575103"
      ]
     },
     "execution_count": null,
     "metadata": {},
     "output_type": "execute_result"
    }
   ],
   "source": [
    "pybind_cpa.crossesBowDist(30, 5)"
   ]
  },
  {
   "cell_type": "code",
   "execution_count": null,
   "id": "30b3c89b",
   "metadata": {},
   "outputs": [
    {
     "name": "stdout",
     "output_type": "stream",
     "text": [
      "crossesBowDist(self: pyivp.CPAEngine, arg0: float, arg1: float) -> float\n",
      "\n",
      "crossesBowDist(arg0, arg1): \n",
      "Args: \n",
      "  arg0 <float>: osh, Given Ownship Course (degrees: 0-359) \n",
      "  arg1 <float>: osv, Given Ownship Speed (Unit: knots per hour) \n",
      "return: Determine if for the given ownship course and speed whether it is on a path to cross the path of the contact on its bow. And if so, at what distance when it crosses?\n",
      "\n"
     ]
    }
   ],
   "source": [
    "print(pybind_cpa.crossesBowDist.__doc__)"
   ]
  },
  {
   "cell_type": "markdown",
   "id": "9256e95e",
   "metadata": {},
   "source": [
    "### CPAEngine - crossesBowOrStern\n",
    "crossesBowOrStern(arg0, arg1): \n",
    "* arg0&lt;float&gt;: osCRS, Given Ownship Coordinate Reference System  (degrees: 0-359)\n",
    "* arg1&lt;float&gt;: osSPD, Given Ownship Speed (Unit: knots per hour)\n",
    "* return:  Determine if for the given ownship course and speed whether it is on a path to cross the path of the contact on its stern or bow."
   ]
  },
  {
   "cell_type": "code",
   "execution_count": null,
   "id": "209eb8d9",
   "metadata": {},
   "outputs": [
    {
     "data": {
      "text/plain": [
       "True"
      ]
     },
     "execution_count": null,
     "metadata": {},
     "output_type": "execute_result"
    }
   ],
   "source": [
    "pybind_cpa.crossesBowOrStern(30, 5)"
   ]
  },
  {
   "cell_type": "code",
   "execution_count": null,
   "id": "3b639952",
   "metadata": {},
   "outputs": [
    {
     "name": "stdout",
     "output_type": "stream",
     "text": [
      "crossesBowOrStern(self: pyivp.CPAEngine, arg0: float, arg1: float) -> bool\n",
      "\n",
      "crossesBowOrStern(arg0, arg1): \n",
      "Args: \n",
      "  arg0 <float>: osCRS, Given Ownship Coordinate Reference System (degrees: 0-359) \n",
      "  arg1 <float>: osSPD, Given Ownship Speed (Unit: knots per hour) \n",
      "return: Determine if for the given ownship course and speed whether it is on a path to cross the path of the contact on its stern or bow\n",
      "\n"
     ]
    }
   ],
   "source": [
    "print(pybind_cpa.crossesBowOrStern.__doc__)"
   ]
  },
  {
   "cell_type": "markdown",
   "id": "69775de3",
   "metadata": {},
   "source": [
    "### CPAEngine - passesPort\n",
    "passesPort(arg0, arg1): \n",
    "* arg0&lt;float&gt;: osh, Given Ownship Course (degrees: 0-359)\n",
    "* arg1&lt;float&gt;: osv, Given Ownship Speed (Unit: knots per hour)\n",
    "* return:  Determine if for the given ownship course and speed whether it will pass the contact on the contact's port side. A \"pass\" means it will cross the contact's beam, the line perpendicular to the contact's bow-stern line."
   ]
  },
  {
   "cell_type": "code",
   "execution_count": null,
   "id": "b0109ad3",
   "metadata": {},
   "outputs": [
    {
     "data": {
      "text/plain": [
       "True"
      ]
     },
     "execution_count": null,
     "metadata": {},
     "output_type": "execute_result"
    }
   ],
   "source": [
    "pybind_cpa.passesPort(30, 5)"
   ]
  },
  {
   "cell_type": "code",
   "execution_count": null,
   "id": "609831f7",
   "metadata": {},
   "outputs": [
    {
     "name": "stdout",
     "output_type": "stream",
     "text": [
      "passesPort(self: pyivp.CPAEngine, arg0: float, arg1: float) -> bool\n",
      "\n",
      "passesPort(arg0, arg1): \n",
      "Args: \n",
      "  arg0 <float>: osh, Given Ownship Course (degrees: 0-359) \n",
      "  arg1 <float>: osv, Given Ownship Speed (Unit: knots per hour) \n",
      "return: Determine if for the given ownship course and speed whether it will pass the contact on the contact's port side. A pass means it will cross the contact's beam, the line perpendicular to the contact's bow-stern line\n",
      "\n"
     ]
    }
   ],
   "source": [
    "print(pybind_cpa.passesPort.__doc__)"
   ]
  },
  {
   "cell_type": "markdown",
   "id": "57c77277",
   "metadata": {},
   "source": [
    "### CPAEngine - passesPortDist\n",
    "passesPortDist(arg0, arg1): \n",
    "* arg0&lt;float&gt;: osh, Given Ownship Course (degrees: 0-359)\n",
    "* arg1&lt;float&gt;: osv, Given Ownship Speed (Unit: knots per hour)\n",
    "* return:  Determine if for the given ownship course and speed whether it is on a path to cross the path of the contact on its port. And if so, at what distance when it crosses?"
   ]
  },
  {
   "cell_type": "code",
   "execution_count": null,
   "id": "2ae78f79",
   "metadata": {},
   "outputs": [
    {
     "data": {
      "text/plain": [
       "0.2384892285221384"
      ]
     },
     "execution_count": null,
     "metadata": {},
     "output_type": "execute_result"
    }
   ],
   "source": [
    "pybind_cpa.passesPortDist(30, 5)"
   ]
  },
  {
   "cell_type": "code",
   "execution_count": null,
   "id": "9c39d57b",
   "metadata": {},
   "outputs": [
    {
     "name": "stdout",
     "output_type": "stream",
     "text": [
      "passesPortDist(self: pyivp.CPAEngine, arg0: float, arg1: float) -> float\n",
      "\n",
      "passesPortDist(arg0, arg1): \n",
      "Args: \n",
      "  arg0 <float>: osh, Given Ownship Course (degrees: 0-359) \n",
      "  arg1 <float>: osv, Given Ownship Speed (Unit: knots per hour) \n",
      "return: Determine if for the given ownship course and speed whether it is on a path to cross the path of the contact on its port. And if so, at what distance when it crosses?\n",
      "\n"
     ]
    }
   ],
   "source": [
    "print(pybind_cpa.passesPortDist.__doc__)"
   ]
  },
  {
   "cell_type": "markdown",
   "id": "176f4b89",
   "metadata": {},
   "source": [
    "### CPAEngine - passesStar\n",
    "passesStar(arg0, arg1): \n",
    "* arg0&lt;float&gt;: osh, Given Ownship Course (degrees: 0-359)\n",
    "* arg1&lt;float&gt;: osv, Given Ownship Speed (Unit: knots per hour)\n",
    "* return:  Determine if for the given ownship course and speed whether it will pass the contact on the contact's star side. A \"pass\" means it will cross the contact's beam, the line perpendicular to the contact's bow-stern line."
   ]
  },
  {
   "cell_type": "code",
   "execution_count": null,
   "id": "35287c77",
   "metadata": {},
   "outputs": [
    {
     "data": {
      "text/plain": [
       "True"
      ]
     },
     "execution_count": null,
     "metadata": {},
     "output_type": "execute_result"
    }
   ],
   "source": [
    "pybind_cpa.passesStar(270, 5)"
   ]
  },
  {
   "cell_type": "code",
   "execution_count": null,
   "id": "0c47ded7",
   "metadata": {},
   "outputs": [
    {
     "name": "stdout",
     "output_type": "stream",
     "text": [
      "passesStar(self: pyivp.CPAEngine, arg0: float, arg1: float) -> bool\n",
      "\n",
      "passesStar(arg0, arg1): \n",
      "Args: \n",
      "  arg0 <float>: osh, Given Ownship Course (degrees: 0-359) \n",
      "  arg1 <float>: osv, Given Ownship Speed (Unit: knots per hour) \n",
      "return: Determine if for the given ownship course and speed whether it will pass the contact on the contact's star side. A pass means it will cross the contact's beam, the line perpendicular to the contact's bow-stern line\n",
      "\n"
     ]
    }
   ],
   "source": [
    "print(pybind_cpa.passesStar.__doc__)"
   ]
  },
  {
   "cell_type": "markdown",
   "id": "f8e60b3c",
   "metadata": {},
   "source": [
    "### CPAEngine - passesStarDist\n",
    "passesStarDist(arg0, arg1): \n",
    "* arg0&lt;float&gt;: osh, Given Ownship Course (degrees: 0-359)\n",
    "* arg1&lt;float&gt;: osv, Given Ownship Speed (Unit: knots per hour)\n",
    "* return:  Determine if for the given ownship course and speed whether it is on a path to cross the path of the contact on its star. And if so, at what distance when it crosses?"
   ]
  },
  {
   "cell_type": "code",
   "execution_count": null,
   "id": "d9c95a98",
   "metadata": {},
   "outputs": [
    {
     "data": {
      "text/plain": [
       "0.09443804898671398"
      ]
     },
     "execution_count": null,
     "metadata": {},
     "output_type": "execute_result"
    }
   ],
   "source": [
    "pybind_cpa.passesStarDist(270, 5)"
   ]
  },
  {
   "cell_type": "code",
   "execution_count": null,
   "id": "2d15972d",
   "metadata": {},
   "outputs": [
    {
     "name": "stdout",
     "output_type": "stream",
     "text": [
      "passesStarDist(self: pyivp.CPAEngine, arg0: float, arg1: float) -> float\n",
      "\n",
      "passesStarDist(arg0, arg1): \n",
      "Args: \n",
      "  arg0 <float>: osh, Given Ownship Course (degrees: 0-359) \n",
      "  arg1 <float>: osv, Given Ownship Speed (Unit: knots per hour) \n",
      "return: Determine if for the given ownship course and speed whether it is on a path to cross the path of the contact on its star. And if so, at what distance when it crosses?\n",
      "\n"
     ]
    }
   ],
   "source": [
    "print(pybind_cpa.passesStarDist.__doc__)"
   ]
  },
  {
   "cell_type": "markdown",
   "id": "bb2f9e10",
   "metadata": {},
   "source": [
    "### CPAEngine - passesPortOrStar\n",
    "passesPortOrStar(arg0, arg1): \n",
    "* arg0&lt;float&gt;: osCRS, Given Ownship Coordinate Reference System  (degrees: 0-359)\n",
    "* arg1&lt;float&gt;: osSPD, Given Ownship Speed (Unit: knots per hour)\n",
    "* return:  Determine if for the given ownship course and speed whether it will pass the contact."
   ]
  },
  {
   "cell_type": "code",
   "execution_count": null,
   "id": "c15b85ad",
   "metadata": {},
   "outputs": [
    {
     "data": {
      "text/plain": [
       "True"
      ]
     },
     "execution_count": null,
     "metadata": {},
     "output_type": "execute_result"
    }
   ],
   "source": [
    "pybind_cpa.passesPortOrStar(270, 5)"
   ]
  },
  {
   "cell_type": "code",
   "execution_count": null,
   "id": "62b9c1ee",
   "metadata": {},
   "outputs": [
    {
     "name": "stdout",
     "output_type": "stream",
     "text": [
      "passesPortOrStar(self: pyivp.CPAEngine, arg0: float, arg1: float) -> bool\n",
      "\n",
      "passesPortOrStar(arg0, arg1): \n",
      "Args: \n",
      "  arg0 <float>: osCRS, Given Ownship Coordinate Reference System  (degrees: 0-359) \n",
      "  arg1 <float>: osSPD, Given Ownship Speed (Unit: knots per hour) \n",
      "return: Determine if for the given ownship course and speed whether it will pass the contact\n",
      "\n"
     ]
    }
   ],
   "source": [
    "print(pybind_cpa.passesPortOrStar.__doc__)"
   ]
  },
  {
   "cell_type": "markdown",
   "id": "5c03a9a9",
   "metadata": {},
   "source": [
    "### CPAEngine - turnsRight\n",
    "turnsRight(arg0, arg1): \n",
    "* arg0&lt;float&gt;: present_heading, Given Ownship present heading (degrees: 0-359)\n",
    "* arg1&lt;float&gt;: heading, Given Ownship desired heading (degrees: 0-359)\n",
    "* return:  Determine if present ownship heading, whether or not the proposed heading represent a righthand turn (starboard)."
   ]
  },
  {
   "cell_type": "code",
   "execution_count": null,
   "id": "92ac25f0",
   "metadata": {},
   "outputs": [
    {
     "data": {
      "text/plain": [
       "True"
      ]
     },
     "execution_count": null,
     "metadata": {},
     "output_type": "execute_result"
    }
   ],
   "source": [
    "pybind_cpa.turnsRight(45, 90)"
   ]
  },
  {
   "cell_type": "code",
   "execution_count": null,
   "id": "fe1aa480",
   "metadata": {},
   "outputs": [
    {
     "name": "stdout",
     "output_type": "stream",
     "text": [
      "turnsRight(self: pyivp.CPAEngine, arg0: float, arg1: float) -> bool\n",
      "\n",
      "turnsRight(arg0, arg1): \n",
      "Args: \n",
      "  arg0 <float>: present_heading, Given Ownship present heading (degrees: 0-359) \n",
      "  arg1 <float>: heading, Given Ownship desired heading (degrees: 0-359) \n",
      "Determine if present ownship heading, whether or not the proposed heading represent a righthand turn (starboard)\n",
      "\n"
     ]
    }
   ],
   "source": [
    "print(pybind_cpa.turnsRight.__doc__)"
   ]
  },
  {
   "cell_type": "markdown",
   "id": "e7898942",
   "metadata": {},
   "source": [
    "### CPAEngine - turnsLeft\n",
    "turnsLeft(arg0, arg1): \n",
    "* arg0&lt;float&gt;: present_heading, Given Ownship present heading (degrees: 0-359)\n",
    "* arg1&lt;float&gt;: heading, Given Ownship desired heading (degrees: 0-359)\n",
    "* return:  Determine if present ownship heading, whether or not the proposed heading represent a lefthand turn (port)."
   ]
  },
  {
   "cell_type": "code",
   "execution_count": null,
   "id": "fb61236b",
   "metadata": {},
   "outputs": [
    {
     "data": {
      "text/plain": [
       "True"
      ]
     },
     "execution_count": null,
     "metadata": {},
     "output_type": "execute_result"
    }
   ],
   "source": [
    "pybind_cpa.turnsLeft(90, 45)"
   ]
  },
  {
   "cell_type": "code",
   "execution_count": null,
   "id": "3b87b745",
   "metadata": {},
   "outputs": [
    {
     "name": "stdout",
     "output_type": "stream",
     "text": [
      "turnsLeft(self: pyivp.CPAEngine, arg0: float, arg1: float) -> bool\n",
      "\n",
      "turnsLeft(arg0, arg1): \n",
      "Args: \n",
      "  arg0 <float>: present_heading, Given Ownship present heading (degrees: 0-359) \n",
      "  arg1 <float>: heading, Given Ownship desired heading (degrees: 0-359) \n",
      "Determine if present ownship heading, whether or not the proposed heading represent a lefthand turn (port)\n",
      "\n"
     ]
    }
   ],
   "source": [
    "print(pybind_cpa.turnsLeft.__doc__)"
   ]
  },
  {
   "cell_type": "markdown",
   "id": "b115bb93",
   "metadata": {},
   "source": [
    "### CPAEngine - bearingRate\n",
    "bearingRate(arg0, arg1): \n",
    "* arg0&lt;float&gt;: osh, Given Ownship Course (degrees: 0-359)\n",
    "* arg1&lt;float&gt;: osv, Given Ownship Speed (Unit: knots per hour)\n",
    "* return:  Calculate the bearing rate from the speed at tangent, where range is the current range between vehicles."
   ]
  },
  {
   "cell_type": "code",
   "execution_count": null,
   "id": "5be8a10b",
   "metadata": {},
   "outputs": [
    {
     "data": {
      "text/plain": [
       "150.67244548620943"
      ]
     },
     "execution_count": null,
     "metadata": {},
     "output_type": "execute_result"
    }
   ],
   "source": [
    "pybind_cpa.bearingRate(50, 4)"
   ]
  },
  {
   "cell_type": "code",
   "execution_count": null,
   "id": "86507b5f",
   "metadata": {},
   "outputs": [
    {
     "name": "stdout",
     "output_type": "stream",
     "text": [
      "bearingRate(self: pyivp.CPAEngine, arg0: float, arg1: float) -> float\n",
      "\n",
      "bearingRate(arg0, arg1): \n",
      "Args: \n",
      "  arg0 <float>: osh, Given Ownship Course (degrees: 0-359) \n",
      "  arg1 <float>: osv, Given Ownship Speed (Unit: knots per hour) \n",
      "return: Calculate the bearing rate from the speed at tangent, where range is the current range between vehicles\n",
      "\n"
     ]
    }
   ],
   "source": [
    "print(pybind_cpa.bearingRate.__doc__)"
   ]
  },
  {
   "cell_type": "markdown",
   "id": "87056a23",
   "metadata": {},
   "source": [
    "function: bearingRateOld(osh, osv) has same ability"
   ]
  },
  {
   "cell_type": "code",
   "execution_count": null,
   "id": "1fd64f0a",
   "metadata": {},
   "outputs": [
    {
     "data": {
      "text/plain": [
       "150.67244548626076"
      ]
     },
     "execution_count": null,
     "metadata": {},
     "output_type": "execute_result"
    }
   ],
   "source": [
    "pybind_cpa.bearingRateOld(50, 4)"
   ]
  },
  {
   "cell_type": "code",
   "execution_count": null,
   "id": "a8c78f3f",
   "metadata": {},
   "outputs": [
    {
     "name": "stdout",
     "output_type": "stream",
     "text": [
      "bearingRateOld(self: pyivp.CPAEngine, arg0: float, arg1: float) -> float\n",
      "\n",
      "bearingRateOld(arg0, arg1): \n",
      "Args: \n",
      "  arg0 <float>: osh, Given Ownship Course (degrees: 0-359) \n",
      "  arg1 <float>: osv, Given Ownship Speed (Unit: knots per hour) \n",
      "return: Calculate the bearing rate from the speed at tangent, where range is the current range between vehicles\n",
      "\n"
     ]
    }
   ],
   "source": [
    "print(pybind_cpa.bearingRateOld.__doc__)"
   ]
  },
  {
   "cell_type": "markdown",
   "id": "bdd65c29",
   "metadata": {},
   "source": [
    "### CPAEngine - ownshipContactRelBearing\n",
    "ownshipContactRelBearing(arg0): \n",
    "* arg0&lt;float&gt;: osh, Given Ownship Course (degrees: 0-359)\n",
    "* return:  Calculate the contact angle related to bearing."
   ]
  },
  {
   "cell_type": "code",
   "execution_count": null,
   "id": "0c554d8f",
   "metadata": {},
   "outputs": [
    {
     "data": {
      "text/plain": [
       "221.25383773744448"
      ]
     },
     "execution_count": null,
     "metadata": {},
     "output_type": "execute_result"
    }
   ],
   "source": [
    "pybind_cpa.ownshipContactRelBearing(40)"
   ]
  },
  {
   "cell_type": "code",
   "execution_count": null,
   "id": "0fe35222",
   "metadata": {},
   "outputs": [
    {
     "name": "stdout",
     "output_type": "stream",
     "text": [
      "ownshipContactRelBearing(self: pyivp.CPAEngine, arg0: float) -> float\n",
      "\n",
      "ownshipContactRelBearing(arg0): \n",
      "Args: \n",
      "  arg0 <float>: osh, Given Ownship Course (degrees: 0-359) \n",
      "return: Calculate the contact angle related to bearing\n",
      "\n"
     ]
    }
   ],
   "source": [
    "print(pybind_cpa.ownshipContactRelBearing.__doc__)"
   ]
  },
  {
   "cell_type": "markdown",
   "id": "dff3cc9b",
   "metadata": {},
   "source": [
    "### CPAEngine - getOSSpeedInCNHeading\n",
    "getOSSpeedInCNHeading(arg0, arg1): \n",
    "* arg0&lt;float&gt;: osh, Given Ownship Course (degrees: 0-359)\n",
    "* arg1&lt;float&gt;: osv, Given Ownship Speed (Unit: knots per hour)\n",
    "* return:  Calculate Ownship's speed from contact heading."
   ]
  },
  {
   "cell_type": "code",
   "execution_count": null,
   "id": "09b89562",
   "metadata": {},
   "outputs": [
    {
     "data": {
      "text/plain": [
       "4.92403876506103"
      ]
     },
     "execution_count": null,
     "metadata": {},
     "output_type": "execute_result"
    }
   ],
   "source": [
    "pybind_cpa.getOSSpeedInCNHeading(40, 5)"
   ]
  },
  {
   "cell_type": "code",
   "execution_count": null,
   "id": "41af1e5d",
   "metadata": {},
   "outputs": [
    {
     "name": "stdout",
     "output_type": "stream",
     "text": [
      "getOSSpeedInCNHeading(self: pyivp.CPAEngine, arg0: float, arg1: float) -> float\n",
      "\n",
      "getOSSpeedInCNHeading(arg0, arg1): \n",
      "Args: \n",
      "  arg0 <float>: osh, Given Ownship Course (degrees: 0-359) \n",
      "  arg1 <float>: osv, Given Ownship Speed (Unit: knots per hour) \n",
      "return: Calculate Ownship's speed from contact heading\n",
      "\n"
     ]
    }
   ],
   "source": [
    "print(pybind_cpa.getOSSpeedInCNHeading.__doc__)"
   ]
  },
  {
   "cell_type": "markdown",
   "id": "7b24165e",
   "metadata": {},
   "source": [
    "### CPAEngine - getOSSpeedGamma\n",
    "getOSSpeedGamma(arg0, arg1): \n",
    "* arg0&lt;float&gt;: osh, Given Ownship Course (degrees: 0-359)\n",
    "* arg1&lt;float&gt;: osv, Given Ownship Speed (Unit: knots per hour)\n",
    "* return:  Calculate Ownship's speed in direction perpendicular to contact."
   ]
  },
  {
   "cell_type": "code",
   "execution_count": null,
   "id": "f51e4fe2",
   "metadata": {},
   "outputs": [
    {
     "data": {
      "text/plain": [
       "0.8682408883341995"
      ]
     },
     "execution_count": null,
     "metadata": {},
     "output_type": "execute_result"
    }
   ],
   "source": [
    "pybind_cpa.getOSSpeedGamma(40, 5)"
   ]
  },
  {
   "cell_type": "code",
   "execution_count": null,
   "id": "9e98aa1f",
   "metadata": {},
   "outputs": [
    {
     "name": "stdout",
     "output_type": "stream",
     "text": [
      "getOSSpeedGamma(self: pyivp.CPAEngine, arg0: float, arg1: float) -> float\n",
      "\n",
      "getOSSpeedGamma(arg0, arg1): \n",
      "Args: \n",
      "  arg0 <float>: osh, Given Ownship Course (degrees: 0-359) \n",
      "  arg1 <float>: osv, Given Ownship Speed (Unit: knots per hour) \n",
      "return: Calculate Ownship's speed in direction perpendicular to contact\n",
      "\n"
     ]
    }
   ],
   "source": [
    "print(pybind_cpa.getOSSpeedGamma.__doc__)"
   ]
  },
  {
   "cell_type": "markdown",
   "id": "22226df3",
   "metadata": {},
   "source": [
    "### CPAEngine - getOSSpeedEpsilon\n",
    "getOSSpeedEpsilon(arg0, arg1): \n",
    "* arg0&lt;float&gt;: osh, Given Ownship Course (degrees: 0-359)\n",
    "* arg1&lt;float&gt;: osv, Given Ownship Speed (Unit: knots per hour)\n",
    "* return:  Calculate Ownship's speed in direction of the contact beam."
   ]
  },
  {
   "cell_type": "code",
   "execution_count": null,
   "id": "e58dd36f",
   "metadata": {},
   "outputs": [
    {
     "data": {
      "text/plain": [
       "1.07596123493897"
      ]
     },
     "execution_count": null,
     "metadata": {},
     "output_type": "execute_result"
    }
   ],
   "source": [
    "pybind_cpa.getOSSpeedEpsilon(40, 5)"
   ]
  },
  {
   "cell_type": "code",
   "execution_count": null,
   "id": "6851c9cc",
   "metadata": {},
   "outputs": [
    {
     "name": "stdout",
     "output_type": "stream",
     "text": [
      "getOSSpeedEpsilon(self: pyivp.CPAEngine, arg0: float, arg1: float) -> float\n",
      "\n",
      "getOSSpeedEpsilon(arg0, arg1): \n",
      "Args: \n",
      "  arg0 <float>: osh, Given Ownship Course (degrees: 0-359) \n",
      "  arg1 <float>: osv, Given Ownship Speed (Unit: knots per hour) \n",
      "return: Calculate Ownship's speed in direction of the contact beam\n",
      "\n"
     ]
    }
   ],
   "source": [
    "print(pybind_cpa.getOSSpeedEpsilon.__doc__)"
   ]
  },
  {
   "cell_type": "markdown",
   "id": "6499cf00",
   "metadata": {},
   "source": [
    "### CPAEngine - getOSTimeGamma\n",
    "getOSTimeGamma(arg0, arg1): \n",
    "* arg0&lt;float&gt;: osh, Given Ownship Course (degrees: 0-359)\n",
    "* arg1&lt;float&gt;: osv, Given Ownship Speed (Unit: knots per hour)\n",
    "* return:  Calculate Ownship's time gamma."
   ]
  },
  {
   "cell_type": "code",
   "execution_count": null,
   "id": "e404260c",
   "metadata": {},
   "outputs": [
    {
     "data": {
      "text/plain": [
       "0.23579228292744728"
      ]
     },
     "execution_count": null,
     "metadata": {},
     "output_type": "execute_result"
    }
   ],
   "source": [
    "pybind_cpa.getOSTimeGamma(40, 5)"
   ]
  },
  {
   "cell_type": "code",
   "execution_count": null,
   "id": "dc1a0f6c",
   "metadata": {},
   "outputs": [
    {
     "name": "stdout",
     "output_type": "stream",
     "text": [
      "getOSTimeGamma(self: pyivp.CPAEngine, arg0: float, arg1: float) -> float\n",
      "\n",
      "getOSTimeGamma(arg0, arg1): \n",
      "Args: \n",
      "  arg0 <float>: osh, Given Ownship Course (degrees: 0-359) \n",
      "  arg1 <float>: osv, Given Ownship Speed (Unit: knots per hour) \n",
      "return: Calculate Ownship's time gamma.\n",
      "\n"
     ]
    }
   ],
   "source": [
    "print(pybind_cpa.getOSTimeGamma.__doc__)"
   ]
  },
  {
   "cell_type": "markdown",
   "id": "e876e8c9",
   "metadata": {},
   "source": [
    "### CPAEngine - getOSTimeEpsilon\n",
    "getOSTimeEpsilon(arg0, arg1): \n",
    "* arg0&lt;float&gt;: osh, Given Ownship Course (degrees: 0-359)\n",
    "* arg1&lt;float&gt;: osv, Given Ownship Speed (Unit: knots per hour)\n",
    "* return:  Calculate Ownship's time epsilon."
   ]
  },
  {
   "cell_type": "code",
   "execution_count": null,
   "id": "70fd7410",
   "metadata": {},
   "outputs": [
    {
     "data": {
      "text/plain": [
       "0.313509983859109"
      ]
     },
     "execution_count": null,
     "metadata": {},
     "output_type": "execute_result"
    }
   ],
   "source": [
    "pybind_cpa.getOSTimeEpsilon(40, 5)"
   ]
  },
  {
   "cell_type": "code",
   "execution_count": null,
   "id": "c0809d78",
   "metadata": {},
   "outputs": [
    {
     "name": "stdout",
     "output_type": "stream",
     "text": [
      "getOSTimeEpsilon(self: pyivp.CPAEngine, arg0: float, arg1: float) -> float\n",
      "\n",
      "getOSTimeEpsilon(arg0, arg1): \n",
      "Args: \n",
      "  arg0 <float>: osh, Given Ownship Course (degrees: 0-359) \n",
      "  arg1 <float>: osv, Given Ownship Speed (Unit: knots per hour) \n",
      "return: Calculate Ownship's time epsilon\n",
      "\n"
     ]
    }
   ],
   "source": [
    "print(pybind_cpa.getOSTimeEpsilon.__doc__)"
   ]
  },
  {
   "cell_type": "markdown",
   "id": "ca9aa105",
   "metadata": {},
   "source": [
    "### CPAEngine - getARange\n",
    "getARange(arg0, arg1, arg2): \n",
    "* arg0&lt;float&gt;: osh, Given Ownship Course (degrees: 0-359)\n",
    "* arg1&lt;float&gt;: osv, Given Ownship Speed (Unit: knots per hour)\n",
    "* arg2&lt;float&gt;: time, Given Ownship Speed (Unit: knots per hour)\n",
    "* return:  Calculate the range at a particular time in the future, not necessarily the time at min CPA."
   ]
  },
  {
   "cell_type": "code",
   "execution_count": null,
   "id": "570665d2",
   "metadata": {},
   "outputs": [
    {
     "data": {
      "text/plain": [
       "77.19775524316742"
      ]
     },
     "execution_count": null,
     "metadata": {},
     "output_type": "execute_result"
    }
   ],
   "source": [
    "pybind_cpa.getARange(10, 5, 20)"
   ]
  },
  {
   "cell_type": "code",
   "execution_count": null,
   "id": "7fe7dca9",
   "metadata": {},
   "outputs": [
    {
     "name": "stdout",
     "output_type": "stream",
     "text": [
      "getARange(self: pyivp.CPAEngine, arg0: float, arg1: float, arg2: float) -> float\n",
      "\n",
      "getARange(arg0, arg1, arg2): \n",
      "Args: \n",
      "  arg0 <float>: osh, Given Ownship Course (degrees: 0-359) \n",
      "  arg1 <float>: osv, Given Ownship Speed (Unit: knots per hour) \n",
      "  arg2 <float>: time, Given Ownship Speed (Unit: knots per hour) \n",
      "return: Calculate the range at a particular time in the future, not necessarily the time at min CPA\n",
      "\n"
     ]
    }
   ],
   "source": [
    "print(pybind_cpa.getARange.__doc__)"
   ]
  },
  {
   "cell_type": "markdown",
   "id": "27d7c867",
   "metadata": {},
   "source": [
    "### CPAEngine - getARangeRate\n",
    "getARangeRate(arg0, arg1, arg2): \n",
    "* arg0&lt;float&gt;: osh, Given Ownship Course (degrees: 0-359)\n",
    "* arg1&lt;float&gt;: osv, Given Ownship Speed (Unit: knots per hour)\n",
    "* arg2&lt;float&gt;: time, Given Ownship Speed (Unit: knots per hour)\n",
    "* return:  Calculate the range rate at a particular time in the future, not necessarily the time at min CPA."
   ]
  },
  {
   "cell_type": "code",
   "execution_count": null,
   "id": "21b1db1b",
   "metadata": {},
   "outputs": [
    {
     "data": {
      "text/plain": [
       "598.713553986461"
      ]
     },
     "execution_count": null,
     "metadata": {},
     "output_type": "execute_result"
    }
   ],
   "source": [
    "pybind_cpa.getARangeRate(10, 5, 20)"
   ]
  },
  {
   "cell_type": "code",
   "execution_count": null,
   "id": "018388b8",
   "metadata": {},
   "outputs": [
    {
     "name": "stdout",
     "output_type": "stream",
     "text": [
      "getARangeRate(self: pyivp.CPAEngine, arg0: float, arg1: float, arg2: float) -> float\n",
      "\n",
      "getARangeRate(arg0, arg1, arg2): \n",
      "Args: \n",
      "  arg0 <float>: osh, Given Ownship Course (degrees: 0-359) \n",
      "  arg1 <float>: osv, Given Ownship Speed (Unit: knots per hour) \n",
      "  arg2 <float>: time, Given Ownship Speed (Unit: knots per hour) \n",
      "return: Calculate the range rate at a particular time in the future, not necessarily the time at min CPA\n",
      "\n"
     ]
    }
   ],
   "source": [
    "print(pybind_cpa.getARangeRate.__doc__)"
   ]
  }
 ],
 "metadata": {
  "kernelspec": {
   "display_name": "Python 3 (ipykernel)",
   "language": "python",
   "name": "python3"
  },
  "language_info": {
   "codemirror_mode": {
    "name": "ipython",
    "version": 3
   },
   "file_extension": ".py",
   "mimetype": "text/x-python",
   "name": "python",
   "nbconvert_exporter": "python",
   "pygments_lexer": "ipython3",
   "version": "3.9.13"
  }
 },
 "nbformat": 4,
 "nbformat_minor": 5
}
