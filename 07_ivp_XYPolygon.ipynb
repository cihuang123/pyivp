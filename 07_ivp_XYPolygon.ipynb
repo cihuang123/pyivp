{
 "cells": [
  {
   "cell_type": "markdown",
   "metadata": {},
   "source": [
    "# pyivp.XYPolygon\n",
    "\n",
    "> API details."
   ]
  },
  {
   "cell_type": "code",
   "execution_count": null,
   "metadata": {},
   "outputs": [],
   "source": [
    "#hide\n",
    "from nbdev.showdoc import *"
   ]
  },
  {
   "cell_type": "markdown",
   "metadata": {},
   "source": [
    "### Compile and Install lib_pyivp (partially)"
   ]
  },
  {
   "cell_type": "code",
   "execution_count": null,
   "metadata": {},
   "outputs": [
    {
     "name": "stdout",
     "output_type": "stream",
     "text": [
      "make -C src\n",
      "make[1]: Entering directory '/home/arg/pyivp/src'\n",
      "mkdir build; cd build; cmake ..; make\n",
      "mkdir: cannot create directory ‘build’: File exists\n",
      "-------------------------------------------------------Use UTM:ON\n",
      "+++++++++++++++++++++++++++++++++++++++++\n",
      "IVP_GUI_CODE will be built......         \n",
      "+++++++++++++++++++++++++++++++++++++++++\n",
      "USING UTM\n",
      "+++++++++++++++++++++++++++++++++++++++++\n",
      "IVP_LIB_DIRECTORY:/usr/local/lib/\n",
      "+++++++++++++++++++++++++++++++++++++++++\n",
      "Bin directory: /home/arg/bin\n",
      "Include directory: /usr/local/include\n",
      "Lib directory: /usr/local/lib/\n",
      "-- Configuring done\n",
      "-- Generating done\n",
      "-- Build files have been written to: /home/arg/pyivp/src/build\n",
      "make[2]: Entering directory '/home/arg/pyivp/src/build'\n",
      "make[3]: Entering directory '/home/arg/pyivp/src/build'\n",
      "make[4]: Entering directory '/home/arg/pyivp/src/build'\n",
      "make[4]: Leaving directory '/home/arg/pyivp/src/build'\n",
      "[ 23%] Built target mbutil\n",
      "make[4]: Entering directory '/home/arg/pyivp/src/build'\n",
      "make[4]: Leaving directory '/home/arg/pyivp/src/build'\n",
      "[100%] Built target geometry\n",
      "make[3]: Leaving directory '/home/arg/pyivp/src/build'\n",
      "make[2]: Leaving directory '/home/arg/pyivp/src/build'\n",
      "make[1]: Leaving directory '/home/arg/pyivp/src'\n",
      "make -C src_unit_tests \n",
      "make[1]: Entering directory '/home/arg/pyivp/src_unit_tests'\n",
      "mkdir build; cd build; cmake ..; make; \n",
      "mkdir: cannot create directory ‘build’: File exists\n",
      " Apps to be built: utest;testConvexHull;testLeftTurn;testIncIntString;testLineCircleIntPts;testSegCircleIntPts;testArcSegCross;testArcSegCrossPts;testDistPointOnArc;testDistPointToArc;testDistPointToArcPt;testDistPtsOnArc;testDistSegToArc;testAngleDiff;testAngleInArc;testSegRayCPA;testPolyRayCPA;testBearingMinMaxToPoly;testDistPointToRay;testCpasRaySegl;testCpasArcSegl\n",
      "-- Configuring done\n",
      "-- Generating done\n",
      "-- Build files have been written to: /home/arg/pyivp/src_unit_tests/build\n",
      "make[2]: Entering directory '/home/arg/pyivp/src_unit_tests/build'\n",
      "make[3]: Entering directory '/home/arg/pyivp/src_unit_tests/build'\n",
      "make[4]: Entering directory '/home/arg/pyivp/src_unit_tests/build'\n",
      "make[4]: Leaving directory '/home/arg/pyivp/src_unit_tests/build'\n",
      "[  6%] Built target utest\n",
      "make[4]: Entering directory '/home/arg/pyivp/src_unit_tests/build'\n",
      "make[4]: Leaving directory '/home/arg/pyivp/src_unit_tests/build'\n",
      "[ 11%] Built target testConvexHull\n",
      "make[4]: Entering directory '/home/arg/pyivp/src_unit_tests/build'\n",
      "make[4]: Leaving directory '/home/arg/pyivp/src_unit_tests/build'\n",
      "[ 16%] Built target testLeftTurn\n",
      "make[4]: Entering directory '/home/arg/pyivp/src_unit_tests/build'\n",
      "make[4]: Leaving directory '/home/arg/pyivp/src_unit_tests/build'\n",
      "[ 20%] Built target testIncIntString\n",
      "make[4]: Entering directory '/home/arg/pyivp/src_unit_tests/build'\n",
      "make[4]: Leaving directory '/home/arg/pyivp/src_unit_tests/build'\n",
      "[ 25%] Built target testLineCircleIntPts\n",
      "make[4]: Entering directory '/home/arg/pyivp/src_unit_tests/build'\n",
      "make[4]: Leaving directory '/home/arg/pyivp/src_unit_tests/build'\n",
      "[ 30%] Built target testSegCircleIntPts\n",
      "make[4]: Entering directory '/home/arg/pyivp/src_unit_tests/build'\n",
      "make[4]: Leaving directory '/home/arg/pyivp/src_unit_tests/build'\n",
      "[ 34%] Built target testArcSegCross\n",
      "make[4]: Entering directory '/home/arg/pyivp/src_unit_tests/build'\n",
      "make[4]: Leaving directory '/home/arg/pyivp/src_unit_tests/build'\n",
      "[ 39%] Built target testArcSegCrossPts\n",
      "make[4]: Entering directory '/home/arg/pyivp/src_unit_tests/build'\n",
      "make[4]: Leaving directory '/home/arg/pyivp/src_unit_tests/build'\n",
      "[ 44%] Built target testDistPointOnArc\n",
      "make[4]: Entering directory '/home/arg/pyivp/src_unit_tests/build'\n",
      "make[4]: Leaving directory '/home/arg/pyivp/src_unit_tests/build'\n",
      "[ 48%] Built target testDistPointToArc\n",
      "make[4]: Entering directory '/home/arg/pyivp/src_unit_tests/build'\n",
      "make[4]: Leaving directory '/home/arg/pyivp/src_unit_tests/build'\n",
      "[ 53%] Built target testDistPointToArcPt\n",
      "make[4]: Entering directory '/home/arg/pyivp/src_unit_tests/build'\n",
      "make[4]: Leaving directory '/home/arg/pyivp/src_unit_tests/build'\n",
      "[ 58%] Built target testDistPtsOnArc\n",
      "make[4]: Entering directory '/home/arg/pyivp/src_unit_tests/build'\n",
      "make[4]: Leaving directory '/home/arg/pyivp/src_unit_tests/build'\n",
      "[ 62%] Built target testDistSegToArc\n",
      "make[4]: Entering directory '/home/arg/pyivp/src_unit_tests/build'\n",
      "make[4]: Leaving directory '/home/arg/pyivp/src_unit_tests/build'\n",
      "[ 67%] Built target testAngleDiff\n",
      "make[4]: Entering directory '/home/arg/pyivp/src_unit_tests/build'\n",
      "make[4]: Leaving directory '/home/arg/pyivp/src_unit_tests/build'\n",
      "[ 72%] Built target testAngleInArc\n",
      "make[4]: Entering directory '/home/arg/pyivp/src_unit_tests/build'\n",
      "make[4]: Leaving directory '/home/arg/pyivp/src_unit_tests/build'\n",
      "[ 76%] Built target testSegRayCPA\n",
      "make[4]: Entering directory '/home/arg/pyivp/src_unit_tests/build'\n",
      "make[4]: Leaving directory '/home/arg/pyivp/src_unit_tests/build'\n",
      "[ 81%] Built target testPolyRayCPA\n",
      "make[4]: Entering directory '/home/arg/pyivp/src_unit_tests/build'\n",
      "make[4]: Leaving directory '/home/arg/pyivp/src_unit_tests/build'\n",
      "[ 86%] Built target testBearingMinMaxToPoly\n",
      "make[4]: Entering directory '/home/arg/pyivp/src_unit_tests/build'\n",
      "make[4]: Leaving directory '/home/arg/pyivp/src_unit_tests/build'\n",
      "[ 90%] Built target testDistPointToRay\n",
      "make[4]: Entering directory '/home/arg/pyivp/src_unit_tests/build'\n",
      "make[4]: Leaving directory '/home/arg/pyivp/src_unit_tests/build'\n",
      "[ 95%] Built target testCpasRaySegl\n",
      "make[4]: Entering directory '/home/arg/pyivp/src_unit_tests/build'\n",
      "make[4]: Leaving directory '/home/arg/pyivp/src_unit_tests/build'\n",
      "[100%] Built target testCpasArcSegl\n",
      "make[3]: Leaving directory '/home/arg/pyivp/src_unit_tests/build'\n",
      "make[2]: Leaving directory '/home/arg/pyivp/src_unit_tests/build'\n",
      "make[1]: Leaving directory '/home/arg/pyivp/src_unit_tests'\n",
      "make -C src/pybind11 \n",
      "make[1]: Entering directory '/home/arg/pyivp/src/pybind11'\n",
      "mkdir build; cd build; cmake ..; make; make install\n",
      "mkdir: cannot create directory ‘build’: File exists\n",
      "-- Configuring done\n",
      "-- Generating done\n",
      "-- Build files have been written to: /home/arg/pyivp/src/pybind11/build\n",
      "make[2]: Entering directory '/home/arg/pyivp/src/pybind11/build'\n",
      "make[3]: Entering directory '/home/arg/pyivp/src/pybind11/build'\n",
      "make[4]: Entering directory '/home/arg/pyivp/src/pybind11/build'\n",
      "make[4]: Leaving directory '/home/arg/pyivp/src/pybind11/build'\n",
      "[100%] Built target pyivp\n",
      "make[3]: Leaving directory '/home/arg/pyivp/src/pybind11/build'\n",
      "make[2]: Leaving directory '/home/arg/pyivp/src/pybind11/build'\n",
      "make[2]: Entering directory '/home/arg/pyivp/src/pybind11/build'\n",
      "make[3]: Entering directory '/home/arg/pyivp/src/pybind11/build'\n",
      "make[4]: Entering directory '/home/arg/pyivp/src/pybind11/build'\n",
      "make[4]: Leaving directory '/home/arg/pyivp/src/pybind11/build'\n",
      "[100%] Built target pyivp\n",
      "make[3]: Leaving directory '/home/arg/pyivp/src/pybind11/build'\n",
      "\u001b[36mInstall the project...\u001b[0m\n",
      "-- Install configuration: \"Release\"\n",
      "-- Up-to-date: /home/arg/miniconda3/envs/movingpandas/lib/python3.9/site-packages/pyivp.cpython-39-x86_64-linux-gnu.so\n",
      "make[2]: Leaving directory '/home/arg/pyivp/src/pybind11/build'\n",
      "make[1]: Leaving directory '/home/arg/pyivp/src/pybind11'\n",
      "nbdev_clean_nbs\n",
      "cd src_unit_tests; ./alltest.sh\n",
      "===========================================\n",
      "NOTE: build  has no cases.utf file to check\n",
      "===========================================\n",
      "===========================================\n",
      "Checking: testAngleDiff/cases.utf\n",
      "===========================================\n",
      "Testing file: cases.utf\n",
      " Line 2 OK \n",
      " Line 3 OK \n",
      " Line 4 OK \n",
      " Line 6 OK \n",
      " Line 8 OK \n",
      " Line 9 OK \n",
      " Line 10 OK \n",
      " Line 11 OK \n",
      " Line 12 OK \n",
      " Line 13 OK \n",
      " Line 14 OK \n",
      " Line 15 OK \n",
      " Line 16 OK \n",
      " Line 17 OK \n",
      " Line 18 OK \n",
      " Line 19 OK \n",
      " Line 20 OK \n",
      " Line 21 OK \n",
      " Line 22 OK \n",
      " Line 23 OK \n",
      " Line 24 OK \n",
      "===========================================\n",
      "Checking: testAngleInArc/cases.utf\n",
      "===========================================\n",
      "Testing file: cases.utf\n",
      " Line 2 OK \n",
      " Line 3 OK \n",
      " Line 4 OK \n",
      " Line 5 OK \n",
      " Line 6 OK \n",
      " Line 7 OK \n",
      " Line 8 OK \n",
      " Line 10 OK \n",
      " Line 11 OK \n",
      " Line 13 OK \n",
      " Line 14 OK \n",
      " Line 16 OK \n",
      " Line 17 OK \n",
      " Line 21 OK \n",
      "===========================================\n",
      "Checking: testArcSegCross/cases.utf\n",
      "===========================================\n",
      "Testing file: cases.utf\n",
      " Line 2 OK \n",
      " Line 3 OK \n",
      " Line 4 OK \n",
      "===========================================\n",
      "Checking: testArcSegCrossPts/cases.utf\n",
      "===========================================\n",
      "Testing file: cases.utf\n"
     ]
    },
    {
     "name": "stdout",
     "output_type": "stream",
     "text": [
      " Line 2 OK \n",
      " Line 3 OK \n",
      " Line 6 OK \n",
      "===========================================\n",
      "Checking: testBearingMinMaxToPoly/cases.utf\n",
      "===========================================\n",
      "Testing file: cases.utf\n",
      " Line 3 FAIL \n",
      "sys_cmd: [testBearingMinMaxToPoly poly=250,-50:275,-50:275,-25:250,-25  px=15 py=5]\n",
      "results: [bmin=96.58,bmax=103.17]\n",
      "expected:[bmin=96.58,bmax=97.28]\n",
      " Line 4 FAIL \n",
      "sys_cmd: [testBearingMinMaxToPoly poly=250,-50:275,-50:275,-25:250,-25  px=15 py=-40]\n",
      "results: [bmin=86.35,bmax=92.44]\n",
      "expected:[bmin=86.35,bmax=92.44]\n",
      "Failed on test file: cases.utf\n",
      "===========================================\n",
      "Checking: testConvexHull/cases.utf\n",
      "===========================================\n",
      "Testing file: cases.utf\n",
      " Line 3 FAIL \n",
      "sys_cmd: [testSegRayCPA pts={107.5,-53.5:112,-43.8:112,-46.1:111.7,-49.3:108.3,-52.7:107.7,-53.3}]\n",
      "results: [Error:arg[pts={107.5,-53.5:112,-43.8:112,-46.1:111.7,-49.3:108.3,-52.7:107.7,-53.3}]Exiting.]\n",
      "expected:[]\n",
      "Failed on test file: cases.utf\n",
      "===========================================\n",
      "Checking: testCpasArcSegl/cases.utf\n",
      "===========================================\n",
      "Testing file: cases.utf\n",
      " Line 4 OK \n",
      " Line 9 OK \n",
      " Line 13 OK \n",
      "===========================================\n",
      "Checking: testCpasRaySegl/cases.utf\n",
      "===========================================\n",
      "Testing file: cases.utf\n",
      " Line 3 OK \n",
      " Line 6 OK \n",
      " Line 9 OK \n",
      " Line 14 OK \n",
      "===========================================\n",
      "Checking: testDistPointOnArc/cases.utf\n",
      "===========================================\n",
      "Testing file: cases.utf\n",
      " Line 3 OK \n",
      " Line 4 OK \n",
      " Line 6 OK \n",
      " Line 7 OK \n",
      "===========================================\n",
      "Checking: testDistPointToArc/cases.utf\n",
      "===========================================\n",
      "Testing file: cases.utf\n",
      " Line 3 OK \n",
      " Line 4 OK \n",
      " Line 5 OK \n",
      " Line 6 OK \n",
      " Line 8 OK \n",
      " Line 9 OK \n",
      " Line 10 OK \n",
      "===========================================\n",
      "Checking: testDistPointToArcPt/cases.utf\n",
      "===========================================\n",
      "Testing file: cases.utf\n",
      " Line 5 OK \n",
      " Line 9 OK \n",
      " Line 13 OK \n",
      " Line 17 OK \n",
      " Line 21 OK \n",
      " Line 26 OK \n",
      "===========================================\n",
      "Checking: testDistPointToRay/cases.utf\n",
      "===========================================\n",
      "Testing file: cases.utf\n",
      " Line 3 OK \n",
      " Line 5 OK \n",
      " Line 6 OK \n",
      " Line 7 OK \n",
      " Line 9 OK \n",
      "===========================================\n",
      "Checking: testDistPtsOnArc/cases.utf\n",
      "===========================================\n",
      "Testing file: cases.utf\n",
      "===========================================\n",
      "Checking: testDistSegListToArc/cases.utf\n",
      "===========================================\n",
      "Testing file: cases.utf\n",
      " Line 3 OK \n",
      " Line 4 OK \n",
      " Line 6 OK \n",
      " Line 7 OK \n",
      " Line 8 OK \n",
      " Line 10 OK \n",
      " Line 13 OK \n",
      " Line 14 OK \n",
      "===========================================\n",
      "Checking: testDistSegToArc/cases.utf\n",
      "===========================================\n",
      "Testing file: cases.utf\n",
      " Line 3 OK \n",
      " Line 4 OK \n",
      " Line 6 OK \n",
      " Line 7 OK \n",
      " Line 8 OK \n",
      " Line 10 OK \n",
      " Line 13 OK \n",
      " Line 14 OK \n",
      " Line 16 OK \n",
      "===========================================\n",
      "Checking: testIncIntString/cases.utf\n",
      "===========================================\n",
      "Testing file: cases.utf\n",
      " Line 2 FAIL \n",
      "sys_cmd: [testIncIntString str=foo23       amt=1  keep=true]\n",
      "results: [new_str=24]\n",
      "expected:[new_str=foo24]\n",
      " Line 3 FAIL \n",
      "sys_cmd: [testIncIntString str=foo23bar    amt=3  keep=true]\n",
      "results: [new_str=26]\n",
      "expected:[new_str=foo26]\n",
      " Line 4 FAIL \n",
      "sys_cmd: [testIncIntString str=foo23bar34  amt=1  keep=true]\n",
      "results: [new_str=2335]\n",
      "expected:[new_str=foo2335]\n",
      " Line 7 OK \n",
      " Line 8 OK \n",
      "Failed on test file: cases.utf\n",
      "===========================================\n",
      "Checking: testLeftTurn/cases.utf\n",
      "===========================================\n",
      "Testing file: cases.utf\n",
      " Line 2 FAIL \n",
      "sys_cmd: [testLeftTurn x1=0 y1=0 x2=0 y2=40 x3=50 y3=40]\n",
      "results: [left_turn=false]\n",
      "expected:[left_turn=true]\n",
      " Line 3 OK \n",
      "Failed on test file: cases.utf\n",
      "===========================================\n",
      "NOTE: testLineCircleIntPts  has no cases.utf file to check\n",
      "===========================================\n",
      "===========================================\n",
      "Checking: testPolyRayCPA/cases.utf\n",
      "===========================================\n",
      "Testing file: cases.utf\n",
      " Line 3 OK \n",
      " Line 4 OK \n",
      " Line 5 OK \n",
      " Line 6 OK \n",
      "===========================================\n",
      "Checking: testSegCircleIntPts/cases.utf\n",
      "===========================================\n",
      "Testing file: cases.utf\n",
      " Line 2 OK \n",
      " Line 3 OK \n",
      " Line 5 OK \n",
      " Line 6 OK \n",
      " Line 8 OK \n",
      "===========================================\n",
      "Checking: testSegRayCPA/cases.utf\n",
      "===========================================\n",
      "Testing file: cases.utf\n",
      " Line 3 OK \n",
      " Line 4 OK \n",
      "===========================================\n",
      "Checking: utest/cases.utf\n",
      "===========================================\n",
      "Testing file: cases.utf\n",
      " Line 3 OK \n",
      " Line 4 OK \n",
      " Line 5 OK \n",
      " Line 6 OK \n",
      " Line 7 OK \n",
      " Line 8 OK \n",
      " Line 10 OK \n",
      "===========================================\n",
      "Checking: utgen/cases.utf\n",
      "===========================================\n",
      "Testing file: cases.utf\n",
      " Line 3 OK \n",
      " Line 4 OK \n",
      " Line 5 OK \n",
      " Line 6 OK \n",
      " Line 7 OK \n",
      " Line 8 OK \n",
      " Line 10 OK \n",
      "cd src/pytest; python3 test_pattern_block.py\n",
      "== Test package and local function. ==\n",
      "C++ result x plus y is: 3\n",
      "Python result x plus y is:  3\n",
      "== Test XYPoint ==\n",
      "x=0,y=0\n",
      "x=10,y=15\n"
     ]
    }
   ],
   "source": [
    "! cd ~/pyivp && make"
   ]
  },
  {
   "cell_type": "markdown",
   "metadata": {},
   "source": [
    "## Run python library in Jupyter Notebook"
   ]
  },
  {
   "cell_type": "code",
   "execution_count": null,
   "metadata": {},
   "outputs": [],
   "source": [
    "import pyivp"
   ]
  },
  {
   "cell_type": "code",
   "execution_count": null,
   "metadata": {},
   "outputs": [],
   "source": [
    "polygon = pyivp.XYPolygon()"
   ]
  },
  {
   "cell_type": "markdown",
   "metadata": {},
   "source": [
    "## XYPolygon - Add vertex"
   ]
  },
  {
   "cell_type": "code",
   "execution_count": null,
   "metadata": {},
   "outputs": [
    {
     "name": "stdout",
     "output_type": "stream",
     "text": [
      "add_vertex(*args, **kwargs)\n",
      "Overloaded function.\n",
      "\n",
      "1. add_vertex(self: pyivp.XYPolygon, x: float, y: float, check_convexity: bool = True) -> bool\n",
      "\n",
      "\n",
      "      Add a vertex (x, y) into Polygon and check convexity.\n",
      "\n",
      "      Inputs: \n",
      "        x: x coord of the given vertex.\n",
      "        y: y coord of the given vertex.\n",
      "        check_convexity: True for convex, False for concave.\n",
      "\n",
      "      Returns:\n",
      "        The convexity of the polygon. True for convex, False for concave.\n",
      "\n",
      "      \n",
      "\n",
      "2. add_vertex(self: pyivp.XYPolygon, x: float, y: float, z: float, check_convexity: bool = True) -> bool\n",
      "\n",
      "\n",
      "      Add a vertex (x, y, z) into Polygon and check convexity.\n",
      "\n",
      "      Inputs: \n",
      "        x: x coord of the given vertex.\n",
      "        y: y coord of the given vertex.\n",
      "        z: z coord of the given vertex.\n",
      "        check_convexity: True for convex, False for concave.\n",
      "\n",
      "      Returns:\n",
      "        The convexity of the polygon. True for convex, False for concave.\n",
      "      \n",
      "      \n",
      "\n",
      "3. add_vertex(self: pyivp.XYPolygon, x: float, y: float, z: float, property: str, check_convexity: bool = True) -> bool\n",
      "\n",
      "\n",
      "      Add a vertex (x, y, z) into Polygon and check convexity.\n",
      "\n",
      "      Inputs: \n",
      "        x: x coord of the given vertex.\n",
      "        y: y coord of the given vertex.\n",
      "        z: z coord of the given vertex.\n",
      "        property: vertex property.\n",
      "        check_convexity: True for convex, False for concave.\n",
      "\n",
      "      Returns:\n",
      "        The convexity of the polygon. True for convex, False for concave.\n",
      "      \n",
      "      \n",
      "\n"
     ]
    }
   ],
   "source": [
    "print(polygon.add_vertex.__doc__)"
   ]
  },
  {
   "cell_type": "code",
   "execution_count": null,
   "metadata": {},
   "outputs": [
    {
     "data": {
      "text/plain": [
       "False"
      ]
     },
     "execution_count": null,
     "metadata": {},
     "output_type": "execute_result"
    }
   ],
   "source": [
    "polygon.add_vertex(0, 0, True)\n",
    "polygon.add_vertex(1, 0, True)"
   ]
  },
  {
   "cell_type": "code",
   "execution_count": null,
   "metadata": {},
   "outputs": [
    {
     "data": {
      "text/plain": [
       "True"
      ]
     },
     "execution_count": null,
     "metadata": {},
     "output_type": "execute_result"
    }
   ],
   "source": [
    "polygon.add_vertex(1, 1, True)\n",
    "polygon.add_vertex(0, 1, True)"
   ]
  },
  {
   "cell_type": "code",
   "execution_count": null,
   "metadata": {},
   "outputs": [
    {
     "data": {
      "text/plain": [
       "True"
      ]
     },
     "execution_count": null,
     "metadata": {},
     "output_type": "execute_result"
    }
   ],
   "source": [
    "polygon.add_vertex(-0.5, 0.5, 0, \"\", True)"
   ]
  },
  {
   "cell_type": "markdown",
   "metadata": {},
   "source": [
    "## XYPolygon - Alter vertex"
   ]
  },
  {
   "cell_type": "code",
   "execution_count": null,
   "metadata": {},
   "outputs": [
    {
     "name": "stdout",
     "output_type": "stream",
     "text": [
      "alter_vertex(self: pyivp.XYPolygon, x: float, y: float, z: float) -> bool\n",
      "\n",
      "\n",
      "      Replace the existing vertex that is closed to the given vertex (x, y, z) with that.\n",
      "\n",
      "      Inputs: \n",
      "        x: x coord of the given vertex.\n",
      "        y: y coord of the given vertex.\n",
      "        z: z coord of the given vertex.\n",
      "\n",
      "      Returns:\n",
      "        The convexity of the polygon. True for convex, False for concave.\n",
      "\n",
      "      \n",
      "\n"
     ]
    }
   ],
   "source": [
    "print(polygon.alter_vertex.__doc__)"
   ]
  },
  {
   "cell_type": "code",
   "execution_count": null,
   "metadata": {},
   "outputs": [
    {
     "data": {
      "text/plain": [
       "True"
      ]
     },
     "execution_count": null,
     "metadata": {},
     "output_type": "execute_result"
    }
   ],
   "source": [
    "polygon = pyivp.XYPolygon()\n",
    "polygon.add_vertex(0, 0, True)\n",
    "polygon.add_vertex(1, 0, True)\n",
    "polygon.add_vertex(1, 1, True)\n",
    "polygon.add_vertex(0, 1, True)\n",
    "\n",
    "polygon.alter_vertex(1, 1.1, 0)"
   ]
  },
  {
   "cell_type": "markdown",
   "metadata": {},
   "source": [
    "## XYPolygon - Delete vertex"
   ]
  },
  {
   "cell_type": "code",
   "execution_count": null,
   "metadata": {},
   "outputs": [
    {
     "name": "stdout",
     "output_type": "stream",
     "text": [
      "delete_vertex(*args, **kwargs)\n",
      "Overloaded function.\n",
      "\n",
      "1. delete_vertex(self: pyivp.XYPolygon, x: float, y: float) -> bool\n",
      "\n",
      "\n",
      "      Delete the vertex that is closed to the given vertex (x, y).\n",
      "\n",
      "      Inputs: \n",
      "        x: x coord of the given vertex.\n",
      "        y: y coord of the given vertex.\n",
      "\n",
      "      Returns:\n",
      "        The convexity of the polygon. True for convex, False for concave.\n",
      "\n",
      "      \n",
      "\n",
      "2. delete_vertex(self: pyivp.XYPolygon, ix: int) -> bool\n",
      "\n",
      "\n",
      "      Delete the vertex by the given index ix.\n",
      "\n",
      "      Inputs: \n",
      "        ix: The index of vertices that will be deleted.\n",
      "\n",
      "      Returns:\n",
      "        The convexity of the polygon. True for convex, False for concave.\n",
      "\n",
      "      \n",
      "\n"
     ]
    }
   ],
   "source": [
    "print(polygon.delete_vertex.__doc__)"
   ]
  },
  {
   "cell_type": "code",
   "execution_count": null,
   "metadata": {},
   "outputs": [
    {
     "data": {
      "text/plain": [
       "True"
      ]
     },
     "execution_count": null,
     "metadata": {},
     "output_type": "execute_result"
    }
   ],
   "source": [
    "polygon = pyivp.XYPolygon()\n",
    "polygon.add_vertex(0, 0, True)\n",
    "polygon.add_vertex(1, 0, True)\n",
    "polygon.add_vertex(1, 1, True)\n",
    "polygon.add_vertex(0, 1, True)\n",
    "\n",
    "polygon.delete_vertex(1, 1)"
   ]
  },
  {
   "cell_type": "markdown",
   "metadata": {},
   "source": [
    "## XYPolygon - Grow by percentage"
   ]
  },
  {
   "cell_type": "code",
   "execution_count": null,
   "metadata": {},
   "outputs": [
    {
     "name": "stdout",
     "output_type": "stream",
     "text": [
      "grow_by_pct(self: pyivp.XYPolygon, pct: float) -> None\n",
      "\n",
      "\n",
      "      Inflate or deflate the polygon by the given ratio pct with respect to the polygon centroid.\n",
      "\n",
      "      Inputs:\n",
      "        pct: The Growing ratio for inflating or deflating the polygon.\n",
      "\n",
      "      Returns:\n",
      "        None\n",
      "\n",
      "      \n",
      "\n"
     ]
    }
   ],
   "source": [
    "print(polygon.grow_by_pct.__doc__)"
   ]
  },
  {
   "cell_type": "code",
   "execution_count": null,
   "metadata": {},
   "outputs": [],
   "source": [
    "polygon = pyivp.XYPolygon()\n",
    "polygon.add_vertex(0, 0, True)\n",
    "polygon.add_vertex(1, 0, True)\n",
    "polygon.add_vertex(1, 1, True)\n",
    "polygon.add_vertex(0, 1, True)\n",
    "\n",
    "polygon.grow_by_pct(1.05)"
   ]
  },
  {
   "cell_type": "markdown",
   "metadata": {},
   "source": [
    "## XYPolygon - Grow by amount"
   ]
  },
  {
   "cell_type": "code",
   "execution_count": null,
   "metadata": {},
   "outputs": [
    {
     "name": "stdout",
     "output_type": "stream",
     "text": [
      "grow_by_amt(self: pyivp.XYPolygon, amt: float) -> None\n",
      "\n",
      "\n",
      "      Inflate or deflate the polygon by the given distance amt with respect to the polygon centroid.\n",
      "\n",
      "      Inputs:\n",
      "        amt: The Growing distance for inflating or deflating the polygon.\n",
      "\n",
      "      Returns:\n",
      "        None\n",
      "      \n",
      "      \n",
      "\n"
     ]
    }
   ],
   "source": [
    "print(polygon.grow_by_amt.__doc__)"
   ]
  },
  {
   "cell_type": "code",
   "execution_count": null,
   "metadata": {},
   "outputs": [],
   "source": [
    "polygon = pyivp.XYPolygon()\n",
    "polygon.add_vertex(0, 0, True)\n",
    "polygon.add_vertex(1, 0, True)\n",
    "polygon.add_vertex(1, 1, True)\n",
    "polygon.add_vertex(0, 1, True)\n",
    "\n",
    "polygon.grow_by_amt(0.1)"
   ]
  },
  {
   "cell_type": "markdown",
   "metadata": {},
   "source": [
    "## XYPolygon - Insert vertex"
   ]
  },
  {
   "cell_type": "code",
   "execution_count": null,
   "metadata": {},
   "outputs": [
    {
     "name": "stdout",
     "output_type": "stream",
     "text": [
      "insert_vertex(self: pyivp.XYPolygon, x: float, y: float, z: float) -> bool\n",
      "\n",
      "\n",
      "      Find the segment closest to the given vertex (x, y, z) and insert it into the points of the segment.\n",
      "\n",
      "      Inputs:\n",
      "        x: x coord of the given vertex.\n",
      "        y: y coord of the given vertex.\n",
      "        z: z coord of the given vertex.\n",
      "\n",
      "      Returns:\n",
      "        The convexity of the polygon. True for convex, False for concave.\n",
      "      \n",
      "      \n",
      "\n"
     ]
    }
   ],
   "source": [
    "print(polygon.insert_vertex.__doc__)"
   ]
  },
  {
   "cell_type": "code",
   "execution_count": null,
   "metadata": {},
   "outputs": [
    {
     "data": {
      "text/plain": [
       "True"
      ]
     },
     "execution_count": null,
     "metadata": {},
     "output_type": "execute_result"
    }
   ],
   "source": [
    "polygon = pyivp.XYPolygon()\n",
    "polygon.add_vertex(0, 0, True)\n",
    "polygon.add_vertex(1, 0, True)\n",
    "polygon.add_vertex(1, 1, True)\n",
    "polygon.add_vertex(0, 1, True)\n",
    "\n",
    "polygon.insert_vertex(0.5, 1, 0)"
   ]
  },
  {
   "cell_type": "markdown",
   "metadata": {},
   "source": [
    "## XYPolygon - Snap to grid"
   ]
  },
  {
   "cell_type": "code",
   "execution_count": null,
   "metadata": {},
   "outputs": [
    {
     "name": "stdout",
     "output_type": "stream",
     "text": [
      "apply_snap(self: pyivp.XYPolygon, snapval: float) -> bool\n",
      "\n",
      "\n",
      "      Snap all the vertices to the grid by snapval.\n",
      "\n",
      "      Inputs:\n",
      "        snapval: The grid size.\n",
      "\n",
      "      Returns:\n",
      "        The convexity of the polygon. True for convex, False for concave.\n",
      "      \n",
      "      \n",
      "\n"
     ]
    }
   ],
   "source": [
    "print(polygon.apply_snap.__doc__)"
   ]
  },
  {
   "cell_type": "code",
   "execution_count": null,
   "metadata": {},
   "outputs": [
    {
     "data": {
      "text/plain": [
       "True"
      ]
     },
     "execution_count": null,
     "metadata": {},
     "output_type": "execute_result"
    }
   ],
   "source": [
    "polygon = pyivp.XYPolygon()\n",
    "polygon.add_vertex(0, 0, True)\n",
    "polygon.add_vertex(1, 0, True)\n",
    "polygon.add_vertex(1, 1, True)\n",
    "polygon.add_vertex(0, 1, True)\n",
    "\n",
    "polygon.apply_snap(1)"
   ]
  },
  {
   "cell_type": "markdown",
   "metadata": {},
   "source": [
    "## XYPolygon - Reverse"
   ]
  },
  {
   "cell_type": "code",
   "execution_count": null,
   "metadata": {},
   "outputs": [
    {
     "name": "stdout",
     "output_type": "stream",
     "text": [
      "reverse(self: pyivp.XYPolygon) -> None\n",
      "\n",
      "\n",
      "      Reverse the vertices order in the polygon.\n",
      "\n",
      "      Inputs:\n",
      "        None\n",
      "\n",
      "      Returns:\n",
      "        None\n",
      "      \n",
      "      \n",
      "\n"
     ]
    }
   ],
   "source": [
    "print(polygon.reverse.__doc__)"
   ]
  },
  {
   "cell_type": "code",
   "execution_count": null,
   "metadata": {},
   "outputs": [],
   "source": [
    "polygon = pyivp.XYPolygon()\n",
    "polygon.add_vertex(0, 0, True)\n",
    "polygon.add_vertex(1, 0, True)\n",
    "polygon.add_vertex(1, 1, True)\n",
    "polygon.add_vertex(0, 1, True)\n",
    "\n",
    "polygon.reverse()"
   ]
  },
  {
   "cell_type": "markdown",
   "metadata": {},
   "source": [
    "## XYPolygon - Rotate"
   ]
  },
  {
   "cell_type": "code",
   "execution_count": null,
   "metadata": {},
   "outputs": [
    {
     "name": "stdout",
     "output_type": "stream",
     "text": [
      "rotate(*args, **kwargs)\n",
      "Overloaded function.\n",
      "\n",
      "1. rotate(self: pyivp.XYPolygon, val: float, cx: float, cy: float) -> None\n",
      "\n",
      "\n",
      "      Rotate the polygon by angle val with the respect to the given center (cx, cy).\n",
      "\n",
      "      Inputs:\n",
      "        val: The rotating angle.\n",
      "        cx: x coord of the given center.\n",
      "        cy: y coord of the given center.\n",
      "\n",
      "      Returns:\n",
      "        None\n",
      "      \n",
      "      \n",
      "\n",
      "2. rotate(self: pyivp.XYPolygon, val: float) -> None\n",
      "\n",
      "\n",
      "      Rotate the polygon by angle val with the respect to the polygon centroid.\n",
      "\n",
      "      Inputs:\n",
      "        val: The rotating angle.\n",
      "\n",
      "      Returns:\n",
      "        None\n",
      "      \n",
      "      \n",
      "\n"
     ]
    }
   ],
   "source": [
    "print(polygon.rotate.__doc__)"
   ]
  },
  {
   "cell_type": "code",
   "execution_count": null,
   "metadata": {},
   "outputs": [],
   "source": [
    "polygon = pyivp.XYPolygon()\n",
    "polygon.add_vertex(0, 0, True)\n",
    "polygon.add_vertex(1, 0, True)\n",
    "polygon.add_vertex(1, 1, True)\n",
    "polygon.add_vertex(0, 1, True)\n",
    "\n",
    "polygon.rotate(2.0, 0, 0)"
   ]
  },
  {
   "cell_type": "markdown",
   "metadata": {},
   "source": [
    "## XYPolygon - Contains"
   ]
  },
  {
   "cell_type": "code",
   "execution_count": null,
   "metadata": {},
   "outputs": [
    {
     "name": "stdout",
     "output_type": "stream",
     "text": [
      "contains(*args, **kwargs)\n",
      "Overloaded function.\n",
      "\n",
      "1. contains(self: pyivp.XYPolygon, x: float, y: float) -> bool\n",
      "\n",
      "\n",
      "      Check if the polygon contains the given vertex (x, y).\n",
      "\n",
      "      Inputs:\n",
      "        x: x coord of the given vertex.\n",
      "        y: y coord of the given vertex.\n",
      "\n",
      "      Returns:\n",
      "        True if the polygon contains the given vertex (x, y). False otherwise.\n",
      "      \n",
      "      \n",
      "\n",
      "2. contains(self: pyivp.XYPolygon, inner_poly: pyivp.XYPolygon) -> bool\n",
      "\n",
      "\n",
      "      Check if the polygon contains the given inner polygon.\n",
      "\n",
      "      Inputs:\n",
      "        inner_poly: The inner polygon.\n",
      "\n",
      "      Returns:\n",
      "        True if the given polygon is convex and all its vertices are contained within this polygon. False otherwise.\n",
      "      \n",
      "      \n",
      "\n"
     ]
    }
   ],
   "source": [
    "print(polygon.contains.__doc__)"
   ]
  },
  {
   "cell_type": "code",
   "execution_count": null,
   "metadata": {},
   "outputs": [
    {
     "data": {
      "text/plain": [
       "True"
      ]
     },
     "execution_count": null,
     "metadata": {},
     "output_type": "execute_result"
    }
   ],
   "source": [
    "polygon = pyivp.XYPolygon()\n",
    "polygon.add_vertex(0, 0, True)\n",
    "polygon.add_vertex(1, 0, True)\n",
    "polygon.add_vertex(1, 1, True)\n",
    "polygon.add_vertex(0, 1, True)\n",
    "\n",
    "polygon.contains(0, 0)"
   ]
  },
  {
   "cell_type": "markdown",
   "metadata": {},
   "source": [
    "## XYPolygon - Intersects"
   ]
  },
  {
   "cell_type": "code",
   "execution_count": null,
   "metadata": {},
   "outputs": [
    {
     "name": "stdout",
     "output_type": "stream",
     "text": [
      "intersects(*args, **kwargs)\n",
      "Overloaded function.\n",
      "\n",
      "1. intersects(self: pyivp.XYPolygon, poly: pyivp.XYPolygon) -> bool\n",
      "\n",
      "\n",
      "      Check if the polygon intersects the given polygon.\n",
      "\n",
      "      Inputs:\n",
      "        poly: The given polygon.\n",
      "\n",
      "      Returns:\n",
      "        True if the polygon intersects the given polygon. False otherwise.\n",
      "      \n",
      "      \n",
      "\n",
      "2. intersects(self: pyivp.XYPolygon, square: XYSquare) -> bool\n",
      "\n",
      "\n",
      "      Check if the polygon intersects the given square.\n",
      "\n",
      "      Inputs:\n",
      "        square: The given square.\n",
      "\n",
      "      Returns:\n",
      "        True if the polygon intersects the given square. False otherwise.\n",
      "      \n",
      "      \n",
      "\n"
     ]
    }
   ],
   "source": [
    "print(polygon.intersects.__doc__)"
   ]
  },
  {
   "cell_type": "code",
   "execution_count": null,
   "metadata": {},
   "outputs": [
    {
     "data": {
      "text/plain": [
       "True"
      ]
     },
     "execution_count": null,
     "metadata": {},
     "output_type": "execute_result"
    }
   ],
   "source": [
    "polygon = pyivp.XYPolygon()\n",
    "polygon.add_vertex(0, 0, True)\n",
    "polygon.add_vertex(1, 0, True)\n",
    "polygon.add_vertex(1, 1, True)\n",
    "polygon.add_vertex(0, 1, True)\n",
    "\n",
    "polygon1 = pyivp.XYPolygon()\n",
    "polygon1.add_vertex(0, 0, True)\n",
    "polygon1.add_vertex(1, 0, True)\n",
    "polygon1.add_vertex(1, 1, True)\n",
    "polygon1.add_vertex(0, 1, True)\n",
    "polygon1.rotate(45)\n",
    "\n",
    "polygon.intersects(polygon1)"
   ]
  },
  {
   "cell_type": "markdown",
   "metadata": {},
   "source": [
    "## XYPolygon - Distance to Polygon"
   ]
  },
  {
   "cell_type": "code",
   "execution_count": null,
   "metadata": {},
   "outputs": [
    {
     "name": "stdout",
     "output_type": "stream",
     "text": [
      "dist_to_poly(*args, **kwargs)\n",
      "Overloaded function.\n",
      "\n",
      "1. dist_to_poly(self: pyivp.XYPolygon, poly: pyivp.XYPolygon) -> float\n",
      "\n",
      "\n",
      "      Calculate the minimum distance of the polygon and the given polygon.\n",
      "\n",
      "      Inputs:\n",
      "        poly: The given poly.\n",
      "\n",
      "      Returns:\n",
      "        The minumum distance of the polygon and the given polygon.\n",
      "      \n",
      "      \n",
      "\n",
      "2. dist_to_poly(self: pyivp.XYPolygon, px: float, py: float) -> float\n",
      "\n",
      "\n",
      "      Calculate the minimum distance of the polygon and the given point (x, y).\n",
      "\n",
      "      Inputs:\n",
      "        x: x coord of the given point.\n",
      "        y: y coord of the given point.\n",
      "\n",
      "      Returns:\n",
      "        The minumum distance of the polygon and the given point.\n",
      "      \n",
      "      \n",
      "\n",
      "3. dist_to_poly(self: pyivp.XYPolygon, x1: float, y1: float, x2: float, y2: float) -> float\n",
      "\n",
      "\n",
      "      Calculate the minimum distance of the polygon and the given segment ((x1, y1), (x2, y2)).\n",
      "\n",
      "      Inputs:\n",
      "        x1: x coord of the first point of the segment.\n",
      "        y1: y coord of the first point of the segment.\n",
      "        x2: x coord of the second point of the segment.\n",
      "        y2: y coord of the second point of the segment.\n",
      "\n",
      "      Returns:\n",
      "        The minumum distance of the polygon and the given segment.\n",
      "      \n",
      "      \n",
      "\n",
      "4. dist_to_poly(self: pyivp.XYPolygon, px: float, py: float, angle: float) -> float\n",
      "\n",
      "\n",
      "      Calculate the minimum distance of the polygon and the given poing (x1, y1) along the given angle.\n",
      "\n",
      "      Inputs:\n",
      "        px: x coord of the given point.\n",
      "        py: y coord of the given point.\n",
      "        angle: The given angle.\n",
      "\n",
      "      Returns:\n",
      "        The minumum distance of the polygon and the given point along the given angle.\n",
      "      \n",
      "      \n",
      "\n"
     ]
    }
   ],
   "source": [
    "print(polygon.dist_to_poly.__doc__)"
   ]
  },
  {
   "cell_type": "code",
   "execution_count": null,
   "metadata": {},
   "outputs": [
    {
     "data": {
      "text/plain": [
       "0.5"
      ]
     },
     "execution_count": null,
     "metadata": {},
     "output_type": "execute_result"
    }
   ],
   "source": [
    "polygon = pyivp.XYPolygon()\n",
    "polygon.add_vertex(0, 0, True)\n",
    "polygon.add_vertex(1, 0, True)\n",
    "polygon.add_vertex(1, 1, True)\n",
    "polygon.add_vertex(0, 1, True)\n",
    "\n",
    "polygon.dist_to_poly(1.5, 0.5)"
   ]
  },
  {
   "cell_type": "markdown",
   "metadata": {},
   "source": [
    "## XYPolygon - Segment intercepts"
   ]
  },
  {
   "cell_type": "code",
   "execution_count": null,
   "metadata": {},
   "outputs": [
    {
     "name": "stdout",
     "output_type": "stream",
     "text": [
      "seg_intercepts(self: pyivp.XYPolygon, x1: float, x2: float, y1: float, y2: float) -> bool\n",
      "\n",
      "\n",
      "      Check if the given segment intercepts the polygon or within the polygon.\n",
      "\n",
      "      Inputs:\n",
      "        x1: x coord of the first point of the segment.\n",
      "        y1: y coord of the first point of the segment.\n",
      "        x2: x coord of the second point of the segment.\n",
      "        y2: y coord of the second point of the segment.\n",
      "\n",
      "      Returns:\n",
      "        True if the given segment intercepts the polygon or the segment within the polygon. False otherwise.\n",
      "      \n",
      "      \n",
      "\n"
     ]
    }
   ],
   "source": [
    "print(polygon.seg_intercepts.__doc__)"
   ]
  },
  {
   "cell_type": "code",
   "execution_count": null,
   "metadata": {},
   "outputs": [
    {
     "data": {
      "text/plain": [
       "True"
      ]
     },
     "execution_count": null,
     "metadata": {},
     "output_type": "execute_result"
    }
   ],
   "source": [
    "polygon = pyivp.XYPolygon()\n",
    "polygon.add_vertex(0, 0, True)\n",
    "polygon.add_vertex(1, 0, True)\n",
    "polygon.add_vertex(1, 1, True)\n",
    "polygon.add_vertex(0, 1, True)\n",
    "\n",
    "polygon.seg_intercepts(-0.5, 0.5, 0.5, 1.5)"
   ]
  },
  {
   "cell_type": "markdown",
   "metadata": {},
   "source": [
    "## XYPolygon - Line intersects"
   ]
  },
  {
   "cell_type": "code",
   "execution_count": null,
   "metadata": {},
   "outputs": [
    {
     "name": "stdout",
     "output_type": "stream",
     "text": [
      "line_intersects(self: pyivp.XYPolygon, x1: float, y1: float, x2: float, y2: float, ix1: float, iy1: float, ix2: float, iy2: float) -> bool\n",
      "\n",
      "\n",
      "      Check if the given segment intercepts the polygon and find the intersects.\n",
      "\n",
      "      Inputs:\n",
      "        x1: x coord of the first point of the segment.\n",
      "        y1: y coord of the first point of the segment.\n",
      "        x2: x coord of the second point of the segment.\n",
      "        y2: y coord of the second point of the segment.\n",
      "        ix1: x coord of the first point of the intersects.\n",
      "        iy1: y coord of the first point of the intersects.\n",
      "        ix2: x coord of the second point of the intersects.\n",
      "        iy2: y coord of the second point of the intersects.\n",
      "\n",
      "      Returns:\n",
      "        True if the given segment intercepts the polygon. False otherwise.\n",
      "      \n",
      "      \n",
      "\n"
     ]
    }
   ],
   "source": [
    "print(polygon.line_intersects.__doc__)"
   ]
  },
  {
   "cell_type": "markdown",
   "metadata": {},
   "source": [
    "## XYPolygon - Vertex is Viewable"
   ]
  },
  {
   "cell_type": "code",
   "execution_count": null,
   "metadata": {},
   "outputs": [
    {
     "name": "stdout",
     "output_type": "stream",
     "text": [
      "vertex_is_viewable(self: pyivp.XYPolygon, ix: int, x1: float, y1: float) -> bool\n",
      "\n",
      "\n",
      "      Determine if the line segment given by the vertex ix, and the point x1,y1, intersects the polygon *only* at the vertex. If so, we say that the vertex is \"viewable\" from the given point.\n",
      "\n",
      "      Inputs:\n",
      "        ix: The index of segment that will be considered.\n",
      "        x1: x coord of the first point of the segment.\n",
      "        y1: y coord of the first point of the segment.\n",
      "\n",
      "\n",
      "      Returns:\n",
      "        True if the vertex is viewable. False otherwise.\n",
      "        We return false if the given point is contained in the polygon.\n",
      "      \n",
      "\n"
     ]
    }
   ],
   "source": [
    "print(polygon.vertex_is_viewable.__doc__)"
   ]
  },
  {
   "cell_type": "code",
   "execution_count": null,
   "metadata": {},
   "outputs": [
    {
     "data": {
      "text/plain": [
       "True"
      ]
     },
     "execution_count": null,
     "metadata": {},
     "output_type": "execute_result"
    }
   ],
   "source": [
    "polygon = pyivp.XYPolygon()\n",
    "polygon.add_vertex(0, 0, True)\n",
    "polygon.add_vertex(1, 0, True)\n",
    "polygon.add_vertex(1, 1, True)\n",
    "polygon.add_vertex(0, 1, True)\n",
    "\n",
    "polygon.vertex_is_viewable(2, 3, 2)"
   ]
  },
  {
   "cell_type": "markdown",
   "metadata": {},
   "source": [
    "## XYPolygon - is Convex"
   ]
  },
  {
   "cell_type": "code",
   "execution_count": null,
   "metadata": {},
   "outputs": [
    {
     "name": "stdout",
     "output_type": "stream",
     "text": [
      "is_convex(self: pyivp.XYPolygon) -> bool\n",
      "\n",
      "\n",
      "      Get the convexity of the polygon.\n",
      "\n",
      "      Inputs:\n",
      "        None\n",
      "\n",
      "      Returns:\n",
      "        The convexity of the polygon. True for convex, False for concave.\n",
      "      \n",
      "\n"
     ]
    }
   ],
   "source": [
    "print(polygon.is_convex.__doc__)"
   ]
  },
  {
   "cell_type": "code",
   "execution_count": null,
   "metadata": {},
   "outputs": [
    {
     "data": {
      "text/plain": [
       "True"
      ]
     },
     "execution_count": null,
     "metadata": {},
     "output_type": "execute_result"
    }
   ],
   "source": [
    "polygon = pyivp.XYPolygon()\n",
    "polygon.add_vertex(0, 0, True)\n",
    "polygon.add_vertex(1, 0, True)\n",
    "polygon.add_vertex(1, 1, True)\n",
    "polygon.add_vertex(0, 1, True)\n",
    "\n",
    "polygon.is_convex()"
   ]
  },
  {
   "cell_type": "markdown",
   "metadata": {},
   "source": [
    "## XYPolygon - Determine Convexity"
   ]
  },
  {
   "cell_type": "code",
   "execution_count": null,
   "metadata": {},
   "outputs": [
    {
     "name": "stdout",
     "output_type": "stream",
     "text": [
      "determine_convexity(self: pyivp.XYPolygon) -> None\n",
      "\n",
      "\n",
      "      Determine whether the object represents a convex polygon. We declare that a polygon is *not* convex unless it contains at least three points. \n",
      "\n",
      "      Inputs:\n",
      "        None\n",
      "\n",
      "      Returns:\n",
      "        None\n",
      "      \n",
      "\n"
     ]
    }
   ],
   "source": [
    "print(polygon.determine_convexity.__doc__)"
   ]
  },
  {
   "cell_type": "code",
   "execution_count": null,
   "metadata": {},
   "outputs": [],
   "source": [
    "polygon = pyivp.XYPolygon()\n",
    "polygon.add_vertex(0, 0, True)\n",
    "polygon.add_vertex(1, 0, True)\n",
    "polygon.add_vertex(1, 1, True)\n",
    "polygon.add_vertex(0, 1, True)\n",
    "\n",
    "polygon.determine_convexity()"
   ]
  },
  {
   "cell_type": "markdown",
   "metadata": {},
   "source": [
    "## XYPolygon - Area"
   ]
  },
  {
   "cell_type": "code",
   "execution_count": null,
   "metadata": {},
   "outputs": [
    {
     "name": "stdout",
     "output_type": "stream",
     "text": [
      "area(self: pyivp.XYPolygon) -> float\n",
      "\n",
      "\n",
      "      Calculate the area of the polygon and return it.\n",
      "\n",
      "      Inputs:\n",
      "        None\n",
      "\n",
      "      Returns:\n",
      "        The area of the polygon.\n",
      "      \n",
      "\n"
     ]
    }
   ],
   "source": [
    "print(polygon.area.__doc__)"
   ]
  },
  {
   "cell_type": "code",
   "execution_count": null,
   "metadata": {},
   "outputs": [
    {
     "data": {
      "text/plain": [
       "1.0"
      ]
     },
     "execution_count": null,
     "metadata": {},
     "output_type": "execute_result"
    }
   ],
   "source": [
    "polygon = pyivp.XYPolygon()\n",
    "polygon.add_vertex(0, 0, True)\n",
    "polygon.add_vertex(1, 0, True)\n",
    "polygon.add_vertex(1, 1, True)\n",
    "polygon.add_vertex(0, 1, True)\n",
    "\n",
    "polygon.area()"
   ]
  },
  {
   "cell_type": "markdown",
   "metadata": {},
   "source": [
    "## XYPolygon - Simplify"
   ]
  },
  {
   "cell_type": "code",
   "execution_count": null,
   "metadata": {},
   "outputs": [
    {
     "name": "stdout",
     "output_type": "stream",
     "text": [
      "simplify(self: pyivp.XYPolygon, range_thresh: float) -> bool\n",
      "\n",
      "\n",
      "      Search for the two closest vertices and if within the the given range, combine the two vertices into one.\n",
      "\n",
      "      Inputs:\n",
      "        range_thresh: The threshold range.\n",
      "\n",
      "      Returns:\n",
      "        True if there are at least a pair of vertices are close enough to each other. False otherwise.\n",
      "      \n",
      "\n"
     ]
    }
   ],
   "source": [
    "print(polygon.simplify.__doc__)"
   ]
  },
  {
   "cell_type": "code",
   "execution_count": null,
   "metadata": {},
   "outputs": [
    {
     "data": {
      "text/plain": [
       "False"
      ]
     },
     "execution_count": null,
     "metadata": {},
     "output_type": "execute_result"
    }
   ],
   "source": [
    "polygon = pyivp.XYPolygon()\n",
    "polygon.add_vertex(0, 0, True)\n",
    "polygon.add_vertex(1, 0, True)\n",
    "polygon.add_vertex(1, 1, True)\n",
    "polygon.add_vertex(0, 1, True)\n",
    "\n",
    "polygon.simplify(0.1)"
   ]
  },
  {
   "cell_type": "code",
   "execution_count": null,
   "metadata": {},
   "outputs": [
    {
     "data": {
      "text/plain": [
       "True"
      ]
     },
     "execution_count": null,
     "metadata": {},
     "output_type": "execute_result"
    }
   ],
   "source": [
    "polygon.simplify(1)"
   ]
  },
  {
   "cell_type": "markdown",
   "metadata": {},
   "source": [
    "## XYPolygon - Max Radius"
   ]
  },
  {
   "cell_type": "code",
   "execution_count": null,
   "metadata": {},
   "outputs": [
    {
     "name": "stdout",
     "output_type": "stream",
     "text": [
      "max_radius(self: pyivp.XYPolygon) -> float\n",
      "\n",
      "\n",
      "      Determine the maximum distance between the center of the polygon and any of its vertices.\n",
      "\n",
      "      Inputs:\n",
      "        None\n",
      "\n",
      "      Returns:\n",
      "        The maximum radius.\n",
      "      \n",
      "\n"
     ]
    }
   ],
   "source": [
    "print(polygon.max_radius.__doc__)"
   ]
  },
  {
   "cell_type": "code",
   "execution_count": null,
   "metadata": {},
   "outputs": [
    {
     "data": {
      "text/plain": [
       "1.4142135623730951"
      ]
     },
     "execution_count": null,
     "metadata": {},
     "output_type": "execute_result"
    }
   ],
   "source": [
    "polygon = pyivp.XYPolygon()\n",
    "polygon.add_vertex(0, 0, True)\n",
    "polygon.add_vertex(1, 0, True)\n",
    "polygon.add_vertex(1, 1, True)\n",
    "polygon.add_vertex(0, 1, True)\n",
    "\n",
    "polygon.max_radius()"
   ]
  },
  {
   "cell_type": "markdown",
   "metadata": {},
   "source": [
    "## XYPolygon - Closest Point on Poly"
   ]
  },
  {
   "cell_type": "code",
   "execution_count": null,
   "metadata": {},
   "outputs": [
    {
     "name": "stdout",
     "output_type": "stream",
     "text": [
      "closest_point_on_poly(self: pyivp.XYPolygon, sx: float, sy: float, rx: float, ry: float) -> bool\n",
      "\n",
      "\n",
      "      Determine the point on the polygon (on an edge or vertex) closest to the given point.\n",
      "\n",
      "      Inputs:\n",
      "        sx: x coord of the given point.\n",
      "        sy: y coord of the given point.\n",
      "        rx: x coord of the closest point.\n",
      "        ry: y coord of the closest point.\n",
      "\n",
      "      Returns:\n",
      "        True if the polygon is convex. False otherwise.\n",
      "      \n",
      "\n"
     ]
    }
   ],
   "source": [
    "print(polygon.closest_point_on_poly.__doc__)"
   ]
  },
  {
   "cell_type": "markdown",
   "metadata": {},
   "source": [
    "## XYPolygon - Export SegList"
   ]
  },
  {
   "cell_type": "code",
   "execution_count": null,
   "metadata": {},
   "outputs": [
    {
     "name": "stdout",
     "output_type": "stream",
     "text": [
      "exportSegList(self: pyivp.XYPolygon, x: float = 0, y: float = 0) -> pyivp.XYSegList\n",
      "\n",
      "\n",
      "      Build an XYSegList from the polygon. Make the first point in the XYSegList the point in the polygon that is closest to the x,y point.\n",
      "\n",
      "      Inputs:\n",
      "        x: x coord of the given point. Defaults to 0.\n",
      "        y: y coord of the given point. Defaults to 0.\n",
      "\n",
      "      Returns:\n",
      "        The XYSegList built from the polygon.\n",
      "      \n",
      "\n"
     ]
    }
   ],
   "source": [
    "print(polygon.exportSegList.__doc__)"
   ]
  },
  {
   "cell_type": "code",
   "execution_count": null,
   "metadata": {},
   "outputs": [
    {
     "data": {
      "text/plain": [
       "'pts={0,0:1,0:1,1:0,1}'"
      ]
     },
     "execution_count": null,
     "metadata": {},
     "output_type": "execute_result"
    }
   ],
   "source": [
    "polygon = pyivp.XYPolygon()\n",
    "polygon.add_vertex(0, 0, True)\n",
    "polygon.add_vertex(1, 0, True)\n",
    "polygon.add_vertex(1, 1, True)\n",
    "polygon.add_vertex(0, 1, True)\n",
    "\n",
    "seg_list = pyivp.XYSegList()\n",
    "seg_list = polygon.exportSegList()\n",
    "seg_list.get_spec(\"\")"
   ]
  },
  {
   "cell_type": "markdown",
   "metadata": {},
   "source": [
    "## XYPolygon - Cross Product Settle"
   ]
  },
  {
   "cell_type": "code",
   "execution_count": null,
   "metadata": {},
   "outputs": [
    {
     "name": "stdout",
     "output_type": "stream",
     "text": [
      "crossProductSettle(self: pyivp.XYPolygon) -> pyivp.XYPolygon\n",
      "\n",
      "\n",
      "      If this polygon is nonconvex, try to make it convex by repeatedly removing middle points of the three-point group that is most colinear in the polygon.\n",
      "\n",
      "      Inputs:\n",
      "        None\n",
      "\n",
      "      Returns:\n",
      "        The convex XYSegList.\n",
      "      \n",
      "\n"
     ]
    }
   ],
   "source": [
    "print(polygon.crossProductSettle.__doc__)"
   ]
  },
  {
   "cell_type": "code",
   "execution_count": null,
   "metadata": {},
   "outputs": [],
   "source": [
    "polygon = pyivp.XYPolygon()\n",
    "polygon.add_vertex(0, 0, True)\n",
    "polygon.add_vertex(1, 0, True)\n",
    "polygon.add_vertex(1, 1, True)\n",
    "polygon.add_vertex(0, 1, True)\n",
    "\n",
    "convex_polygon = polygon.crossProductSettle()"
   ]
  },
  {
   "cell_type": "markdown",
   "metadata": {},
   "source": [
    "## XYPolygon - Min Xproduct"
   ]
  },
  {
   "cell_type": "code",
   "execution_count": null,
   "metadata": {},
   "outputs": [
    {
     "name": "stdout",
     "output_type": "stream",
     "text": [
      "min_xproduct(self: pyivp.XYPolygon, ok: bool) -> int\n",
      "\n",
      "\n",
      "      Find the vertex with the minimum cross product formed by \n",
      "      (1) the preceding vertex, \n",
      "      (2) itself and \n",
      "      (3) the following vertex.\n",
      "\n",
      "      Inputs:\n",
      "        ok: True if vertices is more than three. False otherwise.\n",
      "\n",
      "      Returns:\n",
      "        The index of the vertex having the min cross product.\n",
      "      \n",
      "\n"
     ]
    }
   ],
   "source": [
    "print(polygon.min_xproduct.__doc__)"
   ]
  },
  {
   "cell_type": "code",
   "execution_count": null,
   "metadata": {},
   "outputs": [
    {
     "data": {
      "text/plain": [
       "0"
      ]
     },
     "execution_count": null,
     "metadata": {},
     "output_type": "execute_result"
    }
   ],
   "source": [
    "polygon = pyivp.XYPolygon()\n",
    "polygon.add_vertex(0, 0, True)\n",
    "polygon.add_vertex(1, 0, True)\n",
    "polygon.add_vertex(1, 1, True)\n",
    "polygon.add_vertex(0, 1, True)\n",
    "\n",
    "ix = -1\n",
    "ok = True\n",
    "ix = polygon.min_xproduct(ok)\n",
    "ix"
   ]
  }
 ],
 "metadata": {
  "kernelspec": {
   "display_name": "Python 3 (ipykernel)",
   "language": "python",
   "name": "python3"
  }
 },
 "nbformat": 4,
 "nbformat_minor": 2
}
