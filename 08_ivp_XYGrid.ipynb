{
 "cells": [
  {
   "cell_type": "code",
   "execution_count": null,
   "id": "ae8c11ed",
   "metadata": {},
   "outputs": [],
   "source": [
    "#hide\n",
    "from nbdev.showdoc import *"
   ]
  },
  {
   "cell_type": "code",
   "execution_count": null,
   "id": "47972856",
   "metadata": {},
   "outputs": [
    {
     "name": "stdout",
     "output_type": "stream",
     "text": [
      "make -C src\n",
      "make[1]: Entering directory '/home/arg/pyivp/src'\n",
      "mkdir build; cd build; cmake ..; make\n",
      "mkdir: cannot create directory ‘build’: File exists\n",
      "-------------------------------------------------------Use UTM:ON\n",
      "+++++++++++++++++++++++++++++++++++++++++\n",
      "IVP_GUI_CODE will be built......         \n",
      "+++++++++++++++++++++++++++++++++++++++++\n",
      "USING UTM\n",
      "+++++++++++++++++++++++++++++++++++++++++\n",
      "IVP_LIB_DIRECTORY:/usr/local/lib/\n",
      "+++++++++++++++++++++++++++++++++++++++++\n",
      "Bin directory: /home/arg/bin\n",
      "Include directory: /usr/local/include\n",
      "Lib directory: /usr/local/lib/\n",
      "-- Configuring done\n",
      "-- Generating done\n",
      "-- Build files have been written to: /home/arg/pyivp/src/build\n",
      "make[2]: Entering directory '/home/arg/pyivp/src/build'\n",
      "make[3]: Entering directory '/home/arg/pyivp/src/build'\n",
      "make[4]: Entering directory '/home/arg/pyivp/src/build'\n",
      "make[4]: Leaving directory '/home/arg/pyivp/src/build'\n",
      "[ 23%] Built target mbutil\n",
      "make[4]: Entering directory '/home/arg/pyivp/src/build'\n",
      "make[4]: Leaving directory '/home/arg/pyivp/src/build'\n",
      "[100%] Built target geometry\n",
      "make[3]: Leaving directory '/home/arg/pyivp/src/build'\n",
      "make[2]: Leaving directory '/home/arg/pyivp/src/build'\n",
      "make[1]: Leaving directory '/home/arg/pyivp/src'\n",
      "make -C src_unit_tests \n",
      "make[1]: Entering directory '/home/arg/pyivp/src_unit_tests'\n",
      "mkdir build; cd build; cmake ..; make; \n",
      "mkdir: cannot create directory ‘build’: File exists\n",
      " Apps to be built: utest;testConvexHull;testLeftTurn;testIncIntString;testLineCircleIntPts;testSegCircleIntPts;testArcSegCross;testArcSegCrossPts;testDistPointOnArc;testDistPointToArc;testDistPointToArcPt;testDistPtsOnArc;testDistSegToArc;testAngleDiff;testAngleInArc;testSegRayCPA;testPolyRayCPA;testBearingMinMaxToPoly;testDistPointToRay;testCpasRaySegl;testCpasArcSegl\n",
      "-- Configuring done\n",
      "-- Generating done\n",
      "-- Build files have been written to: /home/arg/pyivp/src_unit_tests/build\n",
      "make[2]: Entering directory '/home/arg/pyivp/src_unit_tests/build'\n",
      "make[3]: Entering directory '/home/arg/pyivp/src_unit_tests/build'\n",
      "make[4]: Entering directory '/home/arg/pyivp/src_unit_tests/build'\n",
      "make[4]: Leaving directory '/home/arg/pyivp/src_unit_tests/build'\n",
      "[  6%] Built target utest\n",
      "make[4]: Entering directory '/home/arg/pyivp/src_unit_tests/build'\n",
      "make[4]: Leaving directory '/home/arg/pyivp/src_unit_tests/build'\n",
      "[ 11%] Built target testConvexHull\n",
      "make[4]: Entering directory '/home/arg/pyivp/src_unit_tests/build'\n",
      "make[4]: Leaving directory '/home/arg/pyivp/src_unit_tests/build'\n",
      "[ 16%] Built target testLeftTurn\n",
      "make[4]: Entering directory '/home/arg/pyivp/src_unit_tests/build'\n",
      "make[4]: Leaving directory '/home/arg/pyivp/src_unit_tests/build'\n",
      "[ 20%] Built target testIncIntString\n",
      "make[4]: Entering directory '/home/arg/pyivp/src_unit_tests/build'\n",
      "make[4]: Leaving directory '/home/arg/pyivp/src_unit_tests/build'\n",
      "[ 25%] Built target testLineCircleIntPts\n",
      "make[4]: Entering directory '/home/arg/pyivp/src_unit_tests/build'\n",
      "make[4]: Leaving directory '/home/arg/pyivp/src_unit_tests/build'\n",
      "[ 30%] Built target testSegCircleIntPts\n",
      "make[4]: Entering directory '/home/arg/pyivp/src_unit_tests/build'\n",
      "make[4]: Leaving directory '/home/arg/pyivp/src_unit_tests/build'\n",
      "[ 34%] Built target testArcSegCross\n",
      "make[4]: Entering directory '/home/arg/pyivp/src_unit_tests/build'\n",
      "make[4]: Leaving directory '/home/arg/pyivp/src_unit_tests/build'\n",
      "[ 39%] Built target testArcSegCrossPts\n",
      "make[4]: Entering directory '/home/arg/pyivp/src_unit_tests/build'\n",
      "make[4]: Leaving directory '/home/arg/pyivp/src_unit_tests/build'\n",
      "[ 44%] Built target testDistPointOnArc\n",
      "make[4]: Entering directory '/home/arg/pyivp/src_unit_tests/build'\n",
      "make[4]: Leaving directory '/home/arg/pyivp/src_unit_tests/build'\n",
      "[ 48%] Built target testDistPointToArc\n",
      "make[4]: Entering directory '/home/arg/pyivp/src_unit_tests/build'\n",
      "make[4]: Leaving directory '/home/arg/pyivp/src_unit_tests/build'\n",
      "[ 53%] Built target testDistPointToArcPt\n",
      "make[4]: Entering directory '/home/arg/pyivp/src_unit_tests/build'\n",
      "make[4]: Leaving directory '/home/arg/pyivp/src_unit_tests/build'\n",
      "[ 58%] Built target testDistPtsOnArc\n",
      "make[4]: Entering directory '/home/arg/pyivp/src_unit_tests/build'\n",
      "make[4]: Leaving directory '/home/arg/pyivp/src_unit_tests/build'\n",
      "[ 62%] Built target testDistSegToArc\n",
      "make[4]: Entering directory '/home/arg/pyivp/src_unit_tests/build'\n",
      "make[4]: Leaving directory '/home/arg/pyivp/src_unit_tests/build'\n",
      "[ 67%] Built target testAngleDiff\n",
      "make[4]: Entering directory '/home/arg/pyivp/src_unit_tests/build'\n",
      "make[4]: Leaving directory '/home/arg/pyivp/src_unit_tests/build'\n",
      "[ 72%] Built target testAngleInArc\n",
      "make[4]: Entering directory '/home/arg/pyivp/src_unit_tests/build'\n",
      "make[4]: Leaving directory '/home/arg/pyivp/src_unit_tests/build'\n",
      "[ 76%] Built target testSegRayCPA\n",
      "make[4]: Entering directory '/home/arg/pyivp/src_unit_tests/build'\n",
      "make[4]: Leaving directory '/home/arg/pyivp/src_unit_tests/build'\n",
      "[ 81%] Built target testPolyRayCPA\n",
      "make[4]: Entering directory '/home/arg/pyivp/src_unit_tests/build'\n",
      "make[4]: Leaving directory '/home/arg/pyivp/src_unit_tests/build'\n",
      "[ 86%] Built target testBearingMinMaxToPoly\n",
      "make[4]: Entering directory '/home/arg/pyivp/src_unit_tests/build'\n",
      "make[4]: Leaving directory '/home/arg/pyivp/src_unit_tests/build'\n",
      "[ 90%] Built target testDistPointToRay\n",
      "make[4]: Entering directory '/home/arg/pyivp/src_unit_tests/build'\n",
      "make[4]: Leaving directory '/home/arg/pyivp/src_unit_tests/build'\n",
      "[ 95%] Built target testCpasRaySegl\n",
      "make[4]: Entering directory '/home/arg/pyivp/src_unit_tests/build'\n",
      "make[4]: Leaving directory '/home/arg/pyivp/src_unit_tests/build'\n",
      "[100%] Built target testCpasArcSegl\n",
      "make[3]: Leaving directory '/home/arg/pyivp/src_unit_tests/build'\n",
      "make[2]: Leaving directory '/home/arg/pyivp/src_unit_tests/build'\n",
      "make[1]: Leaving directory '/home/arg/pyivp/src_unit_tests'\n",
      "make -C src/pybind11 \n",
      "make[1]: Entering directory '/home/arg/pyivp/src/pybind11'\n",
      "mkdir build; cd build; cmake ..; make; make install\n",
      "mkdir: cannot create directory ‘build’: File exists\n",
      "-- Configuring done\n",
      "-- Generating done\n",
      "-- Build files have been written to: /home/arg/pyivp/src/pybind11/build\n",
      "make[2]: Entering directory '/home/arg/pyivp/src/pybind11/build'\n",
      "make[3]: Entering directory '/home/arg/pyivp/src/pybind11/build'\n",
      "make[4]: Entering directory '/home/arg/pyivp/src/pybind11/build'\n",
      "\u001b[35m\u001b[1mScanning dependencies of target pyivp\u001b[0m\n",
      "make[4]: Leaving directory '/home/arg/pyivp/src/pybind11/build'\n",
      "make[4]: Entering directory '/home/arg/pyivp/src/pybind11/build'\n",
      "[  1%] \u001b[32mBuilding CXX object CMakeFiles/pyivp.dir/XYGrid.cpp.o\u001b[0m\n",
      "[  2%] \u001b[32m\u001b[1mLinking CXX shared module pyivp.cpython-39-x86_64-linux-gnu.so\u001b[0m\n",
      "make[4]: Leaving directory '/home/arg/pyivp/src/pybind11/build'\n",
      "[100%] Built target pyivp\n",
      "make[3]: Leaving directory '/home/arg/pyivp/src/pybind11/build'\n",
      "make[2]: Leaving directory '/home/arg/pyivp/src/pybind11/build'\n",
      "make[2]: Entering directory '/home/arg/pyivp/src/pybind11/build'\n",
      "make[3]: Entering directory '/home/arg/pyivp/src/pybind11/build'\n",
      "make[4]: Entering directory '/home/arg/pyivp/src/pybind11/build'\n",
      "make[4]: Leaving directory '/home/arg/pyivp/src/pybind11/build'\n",
      "[100%] Built target pyivp\n",
      "make[3]: Leaving directory '/home/arg/pyivp/src/pybind11/build'\n",
      "\u001b[36mInstall the project...\u001b[0m\n",
      "-- Install configuration: \"Release\"\n",
      "-- Installing: /home/arg/miniconda3/envs/movingpandas/lib/python3.9/site-packages/pyivp.cpython-39-x86_64-linux-gnu.so\n",
      "make[2]: Leaving directory '/home/arg/pyivp/src/pybind11/build'\n",
      "make[1]: Leaving directory '/home/arg/pyivp/src/pybind11'\n",
      "nbdev_clean_nbs\n",
      "cd src_unit_tests; ./alltest.sh\n",
      "===========================================\n",
      "NOTE: build  has no cases.utf file to check\n",
      "===========================================\n",
      "===========================================\n",
      "Checking: testAngleDiff/cases.utf\n",
      "===========================================\n",
      "Testing file: cases.utf\n",
      " Line 2 OK \n",
      " Line 3 OK \n",
      " Line 4 OK \n",
      " Line 6 OK \n",
      " Line 8 OK \n",
      " Line 9 OK \n",
      " Line 10 OK \n",
      " Line 11 OK \n",
      " Line 12 OK \n",
      " Line 13 OK \n",
      " Line 14 OK \n",
      " Line 15 OK \n",
      " Line 16 OK \n",
      " Line 17 OK \n",
      " Line 18 OK \n",
      " Line 19 OK \n",
      " Line 20 OK \n",
      " Line 21 OK \n",
      " Line 22 OK \n",
      " Line 23 OK \n",
      " Line 24 OK \n",
      "===========================================\n",
      "Checking: testAngleInArc/cases.utf\n",
      "===========================================\n",
      "Testing file: cases.utf\n",
      " Line 2 OK \n",
      " Line 3 OK \n",
      " Line 4 OK \n",
      " Line 5 OK \n",
      " Line 6 OK \n",
      " Line 7 OK \n",
      " Line 8 OK \n",
      " Line 10 OK \n",
      " Line 11 OK \n",
      " Line 13 OK \n",
      " Line 14 OK \n",
      " Line 16 OK \n",
      " Line 17 OK \n",
      " Line 21 OK \n",
      "===========================================\n",
      "Checking: testArcSegCross/cases.utf\n",
      "===========================================\n",
      "Testing file: cases.utf\n",
      " Line 2 OK \n",
      " Line 3 OK \n",
      " Line 4 OK \n",
      "===========================================\n",
      "Checking: testArcSegCrossPts/cases.utf\n",
      "===========================================\n",
      "Testing file: cases.utf\n",
      " Line 2 OK \n",
      " Line 3 OK \n",
      " Line 6 OK \n",
      "===========================================\n",
      "Checking: testBearingMinMaxToPoly/cases.utf\n",
      "===========================================\n",
      "Testing file: cases.utf\n"
     ]
    },
    {
     "name": "stdout",
     "output_type": "stream",
     "text": [
      " Line 3 FAIL \n",
      "sys_cmd: [testBearingMinMaxToPoly poly=250,-50:275,-50:275,-25:250,-25  px=15 py=5]\n",
      "results: [bmin=96.58,bmax=103.17]\n",
      "expected:[bmin=96.58,bmax=97.28]\n",
      " Line 4 FAIL \n",
      "sys_cmd: [testBearingMinMaxToPoly poly=250,-50:275,-50:275,-25:250,-25  px=15 py=-40]\n",
      "results: [bmin=86.35,bmax=92.44]\n",
      "expected:[bmin=86.35,bmax=92.44]\n",
      "Failed on test file: cases.utf\n",
      "===========================================\n",
      "Checking: testConvexHull/cases.utf\n",
      "===========================================\n",
      "Testing file: cases.utf\n",
      " Line 3 FAIL \n",
      "sys_cmd: [testSegRayCPA pts={107.5,-53.5:112,-43.8:112,-46.1:111.7,-49.3:108.3,-52.7:107.7,-53.3}]\n",
      "results: [Error:arg[pts={107.5,-53.5:112,-43.8:112,-46.1:111.7,-49.3:108.3,-52.7:107.7,-53.3}]Exiting.]\n",
      "expected:[]\n",
      "Failed on test file: cases.utf\n",
      "===========================================\n",
      "Checking: testCpasArcSegl/cases.utf\n",
      "===========================================\n",
      "Testing file: cases.utf\n",
      " Line 4 OK \n",
      " Line 9 OK \n",
      " Line 13 OK \n",
      "===========================================\n",
      "Checking: testCpasRaySegl/cases.utf\n",
      "===========================================\n",
      "Testing file: cases.utf\n",
      " Line 3 OK \n",
      " Line 6 OK \n",
      " Line 9 OK \n",
      " Line 14 OK \n",
      "===========================================\n",
      "Checking: testDistPointOnArc/cases.utf\n",
      "===========================================\n",
      "Testing file: cases.utf\n",
      " Line 3 OK \n",
      " Line 4 OK \n",
      " Line 6 OK \n",
      " Line 7 OK \n",
      "===========================================\n",
      "Checking: testDistPointToArc/cases.utf\n",
      "===========================================\n",
      "Testing file: cases.utf\n",
      " Line 3 OK \n",
      " Line 4 OK \n",
      " Line 5 OK \n",
      " Line 6 OK \n",
      " Line 8 OK \n",
      " Line 9 OK \n",
      " Line 10 OK \n",
      "===========================================\n",
      "Checking: testDistPointToArcPt/cases.utf\n",
      "===========================================\n",
      "Testing file: cases.utf\n",
      " Line 5 OK \n",
      " Line 9 OK \n",
      " Line 13 OK \n",
      " Line 17 OK \n",
      " Line 21 OK \n",
      " Line 26 OK \n",
      "===========================================\n",
      "Checking: testDistPointToRay/cases.utf\n",
      "===========================================\n",
      "Testing file: cases.utf\n",
      " Line 3 OK \n",
      " Line 5 OK \n",
      " Line 6 OK \n",
      " Line 7 OK \n",
      " Line 9 OK \n",
      "===========================================\n",
      "Checking: testDistPtsOnArc/cases.utf\n",
      "===========================================\n",
      "Testing file: cases.utf\n",
      "===========================================\n",
      "Checking: testDistSegListToArc/cases.utf\n",
      "===========================================\n",
      "Testing file: cases.utf\n",
      " Line 3 OK \n",
      " Line 4 OK \n",
      " Line 6 OK \n",
      " Line 7 OK \n",
      " Line 8 OK \n",
      " Line 10 OK \n",
      " Line 13 OK \n",
      " Line 14 OK \n",
      "===========================================\n",
      "Checking: testDistSegToArc/cases.utf\n",
      "===========================================\n",
      "Testing file: cases.utf\n",
      " Line 3 OK \n",
      " Line 4 OK \n",
      " Line 6 OK \n",
      " Line 7 OK \n",
      " Line 8 OK \n",
      " Line 10 OK \n",
      " Line 13 OK \n",
      " Line 14 OK \n",
      " Line 16 OK \n",
      "===========================================\n",
      "Checking: testIncIntString/cases.utf\n",
      "===========================================\n",
      "Testing file: cases.utf\n",
      " Line 2 FAIL \n",
      "sys_cmd: [testIncIntString str=foo23       amt=1  keep=true]\n",
      "results: [new_str=24]\n",
      "expected:[new_str=foo24]\n",
      " Line 3 FAIL \n",
      "sys_cmd: [testIncIntString str=foo23bar    amt=3  keep=true]\n",
      "results: [new_str=26]\n",
      "expected:[new_str=foo26]\n",
      " Line 4 FAIL \n",
      "sys_cmd: [testIncIntString str=foo23bar34  amt=1  keep=true]\n",
      "results: [new_str=2335]\n",
      "expected:[new_str=foo2335]\n",
      " Line 7 OK \n",
      " Line 8 OK \n",
      "Failed on test file: cases.utf\n",
      "===========================================\n",
      "Checking: testLeftTurn/cases.utf\n",
      "===========================================\n",
      "Testing file: cases.utf\n",
      " Line 2 FAIL \n",
      "sys_cmd: [testLeftTurn x1=0 y1=0 x2=0 y2=40 x3=50 y3=40]\n",
      "results: [left_turn=false]\n",
      "expected:[left_turn=true]\n",
      " Line 3 OK \n",
      "Failed on test file: cases.utf\n",
      "===========================================\n",
      "NOTE: testLineCircleIntPts  has no cases.utf file to check\n",
      "===========================================\n",
      "===========================================\n",
      "Checking: testPolyRayCPA/cases.utf\n",
      "===========================================\n",
      "Testing file: cases.utf\n",
      " Line 3 OK \n",
      " Line 4 OK \n",
      " Line 5 OK \n",
      " Line 6 OK \n",
      "===========================================\n",
      "Checking: testSegCircleIntPts/cases.utf\n",
      "===========================================\n",
      "Testing file: cases.utf\n",
      " Line 2 OK \n",
      " Line 3 OK \n",
      " Line 5 OK \n",
      " Line 6 OK \n",
      " Line 8 OK \n",
      "===========================================\n",
      "Checking: testSegRayCPA/cases.utf\n",
      "===========================================\n",
      "Testing file: cases.utf\n",
      " Line 3 OK \n",
      " Line 4 OK \n",
      "===========================================\n",
      "Checking: utest/cases.utf\n",
      "===========================================\n",
      "Testing file: cases.utf\n",
      " Line 3 OK \n",
      " Line 4 OK \n",
      " Line 5 OK \n",
      " Line 6 OK \n",
      " Line 7 OK \n",
      " Line 8 OK \n",
      " Line 10 OK \n",
      "===========================================\n",
      "Checking: utgen/cases.utf\n",
      "===========================================\n",
      "Testing file: cases.utf\n",
      " Line 3 OK \n",
      " Line 4 OK \n",
      " Line 5 OK \n",
      " Line 6 OK \n",
      " Line 7 OK \n",
      " Line 8 OK \n",
      " Line 10 OK \n",
      "cd src/pytest; python3 test_pattern_block.py\n",
      "== Test package and local function. ==\n",
      "C++ result x plus y is: 3\n",
      "Python result x plus y is:  3\n",
      "== Test XYPoint ==\n",
      "x=0,y=0\n",
      "x=10,y=15\n"
     ]
    }
   ],
   "source": [
    "! cd ~/pyivp && make"
   ]
  },
  {
   "cell_type": "code",
   "execution_count": null,
   "id": "a134d0dc",
   "metadata": {},
   "outputs": [],
   "source": [
    "import pyivp"
   ]
  },
  {
   "cell_type": "code",
   "execution_count": null,
   "id": "2625922f",
   "metadata": {},
   "outputs": [],
   "source": [
    "py8 = pyivp.XYGrid()"
   ]
  },
  {
   "cell_type": "markdown",
   "id": "6f2a5b5d",
   "metadata": {},
   "source": [
    "# Initialize"
   ]
  },
  {
   "cell_type": "code",
   "execution_count": null,
   "id": "cf06cb55",
   "metadata": {},
   "outputs": [
    {
     "name": "stdout",
     "output_type": "stream",
     "text": [
      "initialize(self: pyivp.XYGrid, given_config_str: str) -> bool\n",
      "\n",
      "generate sqaure blocks to surround points(which generate a polygon)\n",
      "\n",
      "Input:\n",
      "    defined string (type:str)\n",
      "defined string example: \n",
      "x1,y1:x2,y2:x3,y3:label,polyname @ dx,dy\n",
      "(at least 3 points can't be hoizontial or vertical line)\n",
      "\n",
      "Return:\n",
      "    input status(type:bool)\n",
      "\n"
     ]
    }
   ],
   "source": [
    "print(py8.initialize.__doc__)"
   ]
  },
  {
   "cell_type": "code",
   "execution_count": null,
   "id": "d088a871",
   "metadata": {},
   "outputs": [
    {
     "name": "stdout",
     "output_type": "stream",
     "text": [
      "5,5:15,15:30,15:20,5:label,triangle1@ 5,5\n",
      "triangle1\n"
     ]
    }
   ],
   "source": [
    "py8.initialize(\"5,5:15,15:30,15:20,5:label,triangle1@ 5,5\")\n",
    "\n",
    "config = py8.getConfigString()\n",
    "print(config)\n",
    "label = py8.getLabel()\n",
    "print(label)"
   ]
  },
  {
   "cell_type": "markdown",
   "id": "9a99aab2",
   "metadata": {},
   "source": [
    "# Functional part\n",
    "simple function of XYGrid e.g. get set  "
   ]
  },
  {
   "cell_type": "markdown",
   "id": "d5e913f1",
   "metadata": {},
   "source": [
    "## size"
   ]
  },
  {
   "cell_type": "code",
   "execution_count": null,
   "id": "e7b52509",
   "metadata": {},
   "outputs": [
    {
     "name": "stdout",
     "output_type": "stream",
     "text": [
      "size(self: pyivp.XYGrid) -> int\n",
      "\n",
      "get Element size(store how many square)\n",
      "\n",
      "Input:\n",
      "    None\n",
      "\n",
      "Return:\n",
      "    Element list size(type:int)\n",
      "\n"
     ]
    },
    {
     "data": {
      "text/plain": [
       "10"
      ]
     },
     "execution_count": null,
     "metadata": {},
     "output_type": "execute_result"
    }
   ],
   "source": [
    "print(py8.size.__doc__)\n",
    "py8.size() "
   ]
  },
  {
   "cell_type": "markdown",
   "id": "f9854e85",
   "metadata": {},
   "source": [
    "## getElement"
   ]
  },
  {
   "cell_type": "code",
   "execution_count": null,
   "id": "6ec12d3d",
   "metadata": {},
   "outputs": [
    {
     "name": "stdout",
     "output_type": "stream",
     "text": [
      "getElement(self: pyivp.XYGrid, ix: int) -> XYSquare\n",
      "\n",
      "get square element generated by initial\n",
      "\n",
      "Input:\n",
      "    index(type:int)\n",
      "\n",
      "Return:\n",
      "    square info(type:XYSquare)\n",
      "\n"
     ]
    }
   ],
   "source": [
    "print(py8.getElement.__doc__)"
   ]
  },
  {
   "cell_type": "code",
   "execution_count": null,
   "id": "df157d49",
   "metadata": {},
   "outputs": [
    {
     "data": {
      "text/plain": [
       "'xlow=5,xhigh=10,ylow=5,yhigh=10,'"
      ]
     },
     "execution_count": null,
     "metadata": {},
     "output_type": "execute_result"
    }
   ],
   "source": [
    "square = py8.getElement(0)\n",
    "square.get_spec(\"\") #see XYSquare bound"
   ]
  },
  {
   "cell_type": "markdown",
   "id": "7811330e",
   "metadata": {},
   "source": [
    "## setVal"
   ]
  },
  {
   "cell_type": "code",
   "execution_count": null,
   "id": "4698d160",
   "metadata": {},
   "outputs": [
    {
     "name": "stdout",
     "output_type": "stream",
     "text": [
      "setVal(self: pyivp.XYGrid, ix: int, val: float) -> None\n",
      "\n",
      "setVal\n",
      "set value of specific index, if out of range compare with maximum or minimum value\n",
      "\n",
      "Input:\n",
      "    index(type:int)\n",
      "    val(type:double)\n",
      "\n",
      "Return:\n",
      "    none\n",
      "\n"
     ]
    }
   ],
   "source": [
    "print(py8.setVal.__doc__)\n",
    "py8.setVal(1,10)"
   ]
  },
  {
   "cell_type": "markdown",
   "id": "6499560e",
   "metadata": {},
   "source": [
    "## getVal"
   ]
  },
  {
   "cell_type": "code",
   "execution_count": null,
   "id": "fd32ccbf",
   "metadata": {},
   "outputs": [
    {
     "name": "stdout",
     "output_type": "stream",
     "text": [
      "getVal(self: pyivp.XYGrid, ix: int) -> float\n",
      "\n",
      "get value of specific index, if out of range return 0\n",
      "\n",
      "Input:\n",
      "    index(type:int)\n",
      "\n",
      "Return:\n",
      "    value(type:double)\n",
      "\n"
     ]
    }
   ],
   "source": [
    "print(py8.getVal.__doc__)"
   ]
  },
  {
   "cell_type": "code",
   "execution_count": null,
   "id": "bdc234fb",
   "metadata": {},
   "outputs": [
    {
     "data": {
      "text/plain": [
       "10.0"
      ]
     },
     "execution_count": null,
     "metadata": {},
     "output_type": "execute_result"
    }
   ],
   "source": [
    "py8.getVal(1)"
   ]
  },
  {
   "cell_type": "markdown",
   "id": "4bb17f3e",
   "metadata": {},
   "source": [
    "## Special case of setVal"
   ]
  },
  {
   "cell_type": "code",
   "execution_count": null,
   "id": "589d41dc",
   "metadata": {},
   "outputs": [
    {
     "name": "stdout",
     "output_type": "stream",
     "text": [
      "50.0\n",
      "-10.0\n"
     ]
    }
   ],
   "source": [
    "py8.setVal(20,50) #set index out of range -> set maximum\n",
    "py8.setVal(20,-10)#set index out of range -> set minmum\n",
    "print(py8.getMaxVal())\n",
    "print(py8.getMinVal())"
   ]
  },
  {
   "cell_type": "markdown",
   "id": "0ded564e",
   "metadata": {},
   "source": [
    "## getSBound"
   ]
  },
  {
   "cell_type": "code",
   "execution_count": null,
   "id": "27f3591b",
   "metadata": {},
   "outputs": [
    {
     "name": "stdout",
     "output_type": "stream",
     "text": [
      "getSBound(self: pyivp.XYGrid) -> XYSquare\n",
      "\n",
      "get the bounding box(square) of input poly\n",
      "\n",
      "Input:\n",
      "    none\n",
      "\n",
      "Return:\n",
      "    bounding_square(type:XYsquare)\n",
      "\n"
     ]
    }
   ],
   "source": [
    "print(py8.getSBound.__doc__)"
   ]
  },
  {
   "cell_type": "code",
   "execution_count": null,
   "id": "853dadb1",
   "metadata": {},
   "outputs": [
    {
     "data": {
      "text/plain": [
       "'xlow=5,xhigh=30,ylow=5,yhigh=15,'"
      ]
     },
     "execution_count": null,
     "metadata": {},
     "output_type": "execute_result"
    }
   ],
   "source": [
    "Sbound = py8.getSBound()\n",
    "Sbound.get_spec(\"\")#show SBound range"
   ]
  },
  {
   "cell_type": "markdown",
   "id": "e9142f14",
   "metadata": {},
   "source": [
    "## getPBound"
   ]
  },
  {
   "cell_type": "code",
   "execution_count": null,
   "id": "f628c122",
   "metadata": {},
   "outputs": [
    {
     "name": "stdout",
     "output_type": "stream",
     "text": [
      "getPBound(self: pyivp.XYGrid) -> pyivp.XYPolygon\n",
      "\n",
      "get polygon bounding box of your input poly \n",
      "Input:\n",
      "    none\n",
      "\n",
      "Return:\n",
      "    bounding_poly(type:XYPolygon)\n",
      "\n"
     ]
    }
   ],
   "source": [
    "print(py8.getPBound.__doc__)"
   ]
  },
  {
   "cell_type": "code",
   "execution_count": null,
   "id": "eae25846",
   "metadata": {},
   "outputs": [
    {
     "name": "stdout",
     "output_type": "stream",
     "text": [
      "150.0\n",
      "<pyivp.XYPolygon object at 0x7f2c9aeb1070>\n"
     ]
    }
   ],
   "source": [
    "PBound = py8.getPBound()\n",
    "print(PBound.area())\n",
    "print(PBound)"
   ]
  },
  {
   "cell_type": "markdown",
   "id": "6c9b8eb6",
   "metadata": {},
   "source": [
    "## SetUtilRange"
   ]
  },
  {
   "cell_type": "code",
   "execution_count": null,
   "id": "fe960f83",
   "metadata": {},
   "outputs": [
    {
     "name": "stdout",
     "output_type": "stream",
     "text": [
      "setUtilRange(self: pyivp.XYGrid, lval: float, hval: float) -> None\n",
      "\n",
      "set Util maximum & minimum, If utilities have been set prior, they are examined and adjusted (clipped) if they are outside the range.\n",
      "\n",
      "Input:\n",
      "    lval(type:double)\n",
      "    hval(type:double)\n",
      "\n",
      "Return:\n",
      "    none\n",
      "\n"
     ]
    }
   ],
   "source": [
    "print(py8.setUtilRange.__doc__)\n",
    "py8.setUtilRange(-10,10)"
   ]
  },
  {
   "cell_type": "markdown",
   "id": "f2584e9a",
   "metadata": {},
   "source": [
    "## SetUtil"
   ]
  },
  {
   "cell_type": "code",
   "execution_count": null,
   "id": "8805215c",
   "metadata": {},
   "outputs": [
    {
     "name": "stdout",
     "output_type": "stream",
     "text": [
      "setUtil(self: pyivp.XYGrid, ix: int, val: float) -> None\n",
      "\n",
      "set Util of specific index, if out of range compare with maximum or minimum Util\n",
      "\n",
      "Input:\n",
      "    index(type:int)\n",
      "    val(type:double)\n",
      "\n",
      "Return:\n",
      "    none\n",
      "\n"
     ]
    }
   ],
   "source": [
    "print(py8.setUtil.__doc__)\n",
    "py8.setUtil(0,5)"
   ]
  },
  {
   "cell_type": "markdown",
   "id": "532ccd38",
   "metadata": {},
   "source": [
    "## getUtil"
   ]
  },
  {
   "cell_type": "code",
   "execution_count": null,
   "id": "96d74a6a",
   "metadata": {},
   "outputs": [
    {
     "name": "stdout",
     "output_type": "stream",
     "text": [
      "5.0\n"
     ]
    }
   ],
   "source": [
    "print(py8.getUtil(0))"
   ]
  },
  {
   "cell_type": "markdown",
   "id": "4a3d0947",
   "metadata": {},
   "source": [
    "## getMinUtilPoss"
   ]
  },
  {
   "cell_type": "code",
   "execution_count": null,
   "id": "bcb04e30",
   "metadata": {},
   "outputs": [
    {
     "name": "stdout",
     "output_type": "stream",
     "text": [
      "getMinUtilPoss(self: pyivp.XYGrid) -> float\n",
      "\n",
      "get lval of setUtilRange(defult:0)\n",
      "\n",
      "Input:\n",
      "    none\n",
      "\n",
      "Return:\n",
      "    min_util_possible(type:double)\n",
      "\n"
     ]
    }
   ],
   "source": [
    "print(py8.getMinUtilPoss.__doc__)"
   ]
  },
  {
   "cell_type": "code",
   "execution_count": null,
   "id": "95bc00c0",
   "metadata": {},
   "outputs": [
    {
     "name": "stdout",
     "output_type": "stream",
     "text": [
      "-10.0\n"
     ]
    }
   ],
   "source": [
    "print(py8.getMinUtilPoss())"
   ]
  },
  {
   "cell_type": "markdown",
   "id": "c476f745",
   "metadata": {},
   "source": [
    "## getMaxUtilPoss"
   ]
  },
  {
   "cell_type": "code",
   "execution_count": null,
   "id": "8ad2be11",
   "metadata": {},
   "outputs": [
    {
     "name": "stdout",
     "output_type": "stream",
     "text": [
      "getMaxUtilPoss(self: pyivp.XYGrid) -> float\n",
      "\n",
      "get hval of setUtilRange(defult:1)\n",
      "\n",
      "Input:\n",
      "    none\n",
      "\n",
      "Return:\n",
      "    max_util_possible(type:double)\n",
      "\n"
     ]
    }
   ],
   "source": [
    "print(py8.getMaxUtilPoss.__doc__)"
   ]
  },
  {
   "cell_type": "code",
   "execution_count": null,
   "id": "500c0e28",
   "metadata": {},
   "outputs": [
    {
     "name": "stdout",
     "output_type": "stream",
     "text": [
      "10.0\n"
     ]
    }
   ],
   "source": [
    "print(py8.getMaxUtilPoss())"
   ]
  },
  {
   "cell_type": "markdown",
   "id": "49be5546",
   "metadata": {},
   "source": [
    "# Advance Function part\n",
    "advance function like handleSegment, resetFromMin, ptIntersect"
   ]
  },
  {
   "cell_type": "code",
   "execution_count": null,
   "id": "45831e30",
   "metadata": {},
   "outputs": [
    {
     "name": "stdout",
     "output_type": "stream",
     "text": [
      "preset value of index 0 to: -1.0\n",
      "\n",
      "handleSegment(self: pyivp.XYGrid, x1: float, y1: float, x2: float, y2: float) -> None\n",
      "\n",
      "calculate the intersection length of square in element and line (generate from 2point of input),then store in val\n",
      "\n",
      "Input:\n",
      "    x1(type:double)\n",
      "    y1(type:double)\n",
      "    x2(type:double)\n",
      "    y2(type:double)\n",
      "\n",
      "Return:\n",
      "    None\n",
      "\n",
      "line of(10,0)->(10,20) and square Element's segment: 5.0\n"
     ]
    }
   ],
   "source": [
    "# set Value of index 0 to -1 \n",
    "py8.setVal(0,-1)\n",
    "print('preset value of index 0 to:', end=' ')\n",
    "print(py8.getVal(0))\n",
    "print('')\n",
    "#do handleSegment\n",
    "print(py8.handleSegment.__doc__)\n",
    "py8.handleSegment(10,0,10,20)\n",
    "print(\"line of(10,0)->(10,20) and square Element's segment:\", end=\" \")\n",
    "print(py8.getVal(0))"
   ]
  },
  {
   "cell_type": "markdown",
   "id": "0fff1050",
   "metadata": {},
   "source": [
    "## resetFromMin"
   ]
  },
  {
   "cell_type": "code",
   "execution_count": null,
   "id": "2d056704",
   "metadata": {},
   "outputs": [
    {
     "name": "stdout",
     "output_type": "stream",
     "text": [
      "resetFromMin(self: pyivp.XYGrid) -> None\n",
      "\n",
      "minus all value by minimum value\n",
      "\n",
      "Input:\n",
      "    None\n",
      "\n",
      "Return:\n",
      "    None\n",
      "\n",
      "value of index 0: 5.0\n",
      "value of min: -10.0\n",
      "value of index 0 after resetFromMin: 15.0\n"
     ]
    }
   ],
   "source": [
    "print(py8.resetFromMin.__doc__)\n",
    "print('value of index 0:', end=\" \")\n",
    "print(py8.getVal(0))\n",
    "\n",
    "print('value of min:', end=\" \")\n",
    "print(py8.getMinVal())\n",
    "\n",
    "py8.resetFromMin()\n",
    "print('value of index 0 after resetFromMin:', end=\" \")\n",
    "print(py8.getVal(0))"
   ]
  },
  {
   "cell_type": "markdown",
   "id": "071754e1",
   "metadata": {},
   "source": [
    "## ptIntersect"
   ]
  },
  {
   "cell_type": "code",
   "execution_count": null,
   "id": "49d2e380",
   "metadata": {},
   "outputs": [
    {
     "name": "stdout",
     "output_type": "stream",
     "text": [
      "ptIntersect(self: pyivp.XYGrid, x: float, y: float) -> bool\n",
      "\n",
      "Determine is a given point is contained within the grid, i.e., within any one element\n",
      "\n",
      "Input:\n",
      "    x(type:double)\n",
      "    y(type:double)\n",
      "\n",
      "Return:\n",
      "    True/False(type:bool)\n",
      "\n"
     ]
    }
   ],
   "source": [
    "print(py8.ptIntersect.__doc__)"
   ]
  },
  {
   "cell_type": "code",
   "execution_count": null,
   "id": "3de8cc6f",
   "metadata": {},
   "outputs": [
    {
     "name": "stdout",
     "output_type": "stream",
     "text": [
      "Intersetion between points and square element? point(10,10)\n",
      "True\n",
      "Intersetion between points and square element? point(0,0)\n",
      "False\n"
     ]
    }
   ],
   "source": [
    "print('Intersetion between points and square element?' +  \" point(10,10)\")\n",
    "print(py8.ptIntersect(10,10))\n",
    "print('Intersetion between points and square element?' +  \" point(0,0)\")\n",
    "print(py8.ptIntersect(0,0))"
   ]
  },
  {
   "cell_type": "markdown",
   "id": "8fd75cbe",
   "metadata": {},
   "source": [
    "## ptIntersectBound"
   ]
  },
  {
   "cell_type": "code",
   "execution_count": null,
   "id": "f1419a90",
   "metadata": {},
   "outputs": [
    {
     "name": "stdout",
     "output_type": "stream",
     "text": [
      "ptIntersectBound(self: pyivp.XYGrid, x: float, y: float) -> bool\n",
      "\n",
      "Determine is a given point is contained within the bounding box of all grid squares, i.e., within any one element\n",
      "\n",
      "Input:\n",
      "    x(type:double)\n",
      "    y(type:double)\n",
      "\n",
      "Return:\n",
      "    True/False(type:bool)\n",
      "\n"
     ]
    }
   ],
   "source": [
    "print(py8.ptIntersectBound.__doc__)"
   ]
  },
  {
   "cell_type": "code",
   "execution_count": null,
   "id": "3d8a7fcf",
   "metadata": {},
   "outputs": [
    {
     "name": "stdout",
     "output_type": "stream",
     "text": [
      "Intersetion between points and square bounding box? point(10,10)\n",
      "True\n",
      "Intersetion between points and square bounding box? point(0,0)\n",
      "False\n"
     ]
    }
   ],
   "source": [
    "print('Intersetion between points and square bounding box?' +  \" point(10,10)\")\n",
    "print(py8.ptIntersectBound(10,10))\n",
    "print('Intersetion between points and square bounding box?' +  \" point(0,0)\")\n",
    "print(py8.ptIntersectBound(0,0))"
   ]
  },
  {
   "cell_type": "markdown",
   "id": "0038dd22",
   "metadata": {},
   "source": [
    "## segIntersectBound"
   ]
  },
  {
   "cell_type": "code",
   "execution_count": null,
   "id": "0e68e4ed",
   "metadata": {},
   "outputs": [
    {
     "name": "stdout",
     "output_type": "stream",
     "text": [
      "segIntersectBound(self: pyivp.XYGrid, x1: float, y1: float, x2: float, y2: float) -> bool\n",
      "\n",
      "Determine is a given line segment(generated by 2 points input) intersects the bounding box of all grid squares.\n",
      "\n",
      "Input:\n",
      "    x1(type:double)\n",
      "    y1(type:double)\n",
      "    x2(type:double)\n",
      "    y2(type:double)\n",
      "\n",
      "Return:\n",
      "    True/False(type:bool)\n",
      "\n"
     ]
    }
   ],
   "source": [
    "print(py8.segIntersectBound.__doc__)"
   ]
  },
  {
   "cell_type": "code",
   "execution_count": null,
   "id": "1c5506d9",
   "metadata": {},
   "outputs": [
    {
     "name": "stdout",
     "output_type": "stream",
     "text": [
      "Intersetion between segment line and square bounding box? line (0,0)->(10,10)\n",
      "True\n",
      "Intersetion between segment line and square bounding box? line (20,20)->(30,30)\n",
      "False\n"
     ]
    }
   ],
   "source": [
    "print('Intersetion between segment line and square bounding box?' +  \" line (0,0)->(10,10)\")\n",
    "print(py8.segIntersectBound(0,0,10,10))\n",
    "print('Intersetion between segment line and square bounding box?' +  \" line (20,20)->(30,30)\")\n",
    "print(py8.segIntersectBound(20,20,30,30))"
   ]
  },
  {
   "cell_type": "markdown",
   "id": "fe599261",
   "metadata": {},
   "source": [
    "## processDelta"
   ]
  },
  {
   "cell_type": "code",
   "execution_count": null,
   "id": "db39876e",
   "metadata": {},
   "outputs": [
    {
     "name": "stdout",
     "output_type": "stream",
     "text": [
      "processDelta(self: pyivp.XYGrid, arg0: str) -> bool\n",
      "\n",
      "use a defined string to do setVal and setUtil\n",
      "\n",
      "Input:\n",
      "    definded string(type:str)\n",
      "input example 'old label@ index, old_value , new_value, old_util, new_util'\n",
      "\n",
      "Return:\n",
      "    input valid or not(type:bool)\n",
      "\n"
     ]
    }
   ],
   "source": [
    "print(py8.processDelta.__doc__)"
   ]
  },
  {
   "cell_type": "code",
   "execution_count": null,
   "id": "d235d961",
   "metadata": {},
   "outputs": [
    {
     "name": "stdout",
     "output_type": "stream",
     "text": [
      "Value of index 0 after processDelta type1: -1.0\n",
      "Util of index 0 after processDelta type1: -1.0\n"
     ]
    }
   ],
   "source": [
    "#type1 processDelta(old label@ index, old_value , new_value, old_util, new_util)\n",
    "py8.processDelta('triangle1@ 0, 15, -1, 10, -1')\n",
    "\n",
    "print('Value of index 0 after processDelta type1:', py8.getVal(0))\n",
    "print('Util of index 0 after processDelta type1:', py8.getUtil(0))"
   ]
  },
  {
   "cell_type": "code",
   "execution_count": null,
   "id": "a69d075e",
   "metadata": {},
   "outputs": [
    {
     "name": "stdout",
     "output_type": "stream",
     "text": [
      "Value of index 0 after processDelta type2: 0.0\n"
     ]
    }
   ],
   "source": [
    "#type2 processDelta(old label@ index, old_value , new_value:)\n",
    "py8.processDelta('triangle1@ 0, -1, 0:')\n",
    "\n",
    "print('Value of index 0 after processDelta type2:', py8.getVal(0))"
   ]
  },
  {
   "cell_type": "code",
   "execution_count": null,
   "id": "1bc1013e",
   "metadata": {},
   "outputs": [],
   "source": []
  }
 ],
 "metadata": {
  "kernelspec": {
   "display_name": "Python 3 (ipykernel)",
   "language": "python",
   "name": "python3"
  }
 },
 "nbformat": 4,
 "nbformat_minor": 5
}
